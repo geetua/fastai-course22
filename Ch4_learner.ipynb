{
  "nbformat": 4,
  "nbformat_minor": 0,
  "metadata": {
    "colab": {
      "provenance": [],
      "authorship_tag": "ABX9TyNOKxde/lSJKPDIqiRhII02",
      "include_colab_link": true
    },
    "kernelspec": {
      "name": "python3",
      "display_name": "Python 3"
    },
    "language_info": {
      "name": "python"
    }
  },
  "cells": [
    {
      "cell_type": "markdown",
      "metadata": {
        "id": "view-in-github",
        "colab_type": "text"
      },
      "source": [
        "<a href=\"https://colab.research.google.com/github/geetua/fastai-course22/blob/master/Ch4_learner.ipynb\" target=\"_parent\"><img src=\"https://colab.research.google.com/assets/colab-badge.svg\" alt=\"Open In Colab\"/></a>"
      ]
    },
    {
      "cell_type": "code",
      "execution_count": 2,
      "metadata": {
        "id": "7Yx3Vp-Pz-aJ"
      },
      "outputs": [],
      "source": [
        "#hide\n",
        "! [ -e /content ] && pip install -Uqq fastbook\n",
        "import os\n",
        "os.makedirs ('/content/gdrive/My Drive', exist_ok = True)\n",
        "import fastbook\n",
        "#fastbook.setup_book()"
      ]
    },
    {
      "cell_type": "markdown",
      "source": [
        "Create your own implementation of Learner from scratch, based on the training loop shown in this chapter."
      ],
      "metadata": {
        "id": "Z1AxnbujPNnK"
      }
    },
    {
      "cell_type": "code",
      "source": [
        "#hide\n",
        "from fastai.vision.all import *\n",
        "from fastbook import *\n",
        "\n",
        "matplotlib.rc('image', cmap='Greys')"
      ],
      "metadata": {
        "id": "XSbzTNVw0mBa"
      },
      "execution_count": 3,
      "outputs": []
    },
    {
      "cell_type": "markdown",
      "source": [],
      "metadata": {
        "id": "7x34s4_5PMoM"
      }
    },
    {
      "cell_type": "code",
      "source": [
        "path = untar_data(URLs.MNIST_SAMPLE)"
      ],
      "metadata": {
        "colab": {
          "base_uri": "https://localhost:8080/",
          "height": 37
        },
        "id": "l7ZY0utY0oKX",
        "outputId": "a38aa718-4c57-4443-b344-e29246b4e871"
      },
      "execution_count": 4,
      "outputs": [
        {
          "output_type": "display_data",
          "data": {
            "text/plain": [
              "<IPython.core.display.HTML object>"
            ],
            "text/html": [
              "\n",
              "<style>\n",
              "    /* Turns off some styling */\n",
              "    progress {\n",
              "        /* gets rid of default border in Firefox and Opera. */\n",
              "        border: none;\n",
              "        /* Needs to be in here for Safari polyfill so background images work as expected. */\n",
              "        background-size: auto;\n",
              "    }\n",
              "    progress:not([value]), progress:not([value])::-webkit-progress-bar {\n",
              "        background: repeating-linear-gradient(45deg, #7e7e7e, #7e7e7e 10px, #5c5c5c 10px, #5c5c5c 20px);\n",
              "    }\n",
              "    .progress-bar-interrupted, .progress-bar-interrupted::-webkit-progress-bar {\n",
              "        background: #F44336;\n",
              "    }\n",
              "</style>\n"
            ]
          },
          "metadata": {}
        },
        {
          "output_type": "display_data",
          "data": {
            "text/plain": [
              "<IPython.core.display.HTML object>"
            ],
            "text/html": [
              "\n",
              "    <div>\n",
              "      <progress value='3219456' class='' max='3214948' style='width:300px; height:20px; vertical-align: middle;'></progress>\n",
              "      100.14% [3219456/3214948 00:00&lt;00:00]\n",
              "    </div>\n",
              "    "
            ]
          },
          "metadata": {}
        }
      ]
    },
    {
      "cell_type": "code",
      "source": [],
      "metadata": {
        "colab": {
          "base_uri": "https://localhost:8080/"
        },
        "id": "-WRQ_fNYdmNf",
        "outputId": "73617f10-fcf4-47e2-87a1-3d6ea8f75a51"
      },
      "execution_count": 29,
      "outputs": [
        {
          "output_type": "execute_result",
          "data": {
            "text/plain": [
              "1"
            ]
          },
          "metadata": {},
          "execution_count": 29
        }
      ]
    },
    {
      "cell_type": "code",
      "source": [
        "#hide\n",
        "Path.BASE_PATH = path"
      ],
      "metadata": {
        "id": "tCXyaxCf0u8I"
      },
      "execution_count": 5,
      "outputs": []
    },
    {
      "cell_type": "code",
      "source": [
        "# all files in valid 3+7\n",
        "len(path.ls()[0].ls()[0].ls()) + len(path.ls()[0].ls()[1].ls()) #2038\n",
        "\n",
        "# all files in train 3+7\n",
        "len(path.ls()[2].ls()[0].ls()) + len(path.ls()[2].ls()[1].ls()) #12396\n",
        "\n"
      ],
      "metadata": {
        "colab": {
          "base_uri": "https://localhost:8080/"
        },
        "id": "wNDebqbge38v",
        "outputId": "5b3398c5-3acb-41d4-dd1a-441eb86b5af4"
      },
      "execution_count": 67,
      "outputs": [
        {
          "output_type": "execute_result",
          "data": {
            "text/plain": [
              "12396"
            ]
          },
          "metadata": {},
          "execution_count": 67
        }
      ]
    },
    {
      "cell_type": "code",
      "source": [
        "threes = (path/'train'/'3').ls().sorted()\n",
        "sevens = (path/'train'/'7').ls().sorted()\n",
        "threes"
      ],
      "metadata": {
        "colab": {
          "base_uri": "https://localhost:8080/"
        },
        "id": "ySjntTXKVy16",
        "outputId": "fe85c187-70f4-487b-e9fa-219215bd28ea"
      },
      "execution_count": 7,
      "outputs": [
        {
          "output_type": "execute_result",
          "data": {
            "text/plain": [
              "(#6131) [Path('train/3/10.png'),Path('train/3/10000.png'),Path('train/3/10011.png'),Path('train/3/10031.png'),Path('train/3/10034.png'),Path('train/3/10042.png'),Path('train/3/10052.png'),Path('train/3/1007.png'),Path('train/3/10074.png'),Path('train/3/10091.png')...]"
            ]
          },
          "metadata": {},
          "execution_count": 7
        }
      ]
    },
    {
      "cell_type": "code",
      "source": [
        "# lets create the 3s and 7s data set\n",
        "seven_tensors = [tensor(Image.open(o)) for o in sevens]\n",
        "three_tensors = [tensor(Image.open(o)) for o in threes]\n",
        "len(three_tensors),len(seven_tensors)"
      ],
      "metadata": {
        "id": "sFWjRG-T0v9j",
        "colab": {
          "base_uri": "https://localhost:8080/"
        },
        "outputId": "1c66240b-4936-4efa-b8d8-e3eccb89f809"
      },
      "execution_count": 8,
      "outputs": [
        {
          "output_type": "execute_result",
          "data": {
            "text/plain": [
              "(6131, 6265)"
            ]
          },
          "metadata": {},
          "execution_count": 8
        }
      ]
    },
    {
      "cell_type": "code",
      "source": [
        "stacked_sevens = torch.stack(seven_tensors).float()/255\n",
        "stacked_threes = torch.stack(three_tensors).float()/255\n",
        "stacked_threes.shape"
      ],
      "metadata": {
        "colab": {
          "base_uri": "https://localhost:8080/"
        },
        "id": "2pQ3rJ39V8lP",
        "outputId": "934d519d-a6b3-4c5f-9693-c28e0f48033a"
      },
      "execution_count": 9,
      "outputs": [
        {
          "output_type": "execute_result",
          "data": {
            "text/plain": [
              "torch.Size([6131, 28, 28])"
            ]
          },
          "metadata": {},
          "execution_count": 9
        }
      ]
    },
    {
      "cell_type": "code",
      "source": [],
      "metadata": {
        "id": "vIg8ts6QZ_nR"
      },
      "execution_count": null,
      "outputs": []
    },
    {
      "cell_type": "markdown",
      "source": [
        "# Creating a data block\n"
      ],
      "metadata": {
        "id": "rBL0RIoiiiym"
      }
    },
    {
      "cell_type": "code",
      "source": [
        "dblock = DataBlock(\n",
        "            blocks=(ImageBlock, CategoryBlock),\n",
        "            get_items=get_image_files,\n",
        "            splitter=GrandparentSplitter(train_name='train', valid_name='valid'),\n",
        "            get_y=parent_label)\n",
        "dls = dblock.dataloaders(path)"
      ],
      "metadata": {
        "id": "fBZBy7uLWIvV"
      },
      "execution_count": 77,
      "outputs": []
    },
    {
      "cell_type": "code",
      "source": [
        "dls"
      ],
      "metadata": {
        "colab": {
          "base_uri": "https://localhost:8080/"
        },
        "id": "WafJAxTQieRP",
        "outputId": "074061fb-9b84-4835-c213-be0c0c8fca6a"
      },
      "execution_count": 78,
      "outputs": [
        {
          "output_type": "execute_result",
          "data": {
            "text/plain": [
              "<fastai.data.core.DataLoaders at 0x7a4e18f94fa0>"
            ]
          },
          "metadata": {},
          "execution_count": 78
        }
      ]
    },
    {
      "cell_type": "code",
      "source": [
        "items = get_image_files(path)\n",
        "items"
      ],
      "metadata": {
        "colab": {
          "base_uri": "https://localhost:8080/"
        },
        "id": "b8MFzr6xbucz",
        "outputId": "e24fcbb2-ba61-4184-8b9b-a598549add76"
      },
      "execution_count": 41,
      "outputs": [
        {
          "output_type": "execute_result",
          "data": {
            "text/plain": [
              "(#14434) [Path('valid/3/6801.png'),Path('valid/3/7104.png'),Path('valid/3/5814.png'),Path('valid/3/6381.png'),Path('valid/3/6481.png'),Path('valid/3/2533.png'),Path('valid/3/369.png'),Path('valid/3/8070.png'),Path('valid/3/7841.png'),Path('valid/3/7690.png')...]"
            ]
          },
          "metadata": {},
          "execution_count": 41
        }
      ]
    },
    {
      "cell_type": "code",
      "source": [
        "im = PILImageBW.create(items[0])\n",
        "im"
      ],
      "metadata": {
        "colab": {
          "base_uri": "https://localhost:8080/",
          "height": 45
        },
        "id": "pDE_LRe2b11t",
        "outputId": "edea54fc-c2dd-4340-8108-b29778761c54"
      },
      "execution_count": 15,
      "outputs": [
        {
          "output_type": "execute_result",
          "data": {
            "text/plain": [
              "PILImageBW mode=L size=28x28"
            ],
            "image/png": "[encoded data removed]",
            "image/jpeg": "[encoded data removed]"
          },
          "metadata": {},
          "execution_count": 15
        }
      ]
    },
    {
      "cell_type": "code",
      "source": [
        "gs_splits = GrandparentSplitter(train_name='train', valid_name='valid')"
      ],
      "metadata": {
        "id": "mtVthj-lcA-t"
      },
      "execution_count": 73,
      "outputs": []
    },
    {
      "cell_type": "code",
      "source": [
        "splits = gs_splits(items)\n",
        "type(splits)"
      ],
      "metadata": {
        "colab": {
          "base_uri": "https://localhost:8080/"
        },
        "id": "u-80O6xlcTfl",
        "outputId": "656281a2-4bf2-4fbd-d269-1b3f785b6b99"
      },
      "execution_count": 76,
      "outputs": [
        {
          "output_type": "execute_result",
          "data": {
            "text/plain": [
              "tuple"
            ]
          },
          "metadata": {},
          "execution_count": 76
        }
      ]
    },
    {
      "cell_type": "code",
      "source": [
        "splits[0][:5], splits[1][:5]\n",
        "len(splits[0]), len(splits[1])"
      ],
      "metadata": {
        "colab": {
          "base_uri": "https://localhost:8080/"
        },
        "id": "gsVxzP15cn23",
        "outputId": "2375a775-82ab-4c27-8d02-3360a66c8c56"
      },
      "execution_count": 75,
      "outputs": [
        {
          "output_type": "execute_result",
          "data": {
            "text/plain": [
              "(12396, 2038)"
            ]
          },
          "metadata": {},
          "execution_count": 75
        }
      ]
    },
    {
      "cell_type": "markdown",
      "source": [],
      "metadata": {
        "id": "YfrHRMCbihoV"
      }
    },
    {
      "cell_type": "markdown",
      "source": [
        "# Creating the Model\n"
      ],
      "metadata": {
        "id": "ikHL43MMivFL"
      }
    },
    {
      "cell_type": "code",
      "source": [
        "simple_net = nn.Sequential(\n",
        "    nn.Linear(28*28,30),\n",
        "    nn.ReLU(),\n",
        "    nn.Linear(30,1)\n",
        ")"
      ],
      "metadata": {
        "id": "I4bxTiiBiyu6"
      },
      "execution_count": 79,
      "outputs": []
    },
    {
      "cell_type": "code",
      "source": [],
      "metadata": {
        "id": "sPPAkKh-itus"
      },
      "execution_count": null,
      "outputs": []
    },
    {
      "cell_type": "markdown",
      "source": [
        "# Defining Optimizer"
      ],
      "metadata": {
        "id": "L1HckCIgi8fx"
      }
    },
    {
      "cell_type": "code",
      "source": [
        "opt_func = partial(Adam, lr=3e-3)"
      ],
      "metadata": {
        "id": "nhyjDNXji_hw"
      },
      "execution_count": 80,
      "outputs": []
    },
    {
      "cell_type": "markdown",
      "source": [
        "# Loss **Function**"
      ],
      "metadata": {
        "id": "qnHdKtjljPM2"
      }
    },
    {
      "cell_type": "code",
      "source": [
        "\n",
        "def mnist_loss(predictions, targets):\n",
        "    return torch.where(targets==1, 1-predictions, predictions).mean()\n",
        "\n",
        "loss_func=mnist_loss"
      ],
      "metadata": {
        "id": "uAXswbzCjRoE"
      },
      "execution_count": 82,
      "outputs": []
    },
    {
      "cell_type": "markdown",
      "source": [
        "# Metrics Definition"
      ],
      "metadata": {
        "id": "aV0sjXnMjfqB"
      }
    },
    {
      "cell_type": "code",
      "source": [
        "def batch_accuracy(xb, yb):\n",
        "    preds = xb.sigmoid()\n",
        "    correct = (preds>0.5) == yb\n",
        "    return correct.float().mean()\n",
        "metrics=batch_accuracy"
      ],
      "metadata": {
        "id": "H66rVFwDjiYM"
      },
      "execution_count": 83,
      "outputs": []
    },
    {
      "cell_type": "markdown",
      "source": [
        "# Defining Learner"
      ],
      "metadata": {
        "id": "WCrQmPBKjzDR"
      }
    },
    {
      "cell_type": "code",
      "source": [
        "def Learner(dls, model, loss_func, opt_func, metrics=None, cbs=None):\n",
        "        return LearnerBase(dls, model, loss_func, opt_func, metrics, cbs)\n",
        "\n",
        "class LearnerBase:\n",
        "  def __init__(self, dls, model, loss_func, opt_func, metrics=None, cbs=None):\n",
        "                      self.dls = dls\n",
        "                      self.model = model\n",
        "                      self.loss_func = loss_func\n",
        "                      self.opt_func = opt_func\n",
        "                      self.metrics = metrics\n",
        "                      self.cbs = cbs"
      ],
      "metadata": {
        "id": "8u6V0A4BjyMh"
      },
      "execution_count": 86,
      "outputs": []
    }
  ]
}