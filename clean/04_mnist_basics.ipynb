{
  "cells": [
    {
      "cell_type": "code",
      "execution_count": 2,
      "metadata": {
        "id": "J4ulxew5KH9J",
        "outputId": "a37f6192-7416-4475-cbd2-cbfb86885c2e",
        "colab": {
          "base_uri": "https://localhost:8080/"
        }
      },
      "outputs": [
        {
          "output_type": "stream",
          "name": "stdout",
          "text": [
            "\u001b[2K   \u001b[90m━━━━━━━━━━━━━━━━━━━━━━━━━━━━━━━━━━━━━━━━\u001b[0m \u001b[32m719.8/719.8 kB\u001b[0m \u001b[31m6.9 MB/s\u001b[0m eta \u001b[36m0:00:00\u001b[0m\n",
            "\u001b[2K   \u001b[90m━━━━━━━━━━━━━━━━━━━━━━━━━━━━━━━━━━━━━━━━\u001b[0m \u001b[32m480.6/480.6 kB\u001b[0m \u001b[31m29.3 MB/s\u001b[0m eta \u001b[36m0:00:00\u001b[0m\n",
            "\u001b[2K   \u001b[90m━━━━━━━━━━━━━━━━━━━━━━━━━━━━━━━━━━━━━━━━\u001b[0m \u001b[32m116.3/116.3 kB\u001b[0m \u001b[31m2.3 MB/s\u001b[0m eta \u001b[36m0:00:00\u001b[0m\n",
            "\u001b[2K   \u001b[90m━━━━━━━━━━━━━━━━━━━━━━━━━━━━━━━━━━━━━━━━\u001b[0m \u001b[32m179.3/179.3 kB\u001b[0m \u001b[31m7.3 MB/s\u001b[0m eta \u001b[36m0:00:00\u001b[0m\n",
            "\u001b[2K   \u001b[90m━━━━━━━━━━━━━━━━━━━━━━━━━━━━━━━━━━━━━━━━\u001b[0m \u001b[32m134.8/134.8 kB\u001b[0m \u001b[31m8.4 MB/s\u001b[0m eta \u001b[36m0:00:00\u001b[0m\n",
            "\u001b[2K   \u001b[90m━━━━━━━━━━━━━━━━━━━━━━━━━━━━━━━━━━━━━━━━\u001b[0m \u001b[32m194.1/194.1 kB\u001b[0m \u001b[31m13.9 MB/s\u001b[0m eta \u001b[36m0:00:00\u001b[0m\n",
            "\u001b[2K   \u001b[90m━━━━━━━━━━━━━━━━━━━━━━━━━━━━━━━━━━━━━━━━\u001b[0m \u001b[32m1.6/1.6 MB\u001b[0m \u001b[31m25.0 MB/s\u001b[0m eta \u001b[36m0:00:00\u001b[0m\n",
            "\u001b[?25h\u001b[31mERROR: pip's dependency resolver does not currently take into account all the packages that are installed. This behaviour is the source of the following dependency conflicts.\n",
            "gcsfs 2024.10.0 requires fsspec==2024.10.0, but you have fsspec 2024.9.0 which is incompatible.\u001b[0m\u001b[31m\n",
            "\u001b[0mMounted at /content/gdrive\n"
          ]
        }
      ],
      "source": [
        "#hide\n",
        "! [ -e /content ] && pip install -Uqq fastbook\n",
        "import fastbook\n",
        "fastbook.setup_book()"
      ]
    },
    {
      "cell_type": "code",
      "execution_count": 3,
      "metadata": {
        "id": "XTj1x6zAKH9K"
      },
      "outputs": [],
      "source": [
        "#hide\n",
        "from fastai.vision.all import *\n",
        "from fastbook import *\n",
        "\n",
        "matplotlib.rc('image', cmap='Greys')"
      ]
    },
    {
      "cell_type": "markdown",
      "metadata": {
        "id": "wfXNE6xcKH9L"
      },
      "source": [
        "# Under the Hood: Training a Digit Classifier"
      ]
    },
    {
      "cell_type": "markdown",
      "metadata": {
        "id": "CnEy6xtGKH9M"
      },
      "source": [
        "## Pixels: The Foundations of Computer Vision"
      ]
    },
    {
      "cell_type": "markdown",
      "metadata": {
        "id": "taSikpnfKH9M"
      },
      "source": [
        "## Sidebar: Tenacity and Deep Learning"
      ]
    },
    {
      "cell_type": "markdown",
      "metadata": {
        "id": "aPGvKkRqKH9N"
      },
      "source": [
        "## End sidebar"
      ]
    },
    {
      "cell_type": "code",
      "execution_count": 4,
      "metadata": {
        "id": "EzXVT-q9KH9N",
        "outputId": "b637ee65-3487-428d-d5bb-7f096ad29631",
        "colab": {
          "base_uri": "https://localhost:8080/",
          "height": 37
        }
      },
      "outputs": [
        {
          "output_type": "display_data",
          "data": {
            "text/plain": [
              "<IPython.core.display.HTML object>"
            ],
            "text/html": [
              "\n",
              "<style>\n",
              "    /* Turns off some styling */\n",
              "    progress {\n",
              "        /* gets rid of default border in Firefox and Opera. */\n",
              "        border: none;\n",
              "        /* Needs to be in here for Safari polyfill so background images work as expected. */\n",
              "        background-size: auto;\n",
              "    }\n",
              "    progress:not([value]), progress:not([value])::-webkit-progress-bar {\n",
              "        background: repeating-linear-gradient(45deg, #7e7e7e, #7e7e7e 10px, #5c5c5c 10px, #5c5c5c 20px);\n",
              "    }\n",
              "    .progress-bar-interrupted, .progress-bar-interrupted::-webkit-progress-bar {\n",
              "        background: #F44336;\n",
              "    }\n",
              "</style>\n"
            ]
          },
          "metadata": {}
        },
        {
          "output_type": "display_data",
          "data": {
            "text/plain": [
              "<IPython.core.display.HTML object>"
            ],
            "text/html": [
              "\n",
              "    <div>\n",
              "      <progress value='3219456' class='' max='3214948' style='width:300px; height:20px; vertical-align: middle;'></progress>\n",
              "      100.14% [3219456/3214948 00:00&lt;00:00]\n",
              "    </div>\n",
              "    "
            ]
          },
          "metadata": {}
        }
      ],
      "source": [
        "path = untar_data(URLs.MNIST_SAMPLE)"
      ]
    },
    {
      "cell_type": "code",
      "source": [
        "path"
      ],
      "metadata": {
        "id": "vZcN1fjlz_TV",
        "outputId": "602ec132-c221-41d1-f70b-920f54d47cb9",
        "colab": {
          "base_uri": "https://localhost:8080/"
        }
      },
      "execution_count": 5,
      "outputs": [
        {
          "output_type": "execute_result",
          "data": {
            "text/plain": [
              "Path('/root/.fastai/data/mnist_sample')"
            ]
          },
          "metadata": {},
          "execution_count": 5
        }
      ]
    },
    {
      "cell_type": "code",
      "execution_count": 6,
      "metadata": {
        "id": "gBBbM2ZNKH9O",
        "outputId": "a0e851e0-448f-4e8c-ef11-c1146d8f5bf8",
        "colab": {
          "base_uri": "https://localhost:8080/"
        }
      },
      "outputs": [
        {
          "output_type": "execute_result",
          "data": {
            "text/plain": [
              "Path('.')"
            ]
          },
          "metadata": {},
          "execution_count": 6
        }
      ],
      "source": [
        "#hide\n",
        "Path.BASE_PATH = path\n",
        "path"
      ]
    },
    {
      "cell_type": "code",
      "execution_count": 7,
      "metadata": {
        "id": "Tt6I6KlLKH9O",
        "outputId": "d6972582-c642-4635-b1d6-9864f697f0a5",
        "colab": {
          "base_uri": "https://localhost:8080/"
        }
      },
      "outputs": [
        {
          "output_type": "execute_result",
          "data": {
            "text/plain": [
              "(#3) [Path('valid'),Path('labels.csv'),Path('train')]"
            ]
          },
          "metadata": {},
          "execution_count": 7
        }
      ],
      "source": [
        "path.ls()"
      ]
    },
    {
      "cell_type": "code",
      "execution_count": 8,
      "metadata": {
        "id": "_VZQWtEVKH9O",
        "outputId": "7a71b71a-8930-4d9c-ad28-e2b3d614f4e4",
        "colab": {
          "base_uri": "https://localhost:8080/"
        }
      },
      "outputs": [
        {
          "output_type": "execute_result",
          "data": {
            "text/plain": [
              "(#2) [Path('train/7'),Path('train/3')]"
            ]
          },
          "metadata": {},
          "execution_count": 8
        }
      ],
      "source": [
        "(path/'train').ls()"
      ]
    },
    {
      "cell_type": "code",
      "execution_count": 9,
      "metadata": {
        "id": "L0-vBbrUKH9P",
        "outputId": "c4eaa9b5-f66d-41a1-b143-c672c137e4e0",
        "colab": {
          "base_uri": "https://localhost:8080/"
        }
      },
      "outputs": [
        {
          "output_type": "execute_result",
          "data": {
            "text/plain": [
              "(#6131) [Path('train/3/10.png'),Path('train/3/10000.png'),Path('train/3/10011.png'),Path('train/3/10031.png'),Path('train/3/10034.png'),Path('train/3/10042.png'),Path('train/3/10052.png'),Path('train/3/1007.png'),Path('train/3/10074.png'),Path('train/3/10091.png')...]"
            ]
          },
          "metadata": {},
          "execution_count": 9
        }
      ],
      "source": [
        "threes = (path/'train'/'3').ls().sorted()\n",
        "sevens = (path/'train'/'7').ls().sorted()\n",
        "threes"
      ]
    },
    {
      "cell_type": "code",
      "execution_count": 10,
      "metadata": {
        "id": "aasOSQjbKH9P",
        "outputId": "c2a7dd89-6e9f-433a-fddf-0e3ec77192d9",
        "colab": {
          "base_uri": "https://localhost:8080/",
          "height": 45
        }
      },
      "outputs": [
        {
          "output_type": "execute_result",
          "data": {
            "text/plain": [
              "<PIL.PngImagePlugin.PngImageFile image mode=L size=28x28>"
            ],
            "image/png": "[encoded data removed]",
            "image/jpeg": "[encoded data removed]"
          },
          "metadata": {},
          "execution_count": 10
        }
      ],
      "source": [
        "im3_path = threes[1]\n",
        "im3 = Image.open(im3_path)\n",
        "im3"
      ]
    },
    {
      "cell_type": "code",
      "source": [
        "type(im3)"
      ],
      "metadata": {
        "id": "_ZQHqid27a_4",
        "outputId": "5520f902-1149-4e1f-cc9f-71e3298bc489",
        "colab": {
          "base_uri": "https://localhost:8080/",
          "height": 121
        }
      },
      "execution_count": 11,
      "outputs": [
        {
          "output_type": "execute_result",
          "data": {
            "text/plain": [
              "PIL.PngImagePlugin.PngImageFile"
            ],
            "text/html": [
              "<div style=\"max-width:800px; border: 1px solid var(--colab-border-color);\"><style>\n",
              "      pre.function-repr-contents {\n",
              "        overflow-x: auto;\n",
              "        padding: 8px 12px;\n",
              "        max-height: 500px;\n",
              "      }\n",
              "\n",
              "      pre.function-repr-contents.function-repr-contents-collapsed {\n",
              "        cursor: pointer;\n",
              "        max-height: 100px;\n",
              "      }\n",
              "    </style>\n",
              "    <pre style=\"white-space: initial; background:\n",
              "         var(--colab-secondary-surface-color); padding: 8px 12px;\n",
              "         border-bottom: 1px solid var(--colab-border-color);\"><b>PIL.PngImagePlugin.PngImageFile</b><br/>def __init__(fp=None, filename=None)</pre><pre class=\"function-repr-contents function-repr-contents-collapsed\" style=\"\"><a class=\"filepath\" style=\"display:none\" href=\"#\">/usr/local/lib/python3.10/dist-packages/PIL/PngImagePlugin.py</a>Base class for image file format handlers.</pre>\n",
              "      <script>\n",
              "      if (google.colab.kernel.accessAllowed && google.colab.files && google.colab.files.view) {\n",
              "        for (const element of document.querySelectorAll('.filepath')) {\n",
              "          element.style.display = 'block'\n",
              "          element.onclick = (event) => {\n",
              "            event.preventDefault();\n",
              "            event.stopPropagation();\n",
              "            google.colab.files.view(element.textContent, 725);\n",
              "          };\n",
              "        }\n",
              "      }\n",
              "      for (const element of document.querySelectorAll('.function-repr-contents')) {\n",
              "        element.onclick = (event) => {\n",
              "          event.preventDefault();\n",
              "          event.stopPropagation();\n",
              "          element.classList.toggle('function-repr-contents-collapsed');\n",
              "        };\n",
              "      }\n",
              "      </script>\n",
              "      </div>"
            ]
          },
          "metadata": {},
          "execution_count": 11
        }
      ]
    },
    {
      "cell_type": "code",
      "execution_count": 12,
      "metadata": {
        "id": "ftczi3moKH9Q",
        "outputId": "b9296188-e48d-4426-98c4-6b54dc426381",
        "colab": {
          "base_uri": "https://localhost:8080/"
        }
      },
      "outputs": [
        {
          "output_type": "execute_result",
          "data": {
            "text/plain": [
              "array([[  0,   0,   0,   0,   0,   0],\n",
              "       [  0,   0,   0,   0,   0,  29],\n",
              "       [  0,   0,   0,  48, 166, 224],\n",
              "       [  0,  93, 244, 249, 253, 187],\n",
              "       [  0, 107, 253, 253, 230,  48],\n",
              "       [  0,   3,  20,  20,  15,   0]], dtype=uint8)"
            ]
          },
          "metadata": {},
          "execution_count": 12
        }
      ],
      "source": [
        "array(im3)[4:10,4:10]"
      ]
    },
    {
      "cell_type": "code",
      "execution_count": 13,
      "metadata": {
        "id": "poKdW6evKH9Q",
        "outputId": "f95f1d71-66c1-44b2-92da-ef90f4d4ed99",
        "colab": {
          "base_uri": "https://localhost:8080/"
        }
      },
      "outputs": [
        {
          "output_type": "execute_result",
          "data": {
            "text/plain": [
              "tensor([[  0,   0,   0,   0,   0,   0],\n",
              "        [  0,   0,   0,   0,   0,  29],\n",
              "        [  0,   0,   0,  48, 166, 224],\n",
              "        [  0,  93, 244, 249, 253, 187],\n",
              "        [  0, 107, 253, 253, 230,  48],\n",
              "        [  0,   3,  20,  20,  15,   0]], dtype=torch.uint8)"
            ]
          },
          "metadata": {},
          "execution_count": 13
        }
      ],
      "source": [
        "tensor(im3)[4:10,4:10]"
      ]
    },
    {
      "cell_type": "code",
      "execution_count": 14,
      "metadata": {
        "id": "N7s0YgbeKH9R",
        "outputId": "cb62263f-3a59-4319-bca7-1abe375a42eb",
        "colab": {
          "base_uri": "https://localhost:8080/",
          "height": 429
        }
      },
      "outputs": [
        {
          "output_type": "execute_result",
          "data": {
            "text/plain": [
              "0       0\n",
              "1       0\n",
              "2       0\n",
              "3      93\n",
              "4     107\n",
              "5       3\n",
              "6       0\n",
              "7       0\n",
              "8       0\n",
              "9       0\n",
              "10      0\n",
              "Name: 1, dtype: uint8"
            ],
            "text/html": [
              "<div>\n",
              "<style scoped>\n",
              "    .dataframe tbody tr th:only-of-type {\n",
              "        vertical-align: middle;\n",
              "    }\n",
              "\n",
              "    .dataframe tbody tr th {\n",
              "        vertical-align: top;\n",
              "    }\n",
              "\n",
              "    .dataframe thead th {\n",
              "        text-align: right;\n",
              "    }\n",
              "</style>\n",
              "<table border=\"1\" class=\"dataframe\">\n",
              "  <thead>\n",
              "    <tr style=\"text-align: right;\">\n",
              "      <th></th>\n",
              "      <th>1</th>\n",
              "    </tr>\n",
              "  </thead>\n",
              "  <tbody>\n",
              "    <tr>\n",
              "      <th>0</th>\n",
              "      <td>0</td>\n",
              "    </tr>\n",
              "    <tr>\n",
              "      <th>1</th>\n",
              "      <td>0</td>\n",
              "    </tr>\n",
              "    <tr>\n",
              "      <th>2</th>\n",
              "      <td>0</td>\n",
              "    </tr>\n",
              "    <tr>\n",
              "      <th>3</th>\n",
              "      <td>93</td>\n",
              "    </tr>\n",
              "    <tr>\n",
              "      <th>4</th>\n",
              "      <td>107</td>\n",
              "    </tr>\n",
              "    <tr>\n",
              "      <th>5</th>\n",
              "      <td>3</td>\n",
              "    </tr>\n",
              "    <tr>\n",
              "      <th>6</th>\n",
              "      <td>0</td>\n",
              "    </tr>\n",
              "    <tr>\n",
              "      <th>7</th>\n",
              "      <td>0</td>\n",
              "    </tr>\n",
              "    <tr>\n",
              "      <th>8</th>\n",
              "      <td>0</td>\n",
              "    </tr>\n",
              "    <tr>\n",
              "      <th>9</th>\n",
              "      <td>0</td>\n",
              "    </tr>\n",
              "    <tr>\n",
              "      <th>10</th>\n",
              "      <td>0</td>\n",
              "    </tr>\n",
              "  </tbody>\n",
              "</table>\n",
              "</div><br><label><b>dtype:</b> uint8</label>"
            ]
          },
          "metadata": {},
          "execution_count": 14
        }
      ],
      "source": [
        "im3_t = tensor(im3)\n",
        "df = pd.DataFrame(im3_t[4:15,4:22])\n",
        "df.style.set_properties(**{'font-size':'6pt'}).background_gradient('Greys')\n",
        "\n",
        "df[1]"
      ]
    },
    {
      "source": [
        "# @title 1\n",
        "\n",
        "from matplotlib import pyplot as plt\n",
        "df[1].plot(kind='hist', bins=20, title=1)\n",
        "plt.gca().spines[['top', 'right',]].set_visible(False)"
      ],
      "cell_type": "code",
      "execution_count": 15,
      "outputs": [
        {
          "output_type": "display_data",
          "data": {
            "text/plain": [
              "<Figure size 640x480 with 1 Axes>"
            ],
            "image/png": "[encoded data removed]"
          },
          "metadata": {}
        }
      ],
      "metadata": {
        "id": "gAy_ryCX1FVu",
        "outputId": "e3c3db3e-64a3-4e2a-fb10-e32b5aa9d5d8",
        "colab": {
          "base_uri": "https://localhost:8080/",
          "height": 457
        }
      }
    },
    {
      "cell_type": "code",
      "source": [
        "df2 = pd.DataFrame(im3_t)\n",
        "df2.style.set_properties(**{'font-size':'6pt'}).background_gradient('Greys')"
      ],
      "metadata": {
        "id": "xYRy56Fw2Jdy",
        "outputId": "c21274cb-8ae1-4b41-c314-1356bfdcb6b8",
        "colab": {
          "base_uri": "https://localhost:8080/",
          "height": 927
        }
      },
      "execution_count": 16,
      "outputs": [
        {
          "output_type": "execute_result",
          "data": {
            "text/plain": [
              "<pandas.io.formats.style.Styler at 0x793aaef1d360>"
            ],
            "text/html": [
              "<style type=\"text/css\">\n",
              "#T_8f4fd_row0_col0, #T_8f4fd_row0_col1, #T_8f4fd_row0_col2, #T_8f4fd_row0_col3, #T_8f4fd_row0_col4, #T_8f4fd_row0_col5, #T_8f4fd_row0_col6, #T_8f4fd_row0_col7, #T_8f4fd_row0_col8, #T_8f4fd_row0_col9, #T_8f4fd_row0_col10, #T_8f4fd_row0_col11, #T_8f4fd_row0_col12, #T_8f4fd_row0_col13, #T_8f4fd_row0_col14, #T_8f4fd_row0_col15, #T_8f4fd_row0_col16, #T_8f4fd_row0_col17, #T_8f4fd_row0_col18, #T_8f4fd_row0_col19, #T_8f4fd_row0_col20, #T_8f4fd_row0_col21, #T_8f4fd_row0_col22, #T_8f4fd_row0_col23, #T_8f4fd_row0_col24, #T_8f4fd_row0_col25, #T_8f4fd_row0_col26, #T_8f4fd_row0_col27, #T_8f4fd_row1_col0, #T_8f4fd_row1_col1, #T_8f4fd_row1_col2, #T_8f4fd_row1_col3, #T_8f4fd_row1_col4, #T_8f4fd_row1_col5, #T_8f4fd_row1_col6, #T_8f4fd_row1_col7, #T_8f4fd_row1_col8, #T_8f4fd_row1_col9, #T_8f4fd_row1_col10, #T_8f4fd_row1_col11, #T_8f4fd_row1_col12, #T_8f4fd_row1_col13, #T_8f4fd_row1_col14, #T_8f4fd_row1_col15, #T_8f4fd_row1_col16, #T_8f4fd_row1_col17, #T_8f4fd_row1_col18, #T_8f4fd_row1_col19, #T_8f4fd_row1_col20, #T_8f4fd_row1_col21, #T_8f4fd_row1_col22, #T_8f4fd_row1_col23, #T_8f4fd_row1_col24, #T_8f4fd_row1_col25, #T_8f4fd_row1_col26, #T_8f4fd_row1_col27, #T_8f4fd_row2_col0, #T_8f4fd_row2_col1, #T_8f4fd_row2_col2, #T_8f4fd_row2_col3, #T_8f4fd_row2_col4, #T_8f4fd_row2_col5, #T_8f4fd_row2_col6, #T_8f4fd_row2_col7, #T_8f4fd_row2_col8, #T_8f4fd_row2_col9, #T_8f4fd_row2_col10, #T_8f4fd_row2_col11, #T_8f4fd_row2_col12, #T_8f4fd_row2_col13, #T_8f4fd_row2_col14, #T_8f4fd_row2_col15, #T_8f4fd_row2_col16, #T_8f4fd_row2_col17, #T_8f4fd_row2_col18, #T_8f4fd_row2_col19, #T_8f4fd_row2_col20, #T_8f4fd_row2_col21, #T_8f4fd_row2_col22, #T_8f4fd_row2_col23, #T_8f4fd_row2_col24, #T_8f4fd_row2_col25, #T_8f4fd_row2_col26, #T_8f4fd_row2_col27, #T_8f4fd_row3_col0, #T_8f4fd_row3_col1, #T_8f4fd_row3_col2, #T_8f4fd_row3_col3, #T_8f4fd_row3_col4, #T_8f4fd_row3_col5, #T_8f4fd_row3_col6, #T_8f4fd_row3_col7, #T_8f4fd_row3_col8, #T_8f4fd_row3_col9, #T_8f4fd_row3_col10, #T_8f4fd_row3_col11, #T_8f4fd_row3_col12, #T_8f4fd_row3_col13, #T_8f4fd_row3_col14, #T_8f4fd_row3_col15, #T_8f4fd_row3_col16, #T_8f4fd_row3_col17, #T_8f4fd_row3_col18, #T_8f4fd_row3_col19, #T_8f4fd_row3_col20, #T_8f4fd_row3_col21, #T_8f4fd_row3_col22, #T_8f4fd_row3_col23, #T_8f4fd_row3_col24, #T_8f4fd_row3_col25, #T_8f4fd_row3_col26, #T_8f4fd_row3_col27, #T_8f4fd_row4_col0, #T_8f4fd_row4_col1, #T_8f4fd_row4_col2, #T_8f4fd_row4_col3, #T_8f4fd_row4_col4, #T_8f4fd_row4_col5, #T_8f4fd_row4_col6, #T_8f4fd_row4_col7, #T_8f4fd_row4_col8, #T_8f4fd_row4_col9, #T_8f4fd_row4_col10, #T_8f4fd_row4_col11, #T_8f4fd_row4_col12, #T_8f4fd_row4_col13, #T_8f4fd_row4_col14, #T_8f4fd_row4_col15, #T_8f4fd_row4_col16, #T_8f4fd_row4_col17, #T_8f4fd_row4_col18, #T_8f4fd_row4_col19, #T_8f4fd_row4_col20, #T_8f4fd_row4_col21, #T_8f4fd_row4_col22, #T_8f4fd_row4_col23, #T_8f4fd_row4_col24, #T_8f4fd_row4_col25, #T_8f4fd_row4_col26, #T_8f4fd_row4_col27, #T_8f4fd_row5_col0, #T_8f4fd_row5_col1, #T_8f4fd_row5_col2, #T_8f4fd_row5_col3, #T_8f4fd_row5_col4, #T_8f4fd_row5_col5, #T_8f4fd_row5_col6, #T_8f4fd_row5_col7, #T_8f4fd_row5_col8, #T_8f4fd_row5_col19, #T_8f4fd_row5_col20, #T_8f4fd_row5_col21, #T_8f4fd_row5_col22, #T_8f4fd_row5_col23, #T_8f4fd_row5_col24, #T_8f4fd_row5_col25, #T_8f4fd_row5_col26, #T_8f4fd_row5_col27, #T_8f4fd_row6_col0, #T_8f4fd_row6_col1, #T_8f4fd_row6_col2, #T_8f4fd_row6_col3, #T_8f4fd_row6_col4, #T_8f4fd_row6_col5, #T_8f4fd_row6_col6, #T_8f4fd_row6_col19, #T_8f4fd_row6_col20, #T_8f4fd_row6_col21, #T_8f4fd_row6_col22, #T_8f4fd_row6_col23, #T_8f4fd_row6_col24, #T_8f4fd_row6_col25, #T_8f4fd_row6_col26, #T_8f4fd_row6_col27, #T_8f4fd_row7_col0, #T_8f4fd_row7_col1, #T_8f4fd_row7_col2, #T_8f4fd_row7_col3, #T_8f4fd_row7_col4, #T_8f4fd_row7_col19, #T_8f4fd_row7_col20, #T_8f4fd_row7_col21, #T_8f4fd_row7_col22, #T_8f4fd_row7_col23, #T_8f4fd_row7_col24, #T_8f4fd_row7_col25, #T_8f4fd_row7_col26, #T_8f4fd_row7_col27, #T_8f4fd_row8_col0, #T_8f4fd_row8_col1, #T_8f4fd_row8_col2, #T_8f4fd_row8_col3, #T_8f4fd_row8_col4, #T_8f4fd_row8_col10, #T_8f4fd_row8_col11, #T_8f4fd_row8_col12, #T_8f4fd_row8_col13, #T_8f4fd_row8_col14, #T_8f4fd_row8_col19, #T_8f4fd_row8_col20, #T_8f4fd_row8_col21, #T_8f4fd_row8_col22, #T_8f4fd_row8_col23, #T_8f4fd_row8_col24, #T_8f4fd_row8_col25, #T_8f4fd_row8_col26, #T_8f4fd_row8_col27, #T_8f4fd_row9_col0, #T_8f4fd_row9_col1, #T_8f4fd_row9_col2, #T_8f4fd_row9_col3, #T_8f4fd_row9_col4, #T_8f4fd_row9_col9, #T_8f4fd_row9_col10, #T_8f4fd_row9_col11, #T_8f4fd_row9_col12, #T_8f4fd_row9_col13, #T_8f4fd_row9_col19, #T_8f4fd_row9_col20, #T_8f4fd_row9_col21, #T_8f4fd_row9_col22, #T_8f4fd_row9_col23, #T_8f4fd_row9_col24, #T_8f4fd_row9_col25, #T_8f4fd_row9_col26, #T_8f4fd_row9_col27, #T_8f4fd_row10_col0, #T_8f4fd_row10_col1, #T_8f4fd_row10_col2, #T_8f4fd_row10_col3, #T_8f4fd_row10_col4, #T_8f4fd_row10_col5, #T_8f4fd_row10_col6, #T_8f4fd_row10_col7, #T_8f4fd_row10_col8, #T_8f4fd_row10_col9, #T_8f4fd_row10_col10, #T_8f4fd_row10_col11, #T_8f4fd_row10_col12, #T_8f4fd_row10_col13, #T_8f4fd_row10_col18, #T_8f4fd_row10_col19, #T_8f4fd_row10_col20, #T_8f4fd_row10_col21, #T_8f4fd_row10_col22, #T_8f4fd_row10_col23, #T_8f4fd_row10_col24, #T_8f4fd_row10_col25, #T_8f4fd_row10_col26, #T_8f4fd_row10_col27, #T_8f4fd_row11_col0, #T_8f4fd_row11_col1, #T_8f4fd_row11_col2, #T_8f4fd_row11_col3, #T_8f4fd_row11_col4, #T_8f4fd_row11_col5, #T_8f4fd_row11_col6, #T_8f4fd_row11_col7, #T_8f4fd_row11_col8, #T_8f4fd_row11_col9, #T_8f4fd_row11_col10, #T_8f4fd_row11_col17, #T_8f4fd_row11_col18, #T_8f4fd_row11_col19, #T_8f4fd_row11_col20, #T_8f4fd_row11_col21, #T_8f4fd_row11_col22, #T_8f4fd_row11_col23, #T_8f4fd_row11_col24, #T_8f4fd_row11_col25, #T_8f4fd_row11_col26, #T_8f4fd_row11_col27, #T_8f4fd_row12_col0, #T_8f4fd_row12_col1, #T_8f4fd_row12_col2, #T_8f4fd_row12_col3, #T_8f4fd_row12_col4, #T_8f4fd_row12_col5, #T_8f4fd_row12_col6, #T_8f4fd_row12_col7, #T_8f4fd_row12_col8, #T_8f4fd_row12_col17, #T_8f4fd_row12_col18, #T_8f4fd_row12_col19, #T_8f4fd_row12_col20, #T_8f4fd_row12_col21, #T_8f4fd_row12_col22, #T_8f4fd_row12_col23, #T_8f4fd_row12_col24, #T_8f4fd_row12_col25, #T_8f4fd_row12_col26, #T_8f4fd_row12_col27, #T_8f4fd_row13_col0, #T_8f4fd_row13_col1, #T_8f4fd_row13_col2, #T_8f4fd_row13_col3, #T_8f4fd_row13_col4, #T_8f4fd_row13_col5, #T_8f4fd_row13_col6, #T_8f4fd_row13_col7, #T_8f4fd_row13_col8, #T_8f4fd_row13_col20, #T_8f4fd_row13_col21, #T_8f4fd_row13_col22, #T_8f4fd_row13_col23, #T_8f4fd_row13_col24, #T_8f4fd_row13_col25, #T_8f4fd_row13_col26, #T_8f4fd_row13_col27, #T_8f4fd_row14_col0, #T_8f4fd_row14_col1, #T_8f4fd_row14_col2, #T_8f4fd_row14_col3, #T_8f4fd_row14_col4, #T_8f4fd_row14_col5, #T_8f4fd_row14_col6, #T_8f4fd_row14_col7, #T_8f4fd_row14_col8, #T_8f4fd_row14_col9, #T_8f4fd_row14_col10, #T_8f4fd_row14_col21, #T_8f4fd_row14_col22, #T_8f4fd_row14_col23, #T_8f4fd_row14_col24, #T_8f4fd_row14_col25, #T_8f4fd_row14_col26, #T_8f4fd_row14_col27, #T_8f4fd_row15_col0, #T_8f4fd_row15_col1, #T_8f4fd_row15_col2, #T_8f4fd_row15_col3, #T_8f4fd_row15_col4, #T_8f4fd_row15_col5, #T_8f4fd_row15_col6, #T_8f4fd_row15_col7, #T_8f4fd_row15_col8, #T_8f4fd_row15_col9, #T_8f4fd_row15_col10, #T_8f4fd_row15_col11, #T_8f4fd_row15_col12, #T_8f4fd_row15_col13, #T_8f4fd_row15_col21, #T_8f4fd_row15_col22, #T_8f4fd_row15_col23, #T_8f4fd_row15_col24, #T_8f4fd_row15_col25, #T_8f4fd_row15_col26, #T_8f4fd_row15_col27, #T_8f4fd_row16_col0, #T_8f4fd_row16_col1, #T_8f4fd_row16_col2, #T_8f4fd_row16_col3, #T_8f4fd_row16_col4, #T_8f4fd_row16_col5, #T_8f4fd_row16_col6, #T_8f4fd_row16_col7, #T_8f4fd_row16_col8, #T_8f4fd_row16_col9, #T_8f4fd_row16_col10, #T_8f4fd_row16_col11, #T_8f4fd_row16_col12, #T_8f4fd_row16_col13, #T_8f4fd_row16_col14, #T_8f4fd_row16_col15, #T_8f4fd_row16_col16, #T_8f4fd_row16_col21, #T_8f4fd_row16_col22, #T_8f4fd_row16_col23, #T_8f4fd_row16_col24, #T_8f4fd_row16_col25, #T_8f4fd_row16_col26, #T_8f4fd_row16_col27, #T_8f4fd_row17_col0, #T_8f4fd_row17_col1, #T_8f4fd_row17_col2, #T_8f4fd_row17_col3, #T_8f4fd_row17_col4, #T_8f4fd_row17_col5, #T_8f4fd_row17_col6, #T_8f4fd_row17_col7, #T_8f4fd_row17_col8, #T_8f4fd_row17_col9, #T_8f4fd_row17_col10, #T_8f4fd_row17_col11, #T_8f4fd_row17_col12, #T_8f4fd_row17_col13, #T_8f4fd_row17_col14, #T_8f4fd_row17_col15, #T_8f4fd_row17_col16, #T_8f4fd_row17_col21, #T_8f4fd_row17_col22, #T_8f4fd_row17_col23, #T_8f4fd_row17_col24, #T_8f4fd_row17_col25, #T_8f4fd_row17_col26, #T_8f4fd_row17_col27, #T_8f4fd_row18_col0, #T_8f4fd_row18_col1, #T_8f4fd_row18_col2, #T_8f4fd_row18_col3, #T_8f4fd_row18_col4, #T_8f4fd_row18_col5, #T_8f4fd_row18_col6, #T_8f4fd_row18_col7, #T_8f4fd_row18_col8, #T_8f4fd_row18_col9, #T_8f4fd_row18_col10, #T_8f4fd_row18_col11, #T_8f4fd_row18_col12, #T_8f4fd_row18_col13, #T_8f4fd_row18_col14, #T_8f4fd_row18_col15, #T_8f4fd_row18_col21, #T_8f4fd_row18_col22, #T_8f4fd_row18_col23, #T_8f4fd_row18_col24, #T_8f4fd_row18_col25, #T_8f4fd_row18_col26, #T_8f4fd_row18_col27, #T_8f4fd_row19_col0, #T_8f4fd_row19_col1, #T_8f4fd_row19_col2, #T_8f4fd_row19_col3, #T_8f4fd_row19_col4, #T_8f4fd_row19_col5, #T_8f4fd_row19_col6, #T_8f4fd_row19_col7, #T_8f4fd_row19_col8, #T_8f4fd_row19_col9, #T_8f4fd_row19_col10, #T_8f4fd_row19_col11, #T_8f4fd_row19_col12, #T_8f4fd_row19_col13, #T_8f4fd_row19_col14, #T_8f4fd_row19_col21, #T_8f4fd_row19_col22, #T_8f4fd_row19_col23, #T_8f4fd_row19_col24, #T_8f4fd_row19_col25, #T_8f4fd_row19_col26, #T_8f4fd_row19_col27, #T_8f4fd_row20_col0, #T_8f4fd_row20_col1, #T_8f4fd_row20_col2, #T_8f4fd_row20_col3, #T_8f4fd_row20_col4, #T_8f4fd_row20_col5, #T_8f4fd_row20_col6, #T_8f4fd_row20_col7, #T_8f4fd_row20_col8, #T_8f4fd_row20_col9, #T_8f4fd_row20_col10, #T_8f4fd_row20_col11, #T_8f4fd_row20_col12, #T_8f4fd_row20_col13, #T_8f4fd_row20_col20, #T_8f4fd_row20_col21, #T_8f4fd_row20_col22, #T_8f4fd_row20_col23, #T_8f4fd_row20_col24, #T_8f4fd_row20_col25, #T_8f4fd_row20_col26, #T_8f4fd_row20_col27, #T_8f4fd_row21_col0, #T_8f4fd_row21_col1, #T_8f4fd_row21_col2, #T_8f4fd_row21_col3, #T_8f4fd_row21_col4, #T_8f4fd_row21_col5, #T_8f4fd_row21_col6, #T_8f4fd_row21_col7, #T_8f4fd_row21_col8, #T_8f4fd_row21_col9, #T_8f4fd_row21_col10, #T_8f4fd_row21_col11, #T_8f4fd_row21_col19, #T_8f4fd_row21_col20, #T_8f4fd_row21_col21, #T_8f4fd_row21_col22, #T_8f4fd_row21_col23, #T_8f4fd_row21_col24, #T_8f4fd_row21_col25, #T_8f4fd_row21_col26, #T_8f4fd_row21_col27, #T_8f4fd_row22_col0, #T_8f4fd_row22_col1, #T_8f4fd_row22_col2, #T_8f4fd_row22_col3, #T_8f4fd_row22_col4, #T_8f4fd_row22_col5, #T_8f4fd_row22_col18, #T_8f4fd_row22_col19, #T_8f4fd_row22_col20, #T_8f4fd_row22_col21, #T_8f4fd_row22_col22, #T_8f4fd_row22_col23, #T_8f4fd_row22_col24, #T_8f4fd_row22_col25, #T_8f4fd_row22_col26, #T_8f4fd_row22_col27, #T_8f4fd_row23_col0, #T_8f4fd_row23_col1, #T_8f4fd_row23_col2, #T_8f4fd_row23_col3, #T_8f4fd_row23_col4, #T_8f4fd_row23_col5, #T_8f4fd_row23_col16, #T_8f4fd_row23_col17, #T_8f4fd_row23_col18, #T_8f4fd_row23_col19, #T_8f4fd_row23_col20, #T_8f4fd_row23_col21, #T_8f4fd_row23_col22, #T_8f4fd_row23_col23, #T_8f4fd_row23_col24, #T_8f4fd_row23_col25, #T_8f4fd_row23_col26, #T_8f4fd_row23_col27, #T_8f4fd_row24_col0, #T_8f4fd_row24_col1, #T_8f4fd_row24_col2, #T_8f4fd_row24_col3, #T_8f4fd_row24_col4, #T_8f4fd_row24_col5, #T_8f4fd_row24_col14, #T_8f4fd_row24_col15, #T_8f4fd_row24_col16, #T_8f4fd_row24_col17, #T_8f4fd_row24_col18, #T_8f4fd_row24_col19, #T_8f4fd_row24_col20, #T_8f4fd_row24_col21, #T_8f4fd_row24_col22, #T_8f4fd_row24_col23, #T_8f4fd_row24_col24, #T_8f4fd_row24_col25, #T_8f4fd_row24_col26, #T_8f4fd_row24_col27, #T_8f4fd_row25_col0, #T_8f4fd_row25_col1, #T_8f4fd_row25_col2, #T_8f4fd_row25_col3, #T_8f4fd_row25_col4, #T_8f4fd_row25_col5, #T_8f4fd_row25_col6, #T_8f4fd_row25_col7, #T_8f4fd_row25_col8, #T_8f4fd_row25_col9, #T_8f4fd_row25_col10, #T_8f4fd_row25_col11, #T_8f4fd_row25_col12, #T_8f4fd_row25_col13, #T_8f4fd_row25_col14, #T_8f4fd_row25_col15, #T_8f4fd_row25_col16, #T_8f4fd_row25_col17, #T_8f4fd_row25_col18, #T_8f4fd_row25_col19, #T_8f4fd_row25_col20, #T_8f4fd_row25_col21, #T_8f4fd_row25_col22, #T_8f4fd_row25_col23, #T_8f4fd_row25_col24, #T_8f4fd_row25_col25, #T_8f4fd_row25_col26, #T_8f4fd_row25_col27, #T_8f4fd_row26_col0, #T_8f4fd_row26_col1, #T_8f4fd_row26_col2, #T_8f4fd_row26_col3, #T_8f4fd_row26_col4, #T_8f4fd_row26_col5, #T_8f4fd_row26_col6, #T_8f4fd_row26_col7, #T_8f4fd_row26_col8, #T_8f4fd_row26_col9, #T_8f4fd_row26_col10, #T_8f4fd_row26_col11, #T_8f4fd_row26_col12, #T_8f4fd_row26_col13, #T_8f4fd_row26_col14, #T_8f4fd_row26_col15, #T_8f4fd_row26_col16, #T_8f4fd_row26_col17, #T_8f4fd_row26_col18, #T_8f4fd_row26_col19, #T_8f4fd_row26_col20, #T_8f4fd_row26_col21, #T_8f4fd_row26_col22, #T_8f4fd_row26_col23, #T_8f4fd_row26_col24, #T_8f4fd_row26_col25, #T_8f4fd_row26_col26, #T_8f4fd_row26_col27, #T_8f4fd_row27_col0, #T_8f4fd_row27_col1, #T_8f4fd_row27_col2, #T_8f4fd_row27_col3, #T_8f4fd_row27_col4, #T_8f4fd_row27_col5, #T_8f4fd_row27_col6, #T_8f4fd_row27_col7, #T_8f4fd_row27_col8, #T_8f4fd_row27_col9, #T_8f4fd_row27_col10, #T_8f4fd_row27_col11, #T_8f4fd_row27_col12, #T_8f4fd_row27_col13, #T_8f4fd_row27_col14, #T_8f4fd_row27_col15, #T_8f4fd_row27_col16, #T_8f4fd_row27_col17, #T_8f4fd_row27_col18, #T_8f4fd_row27_col19, #T_8f4fd_row27_col20, #T_8f4fd_row27_col21, #T_8f4fd_row27_col22, #T_8f4fd_row27_col23, #T_8f4fd_row27_col24, #T_8f4fd_row27_col25, #T_8f4fd_row27_col26, #T_8f4fd_row27_col27 {\n",
              "  font-size: 6pt;\n",
              "  background-color: #ffffff;\n",
              "  color: #000000;\n",
              "}\n",
              "#T_8f4fd_row5_col9, #T_8f4fd_row12_col16 {\n",
              "  font-size: 6pt;\n",
              "  background-color: #f1f1f1;\n",
              "  color: #000000;\n",
              "}\n",
              "#T_8f4fd_row5_col10, #T_8f4fd_row5_col17 {\n",
              "  font-size: 6pt;\n",
              "  background-color: #7c7c7c;\n",
              "  color: #f1f1f1;\n",
              "}\n",
              "#T_8f4fd_row5_col11 {\n",
              "  font-size: 6pt;\n",
              "  background-color: #4a4a4a;\n",
              "  color: #f1f1f1;\n",
              "}\n",
              "#T_8f4fd_row5_col12, #T_8f4fd_row5_col13, #T_8f4fd_row5_col14, #T_8f4fd_row6_col10, #T_8f4fd_row6_col11, #T_8f4fd_row6_col15, #T_8f4fd_row6_col16, #T_8f4fd_row6_col17, #T_8f4fd_row7_col8, #T_8f4fd_row7_col16, #T_8f4fd_row7_col17, #T_8f4fd_row8_col5, #T_8f4fd_row8_col6, #T_8f4fd_row8_col7, #T_8f4fd_row8_col16, #T_8f4fd_row8_col17, #T_8f4fd_row9_col16, #T_8f4fd_row10_col15, #T_8f4fd_row13_col15, #T_8f4fd_row14_col15, #T_8f4fd_row14_col16, #T_8f4fd_row14_col17, #T_8f4fd_row14_col18, #T_8f4fd_row15_col17, #T_8f4fd_row15_col18, #T_8f4fd_row15_col19, #T_8f4fd_row16_col18, #T_8f4fd_row16_col19, #T_8f4fd_row16_col20, #T_8f4fd_row17_col18, #T_8f4fd_row17_col19, #T_8f4fd_row18_col18, #T_8f4fd_row18_col19, #T_8f4fd_row19_col17, #T_8f4fd_row19_col18, #T_8f4fd_row20_col16, #T_8f4fd_row20_col17, #T_8f4fd_row21_col15, #T_8f4fd_row21_col16, #T_8f4fd_row23_col7, #T_8f4fd_row23_col8, #T_8f4fd_row23_col9, #T_8f4fd_row23_col10, #T_8f4fd_row23_col11, #T_8f4fd_row24_col7, #T_8f4fd_row24_col8, #T_8f4fd_row24_col9, #T_8f4fd_row24_col10, #T_8f4fd_row24_col11 {\n",
              "  font-size: 6pt;\n",
              "  background-color: #000000;\n",
              "  color: #f1f1f1;\n",
              "}\n",
              "#T_8f4fd_row5_col15 {\n",
              "  font-size: 6pt;\n",
              "  background-color: #606060;\n",
              "  color: #f1f1f1;\n",
              "}\n",
              "#T_8f4fd_row5_col16 {\n",
              "  font-size: 6pt;\n",
              "  background-color: #4d4d4d;\n",
              "  color: #f1f1f1;\n",
              "}\n",
              "#T_8f4fd_row5_col18 {\n",
              "  font-size: 6pt;\n",
              "  background-color: #bbbbbb;\n",
              "  color: #000000;\n",
              "}\n",
              "#T_8f4fd_row6_col7, #T_8f4fd_row8_col9 {\n",
              "  font-size: 6pt;\n",
              "  background-color: #e4e4e4;\n",
              "  color: #000000;\n",
              "}\n",
              "#T_8f4fd_row6_col8, #T_8f4fd_row12_col10 {\n",
              "  font-size: 6pt;\n",
              "  background-color: #6b6b6b;\n",
              "  color: #f1f1f1;\n",
              "}\n",
              "#T_8f4fd_row6_col9, #T_8f4fd_row9_col15 {\n",
              "  font-size: 6pt;\n",
              "  background-color: #222222;\n",
              "  color: #f1f1f1;\n",
              "}\n",
              "#T_8f4fd_row6_col12, #T_8f4fd_row6_col18, #T_8f4fd_row7_col18, #T_8f4fd_row21_col17 {\n",
              "  font-size: 6pt;\n",
              "  background-color: #171717;\n",
              "  color: #f1f1f1;\n",
              "}\n",
              "#T_8f4fd_row6_col13, #T_8f4fd_row7_col15 {\n",
              "  font-size: 6pt;\n",
              "  background-color: #4b4b4b;\n",
              "  color: #f1f1f1;\n",
              "}\n",
              "#T_8f4fd_row6_col14, #T_8f4fd_row11_col14, #T_8f4fd_row12_col12, #T_8f4fd_row12_col14, #T_8f4fd_row13_col12, #T_8f4fd_row13_col14, #T_8f4fd_row22_col14, #T_8f4fd_row23_col12 {\n",
              "  font-size: 6pt;\n",
              "  background-color: #010101;\n",
              "  color: #f1f1f1;\n",
              "}\n",
              "#T_8f4fd_row7_col5 {\n",
              "  font-size: 6pt;\n",
              "  background-color: #272727;\n",
              "  color: #f1f1f1;\n",
              "}\n",
              "#T_8f4fd_row7_col6 {\n",
              "  font-size: 6pt;\n",
              "  background-color: #0a0a0a;\n",
              "  color: #f1f1f1;\n",
              "}\n",
              "#T_8f4fd_row7_col7, #T_8f4fd_row18_col17 {\n",
              "  font-size: 6pt;\n",
              "  background-color: #050505;\n",
              "  color: #f1f1f1;\n",
              "}\n",
              "#T_8f4fd_row7_col9, #T_8f4fd_row12_col15, #T_8f4fd_row14_col19, #T_8f4fd_row23_col6 {\n",
              "  font-size: 6pt;\n",
              "  background-color: #545454;\n",
              "  color: #f1f1f1;\n",
              "}\n",
              "#T_8f4fd_row7_col10 {\n",
              "  font-size: 6pt;\n",
              "  background-color: #e6e6e6;\n",
              "  color: #000000;\n",
              "}\n",
              "#T_8f4fd_row7_col11, #T_8f4fd_row7_col14, #T_8f4fd_row12_col9 {\n",
              "  font-size: 6pt;\n",
              "  background-color: #fafafa;\n",
              "  color: #000000;\n",
              "}\n",
              "#T_8f4fd_row7_col12, #T_8f4fd_row15_col14, #T_8f4fd_row20_col19 {\n",
              "  font-size: 6pt;\n",
              "  background-color: #fbfbfb;\n",
              "  color: #000000;\n",
              "}\n",
              "#T_8f4fd_row7_col13 {\n",
              "  font-size: 6pt;\n",
              "  background-color: #fdfdfd;\n",
              "  color: #000000;\n",
              "}\n",
              "#T_8f4fd_row8_col8 {\n",
              "  font-size: 6pt;\n",
              "  background-color: #1b1b1b;\n",
              "  color: #f1f1f1;\n",
              "}\n",
              "#T_8f4fd_row8_col15 {\n",
              "  font-size: 6pt;\n",
              "  background-color: #4e4e4e;\n",
              "  color: #f1f1f1;\n",
              "}\n",
              "#T_8f4fd_row8_col18 {\n",
              "  font-size: 6pt;\n",
              "  background-color: #767676;\n",
              "  color: #f1f1f1;\n",
              "}\n",
              "#T_8f4fd_row9_col5 {\n",
              "  font-size: 6pt;\n",
              "  background-color: #fcfcfc;\n",
              "  color: #000000;\n",
              "}\n",
              "#T_8f4fd_row9_col6, #T_8f4fd_row9_col7, #T_8f4fd_row19_col20 {\n",
              "  font-size: 6pt;\n",
              "  background-color: #f6f6f6;\n",
              "  color: #000000;\n",
              "}\n",
              "#T_8f4fd_row9_col8, #T_8f4fd_row11_col11 {\n",
              "  font-size: 6pt;\n",
              "  background-color: #f8f8f8;\n",
              "  color: #000000;\n",
              "}\n",
              "#T_8f4fd_row9_col14, #T_8f4fd_row14_col11 {\n",
              "  font-size: 6pt;\n",
              "  background-color: #e8e8e8;\n",
              "  color: #000000;\n",
              "}\n",
              "#T_8f4fd_row9_col17, #T_8f4fd_row10_col16 {\n",
              "  font-size: 6pt;\n",
              "  background-color: #090909;\n",
              "  color: #f1f1f1;\n",
              "}\n",
              "#T_8f4fd_row9_col18 {\n",
              "  font-size: 6pt;\n",
              "  background-color: #d0d0d0;\n",
              "  color: #000000;\n",
              "}\n",
              "#T_8f4fd_row10_col14, #T_8f4fd_row11_col15, #T_8f4fd_row13_col10 {\n",
              "  font-size: 6pt;\n",
              "  background-color: #060606;\n",
              "  color: #f1f1f1;\n",
              "}\n",
              "#T_8f4fd_row10_col17 {\n",
              "  font-size: 6pt;\n",
              "  background-color: #979797;\n",
              "  color: #f1f1f1;\n",
              "}\n",
              "#T_8f4fd_row11_col12 {\n",
              "  font-size: 6pt;\n",
              "  background-color: #b6b6b6;\n",
              "  color: #000000;\n",
              "}\n",
              "#T_8f4fd_row11_col13 {\n",
              "  font-size: 6pt;\n",
              "  background-color: #252525;\n",
              "  color: #f1f1f1;\n",
              "}\n",
              "#T_8f4fd_row11_col16 {\n",
              "  font-size: 6pt;\n",
              "  background-color: #999999;\n",
              "  color: #f1f1f1;\n",
              "}\n",
              "#T_8f4fd_row12_col11, #T_8f4fd_row22_col12 {\n",
              "  font-size: 6pt;\n",
              "  background-color: #101010;\n",
              "  color: #f1f1f1;\n",
              "}\n",
              "#T_8f4fd_row12_col13, #T_8f4fd_row13_col13, #T_8f4fd_row21_col14, #T_8f4fd_row22_col13, #T_8f4fd_row23_col13 {\n",
              "  font-size: 6pt;\n",
              "  background-color: #020202;\n",
              "  color: #f1f1f1;\n",
              "}\n",
              "#T_8f4fd_row13_col9 {\n",
              "  font-size: 6pt;\n",
              "  background-color: #f7f7f7;\n",
              "  color: #000000;\n",
              "}\n",
              "#T_8f4fd_row13_col11, #T_8f4fd_row22_col15 {\n",
              "  font-size: 6pt;\n",
              "  background-color: #030303;\n",
              "  color: #f1f1f1;\n",
              "}\n",
              "#T_8f4fd_row13_col16 {\n",
              "  font-size: 6pt;\n",
              "  background-color: #181818;\n",
              "  color: #f1f1f1;\n",
              "}\n",
              "#T_8f4fd_row13_col17 {\n",
              "  font-size: 6pt;\n",
              "  background-color: #303030;\n",
              "  color: #f1f1f1;\n",
              "}\n",
              "#T_8f4fd_row13_col18 {\n",
              "  font-size: 6pt;\n",
              "  background-color: #a9a9a9;\n",
              "  color: #f1f1f1;\n",
              "}\n",
              "#T_8f4fd_row13_col19 {\n",
              "  font-size: 6pt;\n",
              "  background-color: #fefefe;\n",
              "  color: #000000;\n",
              "}\n",
              "#T_8f4fd_row14_col12, #T_8f4fd_row14_col13, #T_8f4fd_row20_col14 {\n",
              "  font-size: 6pt;\n",
              "  background-color: #bababa;\n",
              "  color: #000000;\n",
              "}\n",
              "#T_8f4fd_row14_col14 {\n",
              "  font-size: 6pt;\n",
              "  background-color: #393939;\n",
              "  color: #f1f1f1;\n",
              "}\n",
              "#T_8f4fd_row14_col20 {\n",
              "  font-size: 6pt;\n",
              "  background-color: #eaeaea;\n",
              "  color: #000000;\n",
              "}\n",
              "#T_8f4fd_row15_col15 {\n",
              "  font-size: 6pt;\n",
              "  background-color: #e2e2e2;\n",
              "  color: #000000;\n",
              "}\n",
              "#T_8f4fd_row15_col16 {\n",
              "  font-size: 6pt;\n",
              "  background-color: #9f9f9f;\n",
              "  color: #f1f1f1;\n",
              "}\n",
              "#T_8f4fd_row15_col20 {\n",
              "  font-size: 6pt;\n",
              "  background-color: #898989;\n",
              "  color: #f1f1f1;\n",
              "}\n",
              "#T_8f4fd_row16_col17 {\n",
              "  font-size: 6pt;\n",
              "  background-color: #585858;\n",
              "  color: #f1f1f1;\n",
              "}\n",
              "#T_8f4fd_row17_col17 {\n",
              "  font-size: 6pt;\n",
              "  background-color: #5a5a5a;\n",
              "  color: #f1f1f1;\n",
              "}\n",
              "#T_8f4fd_row17_col20 {\n",
              "  font-size: 6pt;\n",
              "  background-color: #525252;\n",
              "  color: #f1f1f1;\n",
              "}\n",
              "#T_8f4fd_row18_col16, #T_8f4fd_row23_col15 {\n",
              "  font-size: 6pt;\n",
              "  background-color: #c5c5c5;\n",
              "  color: #000000;\n",
              "}\n",
              "#T_8f4fd_row18_col20 {\n",
              "  font-size: 6pt;\n",
              "  background-color: #d7d7d7;\n",
              "  color: #000000;\n",
              "}\n",
              "#T_8f4fd_row19_col15, #T_8f4fd_row22_col9 {\n",
              "  font-size: 6pt;\n",
              "  background-color: #dcdcdc;\n",
              "  color: #000000;\n",
              "}\n",
              "#T_8f4fd_row19_col16 {\n",
              "  font-size: 6pt;\n",
              "  background-color: #2f2f2f;\n",
              "  color: #f1f1f1;\n",
              "}\n",
              "#T_8f4fd_row19_col19 {\n",
              "  font-size: 6pt;\n",
              "  background-color: #636363;\n",
              "  color: #f1f1f1;\n",
              "}\n",
              "#T_8f4fd_row20_col15 {\n",
              "  font-size: 6pt;\n",
              "  background-color: #070707;\n",
              "  color: #f1f1f1;\n",
              "}\n",
              "#T_8f4fd_row20_col18 {\n",
              "  font-size: 6pt;\n",
              "  background-color: #1f1f1f;\n",
              "  color: #f1f1f1;\n",
              "}\n",
              "#T_8f4fd_row21_col12, #T_8f4fd_row22_col6, #T_8f4fd_row22_col8 {\n",
              "  font-size: 6pt;\n",
              "  background-color: #e9e9e9;\n",
              "  color: #000000;\n",
              "}\n",
              "#T_8f4fd_row21_col13 {\n",
              "  font-size: 6pt;\n",
              "  background-color: #7d7d7d;\n",
              "  color: #f1f1f1;\n",
              "}\n",
              "#T_8f4fd_row21_col18 {\n",
              "  font-size: 6pt;\n",
              "  background-color: #e1e1e1;\n",
              "  color: #000000;\n",
              "}\n",
              "#T_8f4fd_row22_col7, #T_8f4fd_row22_col10 {\n",
              "  font-size: 6pt;\n",
              "  background-color: #a4a4a4;\n",
              "  color: #f1f1f1;\n",
              "}\n",
              "#T_8f4fd_row22_col11 {\n",
              "  font-size: 6pt;\n",
              "  background-color: #727272;\n",
              "  color: #f1f1f1;\n",
              "}\n",
              "#T_8f4fd_row22_col16 {\n",
              "  font-size: 6pt;\n",
              "  background-color: #616161;\n",
              "  color: #f1f1f1;\n",
              "}\n",
              "#T_8f4fd_row22_col17 {\n",
              "  font-size: 6pt;\n",
              "  background-color: #f3f3f3;\n",
              "  color: #000000;\n",
              "}\n",
              "#T_8f4fd_row23_col14 {\n",
              "  font-size: 6pt;\n",
              "  background-color: #484848;\n",
              "  color: #f1f1f1;\n",
              "}\n",
              "#T_8f4fd_row24_col6 {\n",
              "  font-size: 6pt;\n",
              "  background-color: #b3b3b3;\n",
              "  color: #000000;\n",
              "}\n",
              "#T_8f4fd_row24_col12 {\n",
              "  font-size: 6pt;\n",
              "  background-color: #1a1a1a;\n",
              "  color: #f1f1f1;\n",
              "}\n",
              "#T_8f4fd_row24_col13 {\n",
              "  font-size: 6pt;\n",
              "  background-color: #d6d6d6;\n",
              "  color: #000000;\n",
              "}\n",
              "</style>\n",
              "<table id=\"T_8f4fd\" class=\"dataframe\">\n",
              "  <thead>\n",
              "    <tr>\n",
              "      <th class=\"blank level0\" >&nbsp;</th>\n",
              "      <th id=\"T_8f4fd_level0_col0\" class=\"col_heading level0 col0\" >0</th>\n",
              "      <th id=\"T_8f4fd_level0_col1\" class=\"col_heading level0 col1\" >1</th>\n",
              "      <th id=\"T_8f4fd_level0_col2\" class=\"col_heading level0 col2\" >2</th>\n",
              "      <th id=\"T_8f4fd_level0_col3\" class=\"col_heading level0 col3\" >3</th>\n",
              "      <th id=\"T_8f4fd_level0_col4\" class=\"col_heading level0 col4\" >4</th>\n",
              "      <th id=\"T_8f4fd_level0_col5\" class=\"col_heading level0 col5\" >5</th>\n",
              "      <th id=\"T_8f4fd_level0_col6\" class=\"col_heading level0 col6\" >6</th>\n",
              "      <th id=\"T_8f4fd_level0_col7\" class=\"col_heading level0 col7\" >7</th>\n",
              "      <th id=\"T_8f4fd_level0_col8\" class=\"col_heading level0 col8\" >8</th>\n",
              "      <th id=\"T_8f4fd_level0_col9\" class=\"col_heading level0 col9\" >9</th>\n",
              "      <th id=\"T_8f4fd_level0_col10\" class=\"col_heading level0 col10\" >10</th>\n",
              "      <th id=\"T_8f4fd_level0_col11\" class=\"col_heading level0 col11\" >11</th>\n",
              "      <th id=\"T_8f4fd_level0_col12\" class=\"col_heading level0 col12\" >12</th>\n",
              "      <th id=\"T_8f4fd_level0_col13\" class=\"col_heading level0 col13\" >13</th>\n",
              "      <th id=\"T_8f4fd_level0_col14\" class=\"col_heading level0 col14\" >14</th>\n",
              "      <th id=\"T_8f4fd_level0_col15\" class=\"col_heading level0 col15\" >15</th>\n",
              "      <th id=\"T_8f4fd_level0_col16\" class=\"col_heading level0 col16\" >16</th>\n",
              "      <th id=\"T_8f4fd_level0_col17\" class=\"col_heading level0 col17\" >17</th>\n",
              "      <th id=\"T_8f4fd_level0_col18\" class=\"col_heading level0 col18\" >18</th>\n",
              "      <th id=\"T_8f4fd_level0_col19\" class=\"col_heading level0 col19\" >19</th>\n",
              "      <th id=\"T_8f4fd_level0_col20\" class=\"col_heading level0 col20\" >20</th>\n",
              "      <th id=\"T_8f4fd_level0_col21\" class=\"col_heading level0 col21\" >21</th>\n",
              "      <th id=\"T_8f4fd_level0_col22\" class=\"col_heading level0 col22\" >22</th>\n",
              "      <th id=\"T_8f4fd_level0_col23\" class=\"col_heading level0 col23\" >23</th>\n",
              "      <th id=\"T_8f4fd_level0_col24\" class=\"col_heading level0 col24\" >24</th>\n",
              "      <th id=\"T_8f4fd_level0_col25\" class=\"col_heading level0 col25\" >25</th>\n",
              "      <th id=\"T_8f4fd_level0_col26\" class=\"col_heading level0 col26\" >26</th>\n",
              "      <th id=\"T_8f4fd_level0_col27\" class=\"col_heading level0 col27\" >27</th>\n",
              "    </tr>\n",
              "  </thead>\n",
              "  <tbody>\n",
              "    <tr>\n",
              "      <th id=\"T_8f4fd_level0_row0\" class=\"row_heading level0 row0\" >0</th>\n",
              "      <td id=\"T_8f4fd_row0_col0\" class=\"data row0 col0\" >0</td>\n",
              "      <td id=\"T_8f4fd_row0_col1\" class=\"data row0 col1\" >0</td>\n",
              "      <td id=\"T_8f4fd_row0_col2\" class=\"data row0 col2\" >0</td>\n",
              "      <td id=\"T_8f4fd_row0_col3\" class=\"data row0 col3\" >0</td>\n",
              "      <td id=\"T_8f4fd_row0_col4\" class=\"data row0 col4\" >0</td>\n",
              "      <td id=\"T_8f4fd_row0_col5\" class=\"data row0 col5\" >0</td>\n",
              "      <td id=\"T_8f4fd_row0_col6\" class=\"data row0 col6\" >0</td>\n",
              "      <td id=\"T_8f4fd_row0_col7\" class=\"data row0 col7\" >0</td>\n",
              "      <td id=\"T_8f4fd_row0_col8\" class=\"data row0 col8\" >0</td>\n",
              "      <td id=\"T_8f4fd_row0_col9\" class=\"data row0 col9\" >0</td>\n",
              "      <td id=\"T_8f4fd_row0_col10\" class=\"data row0 col10\" >0</td>\n",
              "      <td id=\"T_8f4fd_row0_col11\" class=\"data row0 col11\" >0</td>\n",
              "      <td id=\"T_8f4fd_row0_col12\" class=\"data row0 col12\" >0</td>\n",
              "      <td id=\"T_8f4fd_row0_col13\" class=\"data row0 col13\" >0</td>\n",
              "      <td id=\"T_8f4fd_row0_col14\" class=\"data row0 col14\" >0</td>\n",
              "      <td id=\"T_8f4fd_row0_col15\" class=\"data row0 col15\" >0</td>\n",
              "      <td id=\"T_8f4fd_row0_col16\" class=\"data row0 col16\" >0</td>\n",
              "      <td id=\"T_8f4fd_row0_col17\" class=\"data row0 col17\" >0</td>\n",
              "      <td id=\"T_8f4fd_row0_col18\" class=\"data row0 col18\" >0</td>\n",
              "      <td id=\"T_8f4fd_row0_col19\" class=\"data row0 col19\" >0</td>\n",
              "      <td id=\"T_8f4fd_row0_col20\" class=\"data row0 col20\" >0</td>\n",
              "      <td id=\"T_8f4fd_row0_col21\" class=\"data row0 col21\" >0</td>\n",
              "      <td id=\"T_8f4fd_row0_col22\" class=\"data row0 col22\" >0</td>\n",
              "      <td id=\"T_8f4fd_row0_col23\" class=\"data row0 col23\" >0</td>\n",
              "      <td id=\"T_8f4fd_row0_col24\" class=\"data row0 col24\" >0</td>\n",
              "      <td id=\"T_8f4fd_row0_col25\" class=\"data row0 col25\" >0</td>\n",
              "      <td id=\"T_8f4fd_row0_col26\" class=\"data row0 col26\" >0</td>\n",
              "      <td id=\"T_8f4fd_row0_col27\" class=\"data row0 col27\" >0</td>\n",
              "    </tr>\n",
              "    <tr>\n",
              "      <th id=\"T_8f4fd_level0_row1\" class=\"row_heading level0 row1\" >1</th>\n",
              "      <td id=\"T_8f4fd_row1_col0\" class=\"data row1 col0\" >0</td>\n",
              "      <td id=\"T_8f4fd_row1_col1\" class=\"data row1 col1\" >0</td>\n",
              "      <td id=\"T_8f4fd_row1_col2\" class=\"data row1 col2\" >0</td>\n",
              "      <td id=\"T_8f4fd_row1_col3\" class=\"data row1 col3\" >0</td>\n",
              "      <td id=\"T_8f4fd_row1_col4\" class=\"data row1 col4\" >0</td>\n",
              "      <td id=\"T_8f4fd_row1_col5\" class=\"data row1 col5\" >0</td>\n",
              "      <td id=\"T_8f4fd_row1_col6\" class=\"data row1 col6\" >0</td>\n",
              "      <td id=\"T_8f4fd_row1_col7\" class=\"data row1 col7\" >0</td>\n",
              "      <td id=\"T_8f4fd_row1_col8\" class=\"data row1 col8\" >0</td>\n",
              "      <td id=\"T_8f4fd_row1_col9\" class=\"data row1 col9\" >0</td>\n",
              "      <td id=\"T_8f4fd_row1_col10\" class=\"data row1 col10\" >0</td>\n",
              "      <td id=\"T_8f4fd_row1_col11\" class=\"data row1 col11\" >0</td>\n",
              "      <td id=\"T_8f4fd_row1_col12\" class=\"data row1 col12\" >0</td>\n",
              "      <td id=\"T_8f4fd_row1_col13\" class=\"data row1 col13\" >0</td>\n",
              "      <td id=\"T_8f4fd_row1_col14\" class=\"data row1 col14\" >0</td>\n",
              "      <td id=\"T_8f4fd_row1_col15\" class=\"data row1 col15\" >0</td>\n",
              "      <td id=\"T_8f4fd_row1_col16\" class=\"data row1 col16\" >0</td>\n",
              "      <td id=\"T_8f4fd_row1_col17\" class=\"data row1 col17\" >0</td>\n",
              "      <td id=\"T_8f4fd_row1_col18\" class=\"data row1 col18\" >0</td>\n",
              "      <td id=\"T_8f4fd_row1_col19\" class=\"data row1 col19\" >0</td>\n",
              "      <td id=\"T_8f4fd_row1_col20\" class=\"data row1 col20\" >0</td>\n",
              "      <td id=\"T_8f4fd_row1_col21\" class=\"data row1 col21\" >0</td>\n",
              "      <td id=\"T_8f4fd_row1_col22\" class=\"data row1 col22\" >0</td>\n",
              "      <td id=\"T_8f4fd_row1_col23\" class=\"data row1 col23\" >0</td>\n",
              "      <td id=\"T_8f4fd_row1_col24\" class=\"data row1 col24\" >0</td>\n",
              "      <td id=\"T_8f4fd_row1_col25\" class=\"data row1 col25\" >0</td>\n",
              "      <td id=\"T_8f4fd_row1_col26\" class=\"data row1 col26\" >0</td>\n",
              "      <td id=\"T_8f4fd_row1_col27\" class=\"data row1 col27\" >0</td>\n",
              "    </tr>\n",
              "    <tr>\n",
              "      <th id=\"T_8f4fd_level0_row2\" class=\"row_heading level0 row2\" >2</th>\n",
              "      <td id=\"T_8f4fd_row2_col0\" class=\"data row2 col0\" >0</td>\n",
              "      <td id=\"T_8f4fd_row2_col1\" class=\"data row2 col1\" >0</td>\n",
              "      <td id=\"T_8f4fd_row2_col2\" class=\"data row2 col2\" >0</td>\n",
              "      <td id=\"T_8f4fd_row2_col3\" class=\"data row2 col3\" >0</td>\n",
              "      <td id=\"T_8f4fd_row2_col4\" class=\"data row2 col4\" >0</td>\n",
              "      <td id=\"T_8f4fd_row2_col5\" class=\"data row2 col5\" >0</td>\n",
              "      <td id=\"T_8f4fd_row2_col6\" class=\"data row2 col6\" >0</td>\n",
              "      <td id=\"T_8f4fd_row2_col7\" class=\"data row2 col7\" >0</td>\n",
              "      <td id=\"T_8f4fd_row2_col8\" class=\"data row2 col8\" >0</td>\n",
              "      <td id=\"T_8f4fd_row2_col9\" class=\"data row2 col9\" >0</td>\n",
              "      <td id=\"T_8f4fd_row2_col10\" class=\"data row2 col10\" >0</td>\n",
              "      <td id=\"T_8f4fd_row2_col11\" class=\"data row2 col11\" >0</td>\n",
              "      <td id=\"T_8f4fd_row2_col12\" class=\"data row2 col12\" >0</td>\n",
              "      <td id=\"T_8f4fd_row2_col13\" class=\"data row2 col13\" >0</td>\n",
              "      <td id=\"T_8f4fd_row2_col14\" class=\"data row2 col14\" >0</td>\n",
              "      <td id=\"T_8f4fd_row2_col15\" class=\"data row2 col15\" >0</td>\n",
              "      <td id=\"T_8f4fd_row2_col16\" class=\"data row2 col16\" >0</td>\n",
              "      <td id=\"T_8f4fd_row2_col17\" class=\"data row2 col17\" >0</td>\n",
              "      <td id=\"T_8f4fd_row2_col18\" class=\"data row2 col18\" >0</td>\n",
              "      <td id=\"T_8f4fd_row2_col19\" class=\"data row2 col19\" >0</td>\n",
              "      <td id=\"T_8f4fd_row2_col20\" class=\"data row2 col20\" >0</td>\n",
              "      <td id=\"T_8f4fd_row2_col21\" class=\"data row2 col21\" >0</td>\n",
              "      <td id=\"T_8f4fd_row2_col22\" class=\"data row2 col22\" >0</td>\n",
              "      <td id=\"T_8f4fd_row2_col23\" class=\"data row2 col23\" >0</td>\n",
              "      <td id=\"T_8f4fd_row2_col24\" class=\"data row2 col24\" >0</td>\n",
              "      <td id=\"T_8f4fd_row2_col25\" class=\"data row2 col25\" >0</td>\n",
              "      <td id=\"T_8f4fd_row2_col26\" class=\"data row2 col26\" >0</td>\n",
              "      <td id=\"T_8f4fd_row2_col27\" class=\"data row2 col27\" >0</td>\n",
              "    </tr>\n",
              "    <tr>\n",
              "      <th id=\"T_8f4fd_level0_row3\" class=\"row_heading level0 row3\" >3</th>\n",
              "      <td id=\"T_8f4fd_row3_col0\" class=\"data row3 col0\" >0</td>\n",
              "      <td id=\"T_8f4fd_row3_col1\" class=\"data row3 col1\" >0</td>\n",
              "      <td id=\"T_8f4fd_row3_col2\" class=\"data row3 col2\" >0</td>\n",
              "      <td id=\"T_8f4fd_row3_col3\" class=\"data row3 col3\" >0</td>\n",
              "      <td id=\"T_8f4fd_row3_col4\" class=\"data row3 col4\" >0</td>\n",
              "      <td id=\"T_8f4fd_row3_col5\" class=\"data row3 col5\" >0</td>\n",
              "      <td id=\"T_8f4fd_row3_col6\" class=\"data row3 col6\" >0</td>\n",
              "      <td id=\"T_8f4fd_row3_col7\" class=\"data row3 col7\" >0</td>\n",
              "      <td id=\"T_8f4fd_row3_col8\" class=\"data row3 col8\" >0</td>\n",
              "      <td id=\"T_8f4fd_row3_col9\" class=\"data row3 col9\" >0</td>\n",
              "      <td id=\"T_8f4fd_row3_col10\" class=\"data row3 col10\" >0</td>\n",
              "      <td id=\"T_8f4fd_row3_col11\" class=\"data row3 col11\" >0</td>\n",
              "      <td id=\"T_8f4fd_row3_col12\" class=\"data row3 col12\" >0</td>\n",
              "      <td id=\"T_8f4fd_row3_col13\" class=\"data row3 col13\" >0</td>\n",
              "      <td id=\"T_8f4fd_row3_col14\" class=\"data row3 col14\" >0</td>\n",
              "      <td id=\"T_8f4fd_row3_col15\" class=\"data row3 col15\" >0</td>\n",
              "      <td id=\"T_8f4fd_row3_col16\" class=\"data row3 col16\" >0</td>\n",
              "      <td id=\"T_8f4fd_row3_col17\" class=\"data row3 col17\" >0</td>\n",
              "      <td id=\"T_8f4fd_row3_col18\" class=\"data row3 col18\" >0</td>\n",
              "      <td id=\"T_8f4fd_row3_col19\" class=\"data row3 col19\" >0</td>\n",
              "      <td id=\"T_8f4fd_row3_col20\" class=\"data row3 col20\" >0</td>\n",
              "      <td id=\"T_8f4fd_row3_col21\" class=\"data row3 col21\" >0</td>\n",
              "      <td id=\"T_8f4fd_row3_col22\" class=\"data row3 col22\" >0</td>\n",
              "      <td id=\"T_8f4fd_row3_col23\" class=\"data row3 col23\" >0</td>\n",
              "      <td id=\"T_8f4fd_row3_col24\" class=\"data row3 col24\" >0</td>\n",
              "      <td id=\"T_8f4fd_row3_col25\" class=\"data row3 col25\" >0</td>\n",
              "      <td id=\"T_8f4fd_row3_col26\" class=\"data row3 col26\" >0</td>\n",
              "      <td id=\"T_8f4fd_row3_col27\" class=\"data row3 col27\" >0</td>\n",
              "    </tr>\n",
              "    <tr>\n",
              "      <th id=\"T_8f4fd_level0_row4\" class=\"row_heading level0 row4\" >4</th>\n",
              "      <td id=\"T_8f4fd_row4_col0\" class=\"data row4 col0\" >0</td>\n",
              "      <td id=\"T_8f4fd_row4_col1\" class=\"data row4 col1\" >0</td>\n",
              "      <td id=\"T_8f4fd_row4_col2\" class=\"data row4 col2\" >0</td>\n",
              "      <td id=\"T_8f4fd_row4_col3\" class=\"data row4 col3\" >0</td>\n",
              "      <td id=\"T_8f4fd_row4_col4\" class=\"data row4 col4\" >0</td>\n",
              "      <td id=\"T_8f4fd_row4_col5\" class=\"data row4 col5\" >0</td>\n",
              "      <td id=\"T_8f4fd_row4_col6\" class=\"data row4 col6\" >0</td>\n",
              "      <td id=\"T_8f4fd_row4_col7\" class=\"data row4 col7\" >0</td>\n",
              "      <td id=\"T_8f4fd_row4_col8\" class=\"data row4 col8\" >0</td>\n",
              "      <td id=\"T_8f4fd_row4_col9\" class=\"data row4 col9\" >0</td>\n",
              "      <td id=\"T_8f4fd_row4_col10\" class=\"data row4 col10\" >0</td>\n",
              "      <td id=\"T_8f4fd_row4_col11\" class=\"data row4 col11\" >0</td>\n",
              "      <td id=\"T_8f4fd_row4_col12\" class=\"data row4 col12\" >0</td>\n",
              "      <td id=\"T_8f4fd_row4_col13\" class=\"data row4 col13\" >0</td>\n",
              "      <td id=\"T_8f4fd_row4_col14\" class=\"data row4 col14\" >0</td>\n",
              "      <td id=\"T_8f4fd_row4_col15\" class=\"data row4 col15\" >0</td>\n",
              "      <td id=\"T_8f4fd_row4_col16\" class=\"data row4 col16\" >0</td>\n",
              "      <td id=\"T_8f4fd_row4_col17\" class=\"data row4 col17\" >0</td>\n",
              "      <td id=\"T_8f4fd_row4_col18\" class=\"data row4 col18\" >0</td>\n",
              "      <td id=\"T_8f4fd_row4_col19\" class=\"data row4 col19\" >0</td>\n",
              "      <td id=\"T_8f4fd_row4_col20\" class=\"data row4 col20\" >0</td>\n",
              "      <td id=\"T_8f4fd_row4_col21\" class=\"data row4 col21\" >0</td>\n",
              "      <td id=\"T_8f4fd_row4_col22\" class=\"data row4 col22\" >0</td>\n",
              "      <td id=\"T_8f4fd_row4_col23\" class=\"data row4 col23\" >0</td>\n",
              "      <td id=\"T_8f4fd_row4_col24\" class=\"data row4 col24\" >0</td>\n",
              "      <td id=\"T_8f4fd_row4_col25\" class=\"data row4 col25\" >0</td>\n",
              "      <td id=\"T_8f4fd_row4_col26\" class=\"data row4 col26\" >0</td>\n",
              "      <td id=\"T_8f4fd_row4_col27\" class=\"data row4 col27\" >0</td>\n",
              "    </tr>\n",
              "    <tr>\n",
              "      <th id=\"T_8f4fd_level0_row5\" class=\"row_heading level0 row5\" >5</th>\n",
              "      <td id=\"T_8f4fd_row5_col0\" class=\"data row5 col0\" >0</td>\n",
              "      <td id=\"T_8f4fd_row5_col1\" class=\"data row5 col1\" >0</td>\n",
              "      <td id=\"T_8f4fd_row5_col2\" class=\"data row5 col2\" >0</td>\n",
              "      <td id=\"T_8f4fd_row5_col3\" class=\"data row5 col3\" >0</td>\n",
              "      <td id=\"T_8f4fd_row5_col4\" class=\"data row5 col4\" >0</td>\n",
              "      <td id=\"T_8f4fd_row5_col5\" class=\"data row5 col5\" >0</td>\n",
              "      <td id=\"T_8f4fd_row5_col6\" class=\"data row5 col6\" >0</td>\n",
              "      <td id=\"T_8f4fd_row5_col7\" class=\"data row5 col7\" >0</td>\n",
              "      <td id=\"T_8f4fd_row5_col8\" class=\"data row5 col8\" >0</td>\n",
              "      <td id=\"T_8f4fd_row5_col9\" class=\"data row5 col9\" >29</td>\n",
              "      <td id=\"T_8f4fd_row5_col10\" class=\"data row5 col10\" >150</td>\n",
              "      <td id=\"T_8f4fd_row5_col11\" class=\"data row5 col11\" >195</td>\n",
              "      <td id=\"T_8f4fd_row5_col12\" class=\"data row5 col12\" >254</td>\n",
              "      <td id=\"T_8f4fd_row5_col13\" class=\"data row5 col13\" >255</td>\n",
              "      <td id=\"T_8f4fd_row5_col14\" class=\"data row5 col14\" >254</td>\n",
              "      <td id=\"T_8f4fd_row5_col15\" class=\"data row5 col15\" >176</td>\n",
              "      <td id=\"T_8f4fd_row5_col16\" class=\"data row5 col16\" >193</td>\n",
              "      <td id=\"T_8f4fd_row5_col17\" class=\"data row5 col17\" >150</td>\n",
              "      <td id=\"T_8f4fd_row5_col18\" class=\"data row5 col18\" >96</td>\n",
              "      <td id=\"T_8f4fd_row5_col19\" class=\"data row5 col19\" >0</td>\n",
              "      <td id=\"T_8f4fd_row5_col20\" class=\"data row5 col20\" >0</td>\n",
              "      <td id=\"T_8f4fd_row5_col21\" class=\"data row5 col21\" >0</td>\n",
              "      <td id=\"T_8f4fd_row5_col22\" class=\"data row5 col22\" >0</td>\n",
              "      <td id=\"T_8f4fd_row5_col23\" class=\"data row5 col23\" >0</td>\n",
              "      <td id=\"T_8f4fd_row5_col24\" class=\"data row5 col24\" >0</td>\n",
              "      <td id=\"T_8f4fd_row5_col25\" class=\"data row5 col25\" >0</td>\n",
              "      <td id=\"T_8f4fd_row5_col26\" class=\"data row5 col26\" >0</td>\n",
              "      <td id=\"T_8f4fd_row5_col27\" class=\"data row5 col27\" >0</td>\n",
              "    </tr>\n",
              "    <tr>\n",
              "      <th id=\"T_8f4fd_level0_row6\" class=\"row_heading level0 row6\" >6</th>\n",
              "      <td id=\"T_8f4fd_row6_col0\" class=\"data row6 col0\" >0</td>\n",
              "      <td id=\"T_8f4fd_row6_col1\" class=\"data row6 col1\" >0</td>\n",
              "      <td id=\"T_8f4fd_row6_col2\" class=\"data row6 col2\" >0</td>\n",
              "      <td id=\"T_8f4fd_row6_col3\" class=\"data row6 col3\" >0</td>\n",
              "      <td id=\"T_8f4fd_row6_col4\" class=\"data row6 col4\" >0</td>\n",
              "      <td id=\"T_8f4fd_row6_col5\" class=\"data row6 col5\" >0</td>\n",
              "      <td id=\"T_8f4fd_row6_col6\" class=\"data row6 col6\" >0</td>\n",
              "      <td id=\"T_8f4fd_row6_col7\" class=\"data row6 col7\" >48</td>\n",
              "      <td id=\"T_8f4fd_row6_col8\" class=\"data row6 col8\" >166</td>\n",
              "      <td id=\"T_8f4fd_row6_col9\" class=\"data row6 col9\" >224</td>\n",
              "      <td id=\"T_8f4fd_row6_col10\" class=\"data row6 col10\" >253</td>\n",
              "      <td id=\"T_8f4fd_row6_col11\" class=\"data row6 col11\" >253</td>\n",
              "      <td id=\"T_8f4fd_row6_col12\" class=\"data row6 col12\" >234</td>\n",
              "      <td id=\"T_8f4fd_row6_col13\" class=\"data row6 col13\" >196</td>\n",
              "      <td id=\"T_8f4fd_row6_col14\" class=\"data row6 col14\" >253</td>\n",
              "      <td id=\"T_8f4fd_row6_col15\" class=\"data row6 col15\" >253</td>\n",
              "      <td id=\"T_8f4fd_row6_col16\" class=\"data row6 col16\" >253</td>\n",
              "      <td id=\"T_8f4fd_row6_col17\" class=\"data row6 col17\" >253</td>\n",
              "      <td id=\"T_8f4fd_row6_col18\" class=\"data row6 col18\" >233</td>\n",
              "      <td id=\"T_8f4fd_row6_col19\" class=\"data row6 col19\" >0</td>\n",
              "      <td id=\"T_8f4fd_row6_col20\" class=\"data row6 col20\" >0</td>\n",
              "      <td id=\"T_8f4fd_row6_col21\" class=\"data row6 col21\" >0</td>\n",
              "      <td id=\"T_8f4fd_row6_col22\" class=\"data row6 col22\" >0</td>\n",
              "      <td id=\"T_8f4fd_row6_col23\" class=\"data row6 col23\" >0</td>\n",
              "      <td id=\"T_8f4fd_row6_col24\" class=\"data row6 col24\" >0</td>\n",
              "      <td id=\"T_8f4fd_row6_col25\" class=\"data row6 col25\" >0</td>\n",
              "      <td id=\"T_8f4fd_row6_col26\" class=\"data row6 col26\" >0</td>\n",
              "      <td id=\"T_8f4fd_row6_col27\" class=\"data row6 col27\" >0</td>\n",
              "    </tr>\n",
              "    <tr>\n",
              "      <th id=\"T_8f4fd_level0_row7\" class=\"row_heading level0 row7\" >7</th>\n",
              "      <td id=\"T_8f4fd_row7_col0\" class=\"data row7 col0\" >0</td>\n",
              "      <td id=\"T_8f4fd_row7_col1\" class=\"data row7 col1\" >0</td>\n",
              "      <td id=\"T_8f4fd_row7_col2\" class=\"data row7 col2\" >0</td>\n",
              "      <td id=\"T_8f4fd_row7_col3\" class=\"data row7 col3\" >0</td>\n",
              "      <td id=\"T_8f4fd_row7_col4\" class=\"data row7 col4\" >0</td>\n",
              "      <td id=\"T_8f4fd_row7_col5\" class=\"data row7 col5\" >93</td>\n",
              "      <td id=\"T_8f4fd_row7_col6\" class=\"data row7 col6\" >244</td>\n",
              "      <td id=\"T_8f4fd_row7_col7\" class=\"data row7 col7\" >249</td>\n",
              "      <td id=\"T_8f4fd_row7_col8\" class=\"data row7 col8\" >253</td>\n",
              "      <td id=\"T_8f4fd_row7_col9\" class=\"data row7 col9\" >187</td>\n",
              "      <td id=\"T_8f4fd_row7_col10\" class=\"data row7 col10\" >46</td>\n",
              "      <td id=\"T_8f4fd_row7_col11\" class=\"data row7 col11\" >10</td>\n",
              "      <td id=\"T_8f4fd_row7_col12\" class=\"data row7 col12\" >8</td>\n",
              "      <td id=\"T_8f4fd_row7_col13\" class=\"data row7 col13\" >4</td>\n",
              "      <td id=\"T_8f4fd_row7_col14\" class=\"data row7 col14\" >10</td>\n",
              "      <td id=\"T_8f4fd_row7_col15\" class=\"data row7 col15\" >194</td>\n",
              "      <td id=\"T_8f4fd_row7_col16\" class=\"data row7 col16\" >253</td>\n",
              "      <td id=\"T_8f4fd_row7_col17\" class=\"data row7 col17\" >253</td>\n",
              "      <td id=\"T_8f4fd_row7_col18\" class=\"data row7 col18\" >233</td>\n",
              "      <td id=\"T_8f4fd_row7_col19\" class=\"data row7 col19\" >0</td>\n",
              "      <td id=\"T_8f4fd_row7_col20\" class=\"data row7 col20\" >0</td>\n",
              "      <td id=\"T_8f4fd_row7_col21\" class=\"data row7 col21\" >0</td>\n",
              "      <td id=\"T_8f4fd_row7_col22\" class=\"data row7 col22\" >0</td>\n",
              "      <td id=\"T_8f4fd_row7_col23\" class=\"data row7 col23\" >0</td>\n",
              "      <td id=\"T_8f4fd_row7_col24\" class=\"data row7 col24\" >0</td>\n",
              "      <td id=\"T_8f4fd_row7_col25\" class=\"data row7 col25\" >0</td>\n",
              "      <td id=\"T_8f4fd_row7_col26\" class=\"data row7 col26\" >0</td>\n",
              "      <td id=\"T_8f4fd_row7_col27\" class=\"data row7 col27\" >0</td>\n",
              "    </tr>\n",
              "    <tr>\n",
              "      <th id=\"T_8f4fd_level0_row8\" class=\"row_heading level0 row8\" >8</th>\n",
              "      <td id=\"T_8f4fd_row8_col0\" class=\"data row8 col0\" >0</td>\n",
              "      <td id=\"T_8f4fd_row8_col1\" class=\"data row8 col1\" >0</td>\n",
              "      <td id=\"T_8f4fd_row8_col2\" class=\"data row8 col2\" >0</td>\n",
              "      <td id=\"T_8f4fd_row8_col3\" class=\"data row8 col3\" >0</td>\n",
              "      <td id=\"T_8f4fd_row8_col4\" class=\"data row8 col4\" >0</td>\n",
              "      <td id=\"T_8f4fd_row8_col5\" class=\"data row8 col5\" >107</td>\n",
              "      <td id=\"T_8f4fd_row8_col6\" class=\"data row8 col6\" >253</td>\n",
              "      <td id=\"T_8f4fd_row8_col7\" class=\"data row8 col7\" >253</td>\n",
              "      <td id=\"T_8f4fd_row8_col8\" class=\"data row8 col8\" >230</td>\n",
              "      <td id=\"T_8f4fd_row8_col9\" class=\"data row8 col9\" >48</td>\n",
              "      <td id=\"T_8f4fd_row8_col10\" class=\"data row8 col10\" >0</td>\n",
              "      <td id=\"T_8f4fd_row8_col11\" class=\"data row8 col11\" >0</td>\n",
              "      <td id=\"T_8f4fd_row8_col12\" class=\"data row8 col12\" >0</td>\n",
              "      <td id=\"T_8f4fd_row8_col13\" class=\"data row8 col13\" >0</td>\n",
              "      <td id=\"T_8f4fd_row8_col14\" class=\"data row8 col14\" >0</td>\n",
              "      <td id=\"T_8f4fd_row8_col15\" class=\"data row8 col15\" >192</td>\n",
              "      <td id=\"T_8f4fd_row8_col16\" class=\"data row8 col16\" >253</td>\n",
              "      <td id=\"T_8f4fd_row8_col17\" class=\"data row8 col17\" >253</td>\n",
              "      <td id=\"T_8f4fd_row8_col18\" class=\"data row8 col18\" >156</td>\n",
              "      <td id=\"T_8f4fd_row8_col19\" class=\"data row8 col19\" >0</td>\n",
              "      <td id=\"T_8f4fd_row8_col20\" class=\"data row8 col20\" >0</td>\n",
              "      <td id=\"T_8f4fd_row8_col21\" class=\"data row8 col21\" >0</td>\n",
              "      <td id=\"T_8f4fd_row8_col22\" class=\"data row8 col22\" >0</td>\n",
              "      <td id=\"T_8f4fd_row8_col23\" class=\"data row8 col23\" >0</td>\n",
              "      <td id=\"T_8f4fd_row8_col24\" class=\"data row8 col24\" >0</td>\n",
              "      <td id=\"T_8f4fd_row8_col25\" class=\"data row8 col25\" >0</td>\n",
              "      <td id=\"T_8f4fd_row8_col26\" class=\"data row8 col26\" >0</td>\n",
              "      <td id=\"T_8f4fd_row8_col27\" class=\"data row8 col27\" >0</td>\n",
              "    </tr>\n",
              "    <tr>\n",
              "      <th id=\"T_8f4fd_level0_row9\" class=\"row_heading level0 row9\" >9</th>\n",
              "      <td id=\"T_8f4fd_row9_col0\" class=\"data row9 col0\" >0</td>\n",
              "      <td id=\"T_8f4fd_row9_col1\" class=\"data row9 col1\" >0</td>\n",
              "      <td id=\"T_8f4fd_row9_col2\" class=\"data row9 col2\" >0</td>\n",
              "      <td id=\"T_8f4fd_row9_col3\" class=\"data row9 col3\" >0</td>\n",
              "      <td id=\"T_8f4fd_row9_col4\" class=\"data row9 col4\" >0</td>\n",
              "      <td id=\"T_8f4fd_row9_col5\" class=\"data row9 col5\" >3</td>\n",
              "      <td id=\"T_8f4fd_row9_col6\" class=\"data row9 col6\" >20</td>\n",
              "      <td id=\"T_8f4fd_row9_col7\" class=\"data row9 col7\" >20</td>\n",
              "      <td id=\"T_8f4fd_row9_col8\" class=\"data row9 col8\" >15</td>\n",
              "      <td id=\"T_8f4fd_row9_col9\" class=\"data row9 col9\" >0</td>\n",
              "      <td id=\"T_8f4fd_row9_col10\" class=\"data row9 col10\" >0</td>\n",
              "      <td id=\"T_8f4fd_row9_col11\" class=\"data row9 col11\" >0</td>\n",
              "      <td id=\"T_8f4fd_row9_col12\" class=\"data row9 col12\" >0</td>\n",
              "      <td id=\"T_8f4fd_row9_col13\" class=\"data row9 col13\" >0</td>\n",
              "      <td id=\"T_8f4fd_row9_col14\" class=\"data row9 col14\" >43</td>\n",
              "      <td id=\"T_8f4fd_row9_col15\" class=\"data row9 col15\" >224</td>\n",
              "      <td id=\"T_8f4fd_row9_col16\" class=\"data row9 col16\" >253</td>\n",
              "      <td id=\"T_8f4fd_row9_col17\" class=\"data row9 col17\" >245</td>\n",
              "      <td id=\"T_8f4fd_row9_col18\" class=\"data row9 col18\" >74</td>\n",
              "      <td id=\"T_8f4fd_row9_col19\" class=\"data row9 col19\" >0</td>\n",
              "      <td id=\"T_8f4fd_row9_col20\" class=\"data row9 col20\" >0</td>\n",
              "      <td id=\"T_8f4fd_row9_col21\" class=\"data row9 col21\" >0</td>\n",
              "      <td id=\"T_8f4fd_row9_col22\" class=\"data row9 col22\" >0</td>\n",
              "      <td id=\"T_8f4fd_row9_col23\" class=\"data row9 col23\" >0</td>\n",
              "      <td id=\"T_8f4fd_row9_col24\" class=\"data row9 col24\" >0</td>\n",
              "      <td id=\"T_8f4fd_row9_col25\" class=\"data row9 col25\" >0</td>\n",
              "      <td id=\"T_8f4fd_row9_col26\" class=\"data row9 col26\" >0</td>\n",
              "      <td id=\"T_8f4fd_row9_col27\" class=\"data row9 col27\" >0</td>\n",
              "    </tr>\n",
              "    <tr>\n",
              "      <th id=\"T_8f4fd_level0_row10\" class=\"row_heading level0 row10\" >10</th>\n",
              "      <td id=\"T_8f4fd_row10_col0\" class=\"data row10 col0\" >0</td>\n",
              "      <td id=\"T_8f4fd_row10_col1\" class=\"data row10 col1\" >0</td>\n",
              "      <td id=\"T_8f4fd_row10_col2\" class=\"data row10 col2\" >0</td>\n",
              "      <td id=\"T_8f4fd_row10_col3\" class=\"data row10 col3\" >0</td>\n",
              "      <td id=\"T_8f4fd_row10_col4\" class=\"data row10 col4\" >0</td>\n",
              "      <td id=\"T_8f4fd_row10_col5\" class=\"data row10 col5\" >0</td>\n",
              "      <td id=\"T_8f4fd_row10_col6\" class=\"data row10 col6\" >0</td>\n",
              "      <td id=\"T_8f4fd_row10_col7\" class=\"data row10 col7\" >0</td>\n",
              "      <td id=\"T_8f4fd_row10_col8\" class=\"data row10 col8\" >0</td>\n",
              "      <td id=\"T_8f4fd_row10_col9\" class=\"data row10 col9\" >0</td>\n",
              "      <td id=\"T_8f4fd_row10_col10\" class=\"data row10 col10\" >0</td>\n",
              "      <td id=\"T_8f4fd_row10_col11\" class=\"data row10 col11\" >0</td>\n",
              "      <td id=\"T_8f4fd_row10_col12\" class=\"data row10 col12\" >0</td>\n",
              "      <td id=\"T_8f4fd_row10_col13\" class=\"data row10 col13\" >0</td>\n",
              "      <td id=\"T_8f4fd_row10_col14\" class=\"data row10 col14\" >249</td>\n",
              "      <td id=\"T_8f4fd_row10_col15\" class=\"data row10 col15\" >253</td>\n",
              "      <td id=\"T_8f4fd_row10_col16\" class=\"data row10 col16\" >245</td>\n",
              "      <td id=\"T_8f4fd_row10_col17\" class=\"data row10 col17\" >126</td>\n",
              "      <td id=\"T_8f4fd_row10_col18\" class=\"data row10 col18\" >0</td>\n",
              "      <td id=\"T_8f4fd_row10_col19\" class=\"data row10 col19\" >0</td>\n",
              "      <td id=\"T_8f4fd_row10_col20\" class=\"data row10 col20\" >0</td>\n",
              "      <td id=\"T_8f4fd_row10_col21\" class=\"data row10 col21\" >0</td>\n",
              "      <td id=\"T_8f4fd_row10_col22\" class=\"data row10 col22\" >0</td>\n",
              "      <td id=\"T_8f4fd_row10_col23\" class=\"data row10 col23\" >0</td>\n",
              "      <td id=\"T_8f4fd_row10_col24\" class=\"data row10 col24\" >0</td>\n",
              "      <td id=\"T_8f4fd_row10_col25\" class=\"data row10 col25\" >0</td>\n",
              "      <td id=\"T_8f4fd_row10_col26\" class=\"data row10 col26\" >0</td>\n",
              "      <td id=\"T_8f4fd_row10_col27\" class=\"data row10 col27\" >0</td>\n",
              "    </tr>\n",
              "    <tr>\n",
              "      <th id=\"T_8f4fd_level0_row11\" class=\"row_heading level0 row11\" >11</th>\n",
              "      <td id=\"T_8f4fd_row11_col0\" class=\"data row11 col0\" >0</td>\n",
              "      <td id=\"T_8f4fd_row11_col1\" class=\"data row11 col1\" >0</td>\n",
              "      <td id=\"T_8f4fd_row11_col2\" class=\"data row11 col2\" >0</td>\n",
              "      <td id=\"T_8f4fd_row11_col3\" class=\"data row11 col3\" >0</td>\n",
              "      <td id=\"T_8f4fd_row11_col4\" class=\"data row11 col4\" >0</td>\n",
              "      <td id=\"T_8f4fd_row11_col5\" class=\"data row11 col5\" >0</td>\n",
              "      <td id=\"T_8f4fd_row11_col6\" class=\"data row11 col6\" >0</td>\n",
              "      <td id=\"T_8f4fd_row11_col7\" class=\"data row11 col7\" >0</td>\n",
              "      <td id=\"T_8f4fd_row11_col8\" class=\"data row11 col8\" >0</td>\n",
              "      <td id=\"T_8f4fd_row11_col9\" class=\"data row11 col9\" >0</td>\n",
              "      <td id=\"T_8f4fd_row11_col10\" class=\"data row11 col10\" >0</td>\n",
              "      <td id=\"T_8f4fd_row11_col11\" class=\"data row11 col11\" >14</td>\n",
              "      <td id=\"T_8f4fd_row11_col12\" class=\"data row11 col12\" >101</td>\n",
              "      <td id=\"T_8f4fd_row11_col13\" class=\"data row11 col13\" >223</td>\n",
              "      <td id=\"T_8f4fd_row11_col14\" class=\"data row11 col14\" >253</td>\n",
              "      <td id=\"T_8f4fd_row11_col15\" class=\"data row11 col15\" >248</td>\n",
              "      <td id=\"T_8f4fd_row11_col16\" class=\"data row11 col16\" >124</td>\n",
              "      <td id=\"T_8f4fd_row11_col17\" class=\"data row11 col17\" >0</td>\n",
              "      <td id=\"T_8f4fd_row11_col18\" class=\"data row11 col18\" >0</td>\n",
              "      <td id=\"T_8f4fd_row11_col19\" class=\"data row11 col19\" >0</td>\n",
              "      <td id=\"T_8f4fd_row11_col20\" class=\"data row11 col20\" >0</td>\n",
              "      <td id=\"T_8f4fd_row11_col21\" class=\"data row11 col21\" >0</td>\n",
              "      <td id=\"T_8f4fd_row11_col22\" class=\"data row11 col22\" >0</td>\n",
              "      <td id=\"T_8f4fd_row11_col23\" class=\"data row11 col23\" >0</td>\n",
              "      <td id=\"T_8f4fd_row11_col24\" class=\"data row11 col24\" >0</td>\n",
              "      <td id=\"T_8f4fd_row11_col25\" class=\"data row11 col25\" >0</td>\n",
              "      <td id=\"T_8f4fd_row11_col26\" class=\"data row11 col26\" >0</td>\n",
              "      <td id=\"T_8f4fd_row11_col27\" class=\"data row11 col27\" >0</td>\n",
              "    </tr>\n",
              "    <tr>\n",
              "      <th id=\"T_8f4fd_level0_row12\" class=\"row_heading level0 row12\" >12</th>\n",
              "      <td id=\"T_8f4fd_row12_col0\" class=\"data row12 col0\" >0</td>\n",
              "      <td id=\"T_8f4fd_row12_col1\" class=\"data row12 col1\" >0</td>\n",
              "      <td id=\"T_8f4fd_row12_col2\" class=\"data row12 col2\" >0</td>\n",
              "      <td id=\"T_8f4fd_row12_col3\" class=\"data row12 col3\" >0</td>\n",
              "      <td id=\"T_8f4fd_row12_col4\" class=\"data row12 col4\" >0</td>\n",
              "      <td id=\"T_8f4fd_row12_col5\" class=\"data row12 col5\" >0</td>\n",
              "      <td id=\"T_8f4fd_row12_col6\" class=\"data row12 col6\" >0</td>\n",
              "      <td id=\"T_8f4fd_row12_col7\" class=\"data row12 col7\" >0</td>\n",
              "      <td id=\"T_8f4fd_row12_col8\" class=\"data row12 col8\" >0</td>\n",
              "      <td id=\"T_8f4fd_row12_col9\" class=\"data row12 col9\" >11</td>\n",
              "      <td id=\"T_8f4fd_row12_col10\" class=\"data row12 col10\" >166</td>\n",
              "      <td id=\"T_8f4fd_row12_col11\" class=\"data row12 col11\" >239</td>\n",
              "      <td id=\"T_8f4fd_row12_col12\" class=\"data row12 col12\" >253</td>\n",
              "      <td id=\"T_8f4fd_row12_col13\" class=\"data row12 col13\" >253</td>\n",
              "      <td id=\"T_8f4fd_row12_col14\" class=\"data row12 col14\" >253</td>\n",
              "      <td id=\"T_8f4fd_row12_col15\" class=\"data row12 col15\" >187</td>\n",
              "      <td id=\"T_8f4fd_row12_col16\" class=\"data row12 col16\" >30</td>\n",
              "      <td id=\"T_8f4fd_row12_col17\" class=\"data row12 col17\" >0</td>\n",
              "      <td id=\"T_8f4fd_row12_col18\" class=\"data row12 col18\" >0</td>\n",
              "      <td id=\"T_8f4fd_row12_col19\" class=\"data row12 col19\" >0</td>\n",
              "      <td id=\"T_8f4fd_row12_col20\" class=\"data row12 col20\" >0</td>\n",
              "      <td id=\"T_8f4fd_row12_col21\" class=\"data row12 col21\" >0</td>\n",
              "      <td id=\"T_8f4fd_row12_col22\" class=\"data row12 col22\" >0</td>\n",
              "      <td id=\"T_8f4fd_row12_col23\" class=\"data row12 col23\" >0</td>\n",
              "      <td id=\"T_8f4fd_row12_col24\" class=\"data row12 col24\" >0</td>\n",
              "      <td id=\"T_8f4fd_row12_col25\" class=\"data row12 col25\" >0</td>\n",
              "      <td id=\"T_8f4fd_row12_col26\" class=\"data row12 col26\" >0</td>\n",
              "      <td id=\"T_8f4fd_row12_col27\" class=\"data row12 col27\" >0</td>\n",
              "    </tr>\n",
              "    <tr>\n",
              "      <th id=\"T_8f4fd_level0_row13\" class=\"row_heading level0 row13\" >13</th>\n",
              "      <td id=\"T_8f4fd_row13_col0\" class=\"data row13 col0\" >0</td>\n",
              "      <td id=\"T_8f4fd_row13_col1\" class=\"data row13 col1\" >0</td>\n",
              "      <td id=\"T_8f4fd_row13_col2\" class=\"data row13 col2\" >0</td>\n",
              "      <td id=\"T_8f4fd_row13_col3\" class=\"data row13 col3\" >0</td>\n",
              "      <td id=\"T_8f4fd_row13_col4\" class=\"data row13 col4\" >0</td>\n",
              "      <td id=\"T_8f4fd_row13_col5\" class=\"data row13 col5\" >0</td>\n",
              "      <td id=\"T_8f4fd_row13_col6\" class=\"data row13 col6\" >0</td>\n",
              "      <td id=\"T_8f4fd_row13_col7\" class=\"data row13 col7\" >0</td>\n",
              "      <td id=\"T_8f4fd_row13_col8\" class=\"data row13 col8\" >0</td>\n",
              "      <td id=\"T_8f4fd_row13_col9\" class=\"data row13 col9\" >16</td>\n",
              "      <td id=\"T_8f4fd_row13_col10\" class=\"data row13 col10\" >248</td>\n",
              "      <td id=\"T_8f4fd_row13_col11\" class=\"data row13 col11\" >250</td>\n",
              "      <td id=\"T_8f4fd_row13_col12\" class=\"data row13 col12\" >253</td>\n",
              "      <td id=\"T_8f4fd_row13_col13\" class=\"data row13 col13\" >253</td>\n",
              "      <td id=\"T_8f4fd_row13_col14\" class=\"data row13 col14\" >253</td>\n",
              "      <td id=\"T_8f4fd_row13_col15\" class=\"data row13 col15\" >253</td>\n",
              "      <td id=\"T_8f4fd_row13_col16\" class=\"data row13 col16\" >232</td>\n",
              "      <td id=\"T_8f4fd_row13_col17\" class=\"data row13 col17\" >213</td>\n",
              "      <td id=\"T_8f4fd_row13_col18\" class=\"data row13 col18\" >111</td>\n",
              "      <td id=\"T_8f4fd_row13_col19\" class=\"data row13 col19\" >2</td>\n",
              "      <td id=\"T_8f4fd_row13_col20\" class=\"data row13 col20\" >0</td>\n",
              "      <td id=\"T_8f4fd_row13_col21\" class=\"data row13 col21\" >0</td>\n",
              "      <td id=\"T_8f4fd_row13_col22\" class=\"data row13 col22\" >0</td>\n",
              "      <td id=\"T_8f4fd_row13_col23\" class=\"data row13 col23\" >0</td>\n",
              "      <td id=\"T_8f4fd_row13_col24\" class=\"data row13 col24\" >0</td>\n",
              "      <td id=\"T_8f4fd_row13_col25\" class=\"data row13 col25\" >0</td>\n",
              "      <td id=\"T_8f4fd_row13_col26\" class=\"data row13 col26\" >0</td>\n",
              "      <td id=\"T_8f4fd_row13_col27\" class=\"data row13 col27\" >0</td>\n",
              "    </tr>\n",
              "    <tr>\n",
              "      <th id=\"T_8f4fd_level0_row14\" class=\"row_heading level0 row14\" >14</th>\n",
              "      <td id=\"T_8f4fd_row14_col0\" class=\"data row14 col0\" >0</td>\n",
              "      <td id=\"T_8f4fd_row14_col1\" class=\"data row14 col1\" >0</td>\n",
              "      <td id=\"T_8f4fd_row14_col2\" class=\"data row14 col2\" >0</td>\n",
              "      <td id=\"T_8f4fd_row14_col3\" class=\"data row14 col3\" >0</td>\n",
              "      <td id=\"T_8f4fd_row14_col4\" class=\"data row14 col4\" >0</td>\n",
              "      <td id=\"T_8f4fd_row14_col5\" class=\"data row14 col5\" >0</td>\n",
              "      <td id=\"T_8f4fd_row14_col6\" class=\"data row14 col6\" >0</td>\n",
              "      <td id=\"T_8f4fd_row14_col7\" class=\"data row14 col7\" >0</td>\n",
              "      <td id=\"T_8f4fd_row14_col8\" class=\"data row14 col8\" >0</td>\n",
              "      <td id=\"T_8f4fd_row14_col9\" class=\"data row14 col9\" >0</td>\n",
              "      <td id=\"T_8f4fd_row14_col10\" class=\"data row14 col10\" >0</td>\n",
              "      <td id=\"T_8f4fd_row14_col11\" class=\"data row14 col11\" >43</td>\n",
              "      <td id=\"T_8f4fd_row14_col12\" class=\"data row14 col12\" >98</td>\n",
              "      <td id=\"T_8f4fd_row14_col13\" class=\"data row14 col13\" >98</td>\n",
              "      <td id=\"T_8f4fd_row14_col14\" class=\"data row14 col14\" >208</td>\n",
              "      <td id=\"T_8f4fd_row14_col15\" class=\"data row14 col15\" >253</td>\n",
              "      <td id=\"T_8f4fd_row14_col16\" class=\"data row14 col16\" >253</td>\n",
              "      <td id=\"T_8f4fd_row14_col17\" class=\"data row14 col17\" >253</td>\n",
              "      <td id=\"T_8f4fd_row14_col18\" class=\"data row14 col18\" >253</td>\n",
              "      <td id=\"T_8f4fd_row14_col19\" class=\"data row14 col19\" >187</td>\n",
              "      <td id=\"T_8f4fd_row14_col20\" class=\"data row14 col20\" >22</td>\n",
              "      <td id=\"T_8f4fd_row14_col21\" class=\"data row14 col21\" >0</td>\n",
              "      <td id=\"T_8f4fd_row14_col22\" class=\"data row14 col22\" >0</td>\n",
              "      <td id=\"T_8f4fd_row14_col23\" class=\"data row14 col23\" >0</td>\n",
              "      <td id=\"T_8f4fd_row14_col24\" class=\"data row14 col24\" >0</td>\n",
              "      <td id=\"T_8f4fd_row14_col25\" class=\"data row14 col25\" >0</td>\n",
              "      <td id=\"T_8f4fd_row14_col26\" class=\"data row14 col26\" >0</td>\n",
              "      <td id=\"T_8f4fd_row14_col27\" class=\"data row14 col27\" >0</td>\n",
              "    </tr>\n",
              "    <tr>\n",
              "      <th id=\"T_8f4fd_level0_row15\" class=\"row_heading level0 row15\" >15</th>\n",
              "      <td id=\"T_8f4fd_row15_col0\" class=\"data row15 col0\" >0</td>\n",
              "      <td id=\"T_8f4fd_row15_col1\" class=\"data row15 col1\" >0</td>\n",
              "      <td id=\"T_8f4fd_row15_col2\" class=\"data row15 col2\" >0</td>\n",
              "      <td id=\"T_8f4fd_row15_col3\" class=\"data row15 col3\" >0</td>\n",
              "      <td id=\"T_8f4fd_row15_col4\" class=\"data row15 col4\" >0</td>\n",
              "      <td id=\"T_8f4fd_row15_col5\" class=\"data row15 col5\" >0</td>\n",
              "      <td id=\"T_8f4fd_row15_col6\" class=\"data row15 col6\" >0</td>\n",
              "      <td id=\"T_8f4fd_row15_col7\" class=\"data row15 col7\" >0</td>\n",
              "      <td id=\"T_8f4fd_row15_col8\" class=\"data row15 col8\" >0</td>\n",
              "      <td id=\"T_8f4fd_row15_col9\" class=\"data row15 col9\" >0</td>\n",
              "      <td id=\"T_8f4fd_row15_col10\" class=\"data row15 col10\" >0</td>\n",
              "      <td id=\"T_8f4fd_row15_col11\" class=\"data row15 col11\" >0</td>\n",
              "      <td id=\"T_8f4fd_row15_col12\" class=\"data row15 col12\" >0</td>\n",
              "      <td id=\"T_8f4fd_row15_col13\" class=\"data row15 col13\" >0</td>\n",
              "      <td id=\"T_8f4fd_row15_col14\" class=\"data row15 col14\" >9</td>\n",
              "      <td id=\"T_8f4fd_row15_col15\" class=\"data row15 col15\" >51</td>\n",
              "      <td id=\"T_8f4fd_row15_col16\" class=\"data row15 col16\" >119</td>\n",
              "      <td id=\"T_8f4fd_row15_col17\" class=\"data row15 col17\" >253</td>\n",
              "      <td id=\"T_8f4fd_row15_col18\" class=\"data row15 col18\" >253</td>\n",
              "      <td id=\"T_8f4fd_row15_col19\" class=\"data row15 col19\" >253</td>\n",
              "      <td id=\"T_8f4fd_row15_col20\" class=\"data row15 col20\" >76</td>\n",
              "      <td id=\"T_8f4fd_row15_col21\" class=\"data row15 col21\" >0</td>\n",
              "      <td id=\"T_8f4fd_row15_col22\" class=\"data row15 col22\" >0</td>\n",
              "      <td id=\"T_8f4fd_row15_col23\" class=\"data row15 col23\" >0</td>\n",
              "      <td id=\"T_8f4fd_row15_col24\" class=\"data row15 col24\" >0</td>\n",
              "      <td id=\"T_8f4fd_row15_col25\" class=\"data row15 col25\" >0</td>\n",
              "      <td id=\"T_8f4fd_row15_col26\" class=\"data row15 col26\" >0</td>\n",
              "      <td id=\"T_8f4fd_row15_col27\" class=\"data row15 col27\" >0</td>\n",
              "    </tr>\n",
              "    <tr>\n",
              "      <th id=\"T_8f4fd_level0_row16\" class=\"row_heading level0 row16\" >16</th>\n",
              "      <td id=\"T_8f4fd_row16_col0\" class=\"data row16 col0\" >0</td>\n",
              "      <td id=\"T_8f4fd_row16_col1\" class=\"data row16 col1\" >0</td>\n",
              "      <td id=\"T_8f4fd_row16_col2\" class=\"data row16 col2\" >0</td>\n",
              "      <td id=\"T_8f4fd_row16_col3\" class=\"data row16 col3\" >0</td>\n",
              "      <td id=\"T_8f4fd_row16_col4\" class=\"data row16 col4\" >0</td>\n",
              "      <td id=\"T_8f4fd_row16_col5\" class=\"data row16 col5\" >0</td>\n",
              "      <td id=\"T_8f4fd_row16_col6\" class=\"data row16 col6\" >0</td>\n",
              "      <td id=\"T_8f4fd_row16_col7\" class=\"data row16 col7\" >0</td>\n",
              "      <td id=\"T_8f4fd_row16_col8\" class=\"data row16 col8\" >0</td>\n",
              "      <td id=\"T_8f4fd_row16_col9\" class=\"data row16 col9\" >0</td>\n",
              "      <td id=\"T_8f4fd_row16_col10\" class=\"data row16 col10\" >0</td>\n",
              "      <td id=\"T_8f4fd_row16_col11\" class=\"data row16 col11\" >0</td>\n",
              "      <td id=\"T_8f4fd_row16_col12\" class=\"data row16 col12\" >0</td>\n",
              "      <td id=\"T_8f4fd_row16_col13\" class=\"data row16 col13\" >0</td>\n",
              "      <td id=\"T_8f4fd_row16_col14\" class=\"data row16 col14\" >0</td>\n",
              "      <td id=\"T_8f4fd_row16_col15\" class=\"data row16 col15\" >0</td>\n",
              "      <td id=\"T_8f4fd_row16_col16\" class=\"data row16 col16\" >1</td>\n",
              "      <td id=\"T_8f4fd_row16_col17\" class=\"data row16 col17\" >183</td>\n",
              "      <td id=\"T_8f4fd_row16_col18\" class=\"data row16 col18\" >253</td>\n",
              "      <td id=\"T_8f4fd_row16_col19\" class=\"data row16 col19\" >253</td>\n",
              "      <td id=\"T_8f4fd_row16_col20\" class=\"data row16 col20\" >139</td>\n",
              "      <td id=\"T_8f4fd_row16_col21\" class=\"data row16 col21\" >0</td>\n",
              "      <td id=\"T_8f4fd_row16_col22\" class=\"data row16 col22\" >0</td>\n",
              "      <td id=\"T_8f4fd_row16_col23\" class=\"data row16 col23\" >0</td>\n",
              "      <td id=\"T_8f4fd_row16_col24\" class=\"data row16 col24\" >0</td>\n",
              "      <td id=\"T_8f4fd_row16_col25\" class=\"data row16 col25\" >0</td>\n",
              "      <td id=\"T_8f4fd_row16_col26\" class=\"data row16 col26\" >0</td>\n",
              "      <td id=\"T_8f4fd_row16_col27\" class=\"data row16 col27\" >0</td>\n",
              "    </tr>\n",
              "    <tr>\n",
              "      <th id=\"T_8f4fd_level0_row17\" class=\"row_heading level0 row17\" >17</th>\n",
              "      <td id=\"T_8f4fd_row17_col0\" class=\"data row17 col0\" >0</td>\n",
              "      <td id=\"T_8f4fd_row17_col1\" class=\"data row17 col1\" >0</td>\n",
              "      <td id=\"T_8f4fd_row17_col2\" class=\"data row17 col2\" >0</td>\n",
              "      <td id=\"T_8f4fd_row17_col3\" class=\"data row17 col3\" >0</td>\n",
              "      <td id=\"T_8f4fd_row17_col4\" class=\"data row17 col4\" >0</td>\n",
              "      <td id=\"T_8f4fd_row17_col5\" class=\"data row17 col5\" >0</td>\n",
              "      <td id=\"T_8f4fd_row17_col6\" class=\"data row17 col6\" >0</td>\n",
              "      <td id=\"T_8f4fd_row17_col7\" class=\"data row17 col7\" >0</td>\n",
              "      <td id=\"T_8f4fd_row17_col8\" class=\"data row17 col8\" >0</td>\n",
              "      <td id=\"T_8f4fd_row17_col9\" class=\"data row17 col9\" >0</td>\n",
              "      <td id=\"T_8f4fd_row17_col10\" class=\"data row17 col10\" >0</td>\n",
              "      <td id=\"T_8f4fd_row17_col11\" class=\"data row17 col11\" >0</td>\n",
              "      <td id=\"T_8f4fd_row17_col12\" class=\"data row17 col12\" >0</td>\n",
              "      <td id=\"T_8f4fd_row17_col13\" class=\"data row17 col13\" >0</td>\n",
              "      <td id=\"T_8f4fd_row17_col14\" class=\"data row17 col14\" >0</td>\n",
              "      <td id=\"T_8f4fd_row17_col15\" class=\"data row17 col15\" >0</td>\n",
              "      <td id=\"T_8f4fd_row17_col16\" class=\"data row17 col16\" >0</td>\n",
              "      <td id=\"T_8f4fd_row17_col17\" class=\"data row17 col17\" >182</td>\n",
              "      <td id=\"T_8f4fd_row17_col18\" class=\"data row17 col18\" >253</td>\n",
              "      <td id=\"T_8f4fd_row17_col19\" class=\"data row17 col19\" >253</td>\n",
              "      <td id=\"T_8f4fd_row17_col20\" class=\"data row17 col20\" >104</td>\n",
              "      <td id=\"T_8f4fd_row17_col21\" class=\"data row17 col21\" >0</td>\n",
              "      <td id=\"T_8f4fd_row17_col22\" class=\"data row17 col22\" >0</td>\n",
              "      <td id=\"T_8f4fd_row17_col23\" class=\"data row17 col23\" >0</td>\n",
              "      <td id=\"T_8f4fd_row17_col24\" class=\"data row17 col24\" >0</td>\n",
              "      <td id=\"T_8f4fd_row17_col25\" class=\"data row17 col25\" >0</td>\n",
              "      <td id=\"T_8f4fd_row17_col26\" class=\"data row17 col26\" >0</td>\n",
              "      <td id=\"T_8f4fd_row17_col27\" class=\"data row17 col27\" >0</td>\n",
              "    </tr>\n",
              "    <tr>\n",
              "      <th id=\"T_8f4fd_level0_row18\" class=\"row_heading level0 row18\" >18</th>\n",
              "      <td id=\"T_8f4fd_row18_col0\" class=\"data row18 col0\" >0</td>\n",
              "      <td id=\"T_8f4fd_row18_col1\" class=\"data row18 col1\" >0</td>\n",
              "      <td id=\"T_8f4fd_row18_col2\" class=\"data row18 col2\" >0</td>\n",
              "      <td id=\"T_8f4fd_row18_col3\" class=\"data row18 col3\" >0</td>\n",
              "      <td id=\"T_8f4fd_row18_col4\" class=\"data row18 col4\" >0</td>\n",
              "      <td id=\"T_8f4fd_row18_col5\" class=\"data row18 col5\" >0</td>\n",
              "      <td id=\"T_8f4fd_row18_col6\" class=\"data row18 col6\" >0</td>\n",
              "      <td id=\"T_8f4fd_row18_col7\" class=\"data row18 col7\" >0</td>\n",
              "      <td id=\"T_8f4fd_row18_col8\" class=\"data row18 col8\" >0</td>\n",
              "      <td id=\"T_8f4fd_row18_col9\" class=\"data row18 col9\" >0</td>\n",
              "      <td id=\"T_8f4fd_row18_col10\" class=\"data row18 col10\" >0</td>\n",
              "      <td id=\"T_8f4fd_row18_col11\" class=\"data row18 col11\" >0</td>\n",
              "      <td id=\"T_8f4fd_row18_col12\" class=\"data row18 col12\" >0</td>\n",
              "      <td id=\"T_8f4fd_row18_col13\" class=\"data row18 col13\" >0</td>\n",
              "      <td id=\"T_8f4fd_row18_col14\" class=\"data row18 col14\" >0</td>\n",
              "      <td id=\"T_8f4fd_row18_col15\" class=\"data row18 col15\" >0</td>\n",
              "      <td id=\"T_8f4fd_row18_col16\" class=\"data row18 col16\" >85</td>\n",
              "      <td id=\"T_8f4fd_row18_col17\" class=\"data row18 col17\" >249</td>\n",
              "      <td id=\"T_8f4fd_row18_col18\" class=\"data row18 col18\" >253</td>\n",
              "      <td id=\"T_8f4fd_row18_col19\" class=\"data row18 col19\" >253</td>\n",
              "      <td id=\"T_8f4fd_row18_col20\" class=\"data row18 col20\" >36</td>\n",
              "      <td id=\"T_8f4fd_row18_col21\" class=\"data row18 col21\" >0</td>\n",
              "      <td id=\"T_8f4fd_row18_col22\" class=\"data row18 col22\" >0</td>\n",
              "      <td id=\"T_8f4fd_row18_col23\" class=\"data row18 col23\" >0</td>\n",
              "      <td id=\"T_8f4fd_row18_col24\" class=\"data row18 col24\" >0</td>\n",
              "      <td id=\"T_8f4fd_row18_col25\" class=\"data row18 col25\" >0</td>\n",
              "      <td id=\"T_8f4fd_row18_col26\" class=\"data row18 col26\" >0</td>\n",
              "      <td id=\"T_8f4fd_row18_col27\" class=\"data row18 col27\" >0</td>\n",
              "    </tr>\n",
              "    <tr>\n",
              "      <th id=\"T_8f4fd_level0_row19\" class=\"row_heading level0 row19\" >19</th>\n",
              "      <td id=\"T_8f4fd_row19_col0\" class=\"data row19 col0\" >0</td>\n",
              "      <td id=\"T_8f4fd_row19_col1\" class=\"data row19 col1\" >0</td>\n",
              "      <td id=\"T_8f4fd_row19_col2\" class=\"data row19 col2\" >0</td>\n",
              "      <td id=\"T_8f4fd_row19_col3\" class=\"data row19 col3\" >0</td>\n",
              "      <td id=\"T_8f4fd_row19_col4\" class=\"data row19 col4\" >0</td>\n",
              "      <td id=\"T_8f4fd_row19_col5\" class=\"data row19 col5\" >0</td>\n",
              "      <td id=\"T_8f4fd_row19_col6\" class=\"data row19 col6\" >0</td>\n",
              "      <td id=\"T_8f4fd_row19_col7\" class=\"data row19 col7\" >0</td>\n",
              "      <td id=\"T_8f4fd_row19_col8\" class=\"data row19 col8\" >0</td>\n",
              "      <td id=\"T_8f4fd_row19_col9\" class=\"data row19 col9\" >0</td>\n",
              "      <td id=\"T_8f4fd_row19_col10\" class=\"data row19 col10\" >0</td>\n",
              "      <td id=\"T_8f4fd_row19_col11\" class=\"data row19 col11\" >0</td>\n",
              "      <td id=\"T_8f4fd_row19_col12\" class=\"data row19 col12\" >0</td>\n",
              "      <td id=\"T_8f4fd_row19_col13\" class=\"data row19 col13\" >0</td>\n",
              "      <td id=\"T_8f4fd_row19_col14\" class=\"data row19 col14\" >0</td>\n",
              "      <td id=\"T_8f4fd_row19_col15\" class=\"data row19 col15\" >60</td>\n",
              "      <td id=\"T_8f4fd_row19_col16\" class=\"data row19 col16\" >214</td>\n",
              "      <td id=\"T_8f4fd_row19_col17\" class=\"data row19 col17\" >253</td>\n",
              "      <td id=\"T_8f4fd_row19_col18\" class=\"data row19 col18\" >253</td>\n",
              "      <td id=\"T_8f4fd_row19_col19\" class=\"data row19 col19\" >173</td>\n",
              "      <td id=\"T_8f4fd_row19_col20\" class=\"data row19 col20\" >11</td>\n",
              "      <td id=\"T_8f4fd_row19_col21\" class=\"data row19 col21\" >0</td>\n",
              "      <td id=\"T_8f4fd_row19_col22\" class=\"data row19 col22\" >0</td>\n",
              "      <td id=\"T_8f4fd_row19_col23\" class=\"data row19 col23\" >0</td>\n",
              "      <td id=\"T_8f4fd_row19_col24\" class=\"data row19 col24\" >0</td>\n",
              "      <td id=\"T_8f4fd_row19_col25\" class=\"data row19 col25\" >0</td>\n",
              "      <td id=\"T_8f4fd_row19_col26\" class=\"data row19 col26\" >0</td>\n",
              "      <td id=\"T_8f4fd_row19_col27\" class=\"data row19 col27\" >0</td>\n",
              "    </tr>\n",
              "    <tr>\n",
              "      <th id=\"T_8f4fd_level0_row20\" class=\"row_heading level0 row20\" >20</th>\n",
              "      <td id=\"T_8f4fd_row20_col0\" class=\"data row20 col0\" >0</td>\n",
              "      <td id=\"T_8f4fd_row20_col1\" class=\"data row20 col1\" >0</td>\n",
              "      <td id=\"T_8f4fd_row20_col2\" class=\"data row20 col2\" >0</td>\n",
              "      <td id=\"T_8f4fd_row20_col3\" class=\"data row20 col3\" >0</td>\n",
              "      <td id=\"T_8f4fd_row20_col4\" class=\"data row20 col4\" >0</td>\n",
              "      <td id=\"T_8f4fd_row20_col5\" class=\"data row20 col5\" >0</td>\n",
              "      <td id=\"T_8f4fd_row20_col6\" class=\"data row20 col6\" >0</td>\n",
              "      <td id=\"T_8f4fd_row20_col7\" class=\"data row20 col7\" >0</td>\n",
              "      <td id=\"T_8f4fd_row20_col8\" class=\"data row20 col8\" >0</td>\n",
              "      <td id=\"T_8f4fd_row20_col9\" class=\"data row20 col9\" >0</td>\n",
              "      <td id=\"T_8f4fd_row20_col10\" class=\"data row20 col10\" >0</td>\n",
              "      <td id=\"T_8f4fd_row20_col11\" class=\"data row20 col11\" >0</td>\n",
              "      <td id=\"T_8f4fd_row20_col12\" class=\"data row20 col12\" >0</td>\n",
              "      <td id=\"T_8f4fd_row20_col13\" class=\"data row20 col13\" >0</td>\n",
              "      <td id=\"T_8f4fd_row20_col14\" class=\"data row20 col14\" >98</td>\n",
              "      <td id=\"T_8f4fd_row20_col15\" class=\"data row20 col15\" >247</td>\n",
              "      <td id=\"T_8f4fd_row20_col16\" class=\"data row20 col16\" >253</td>\n",
              "      <td id=\"T_8f4fd_row20_col17\" class=\"data row20 col17\" >253</td>\n",
              "      <td id=\"T_8f4fd_row20_col18\" class=\"data row20 col18\" >226</td>\n",
              "      <td id=\"T_8f4fd_row20_col19\" class=\"data row20 col19\" >9</td>\n",
              "      <td id=\"T_8f4fd_row20_col20\" class=\"data row20 col20\" >0</td>\n",
              "      <td id=\"T_8f4fd_row20_col21\" class=\"data row20 col21\" >0</td>\n",
              "      <td id=\"T_8f4fd_row20_col22\" class=\"data row20 col22\" >0</td>\n",
              "      <td id=\"T_8f4fd_row20_col23\" class=\"data row20 col23\" >0</td>\n",
              "      <td id=\"T_8f4fd_row20_col24\" class=\"data row20 col24\" >0</td>\n",
              "      <td id=\"T_8f4fd_row20_col25\" class=\"data row20 col25\" >0</td>\n",
              "      <td id=\"T_8f4fd_row20_col26\" class=\"data row20 col26\" >0</td>\n",
              "      <td id=\"T_8f4fd_row20_col27\" class=\"data row20 col27\" >0</td>\n",
              "    </tr>\n",
              "    <tr>\n",
              "      <th id=\"T_8f4fd_level0_row21\" class=\"row_heading level0 row21\" >21</th>\n",
              "      <td id=\"T_8f4fd_row21_col0\" class=\"data row21 col0\" >0</td>\n",
              "      <td id=\"T_8f4fd_row21_col1\" class=\"data row21 col1\" >0</td>\n",
              "      <td id=\"T_8f4fd_row21_col2\" class=\"data row21 col2\" >0</td>\n",
              "      <td id=\"T_8f4fd_row21_col3\" class=\"data row21 col3\" >0</td>\n",
              "      <td id=\"T_8f4fd_row21_col4\" class=\"data row21 col4\" >0</td>\n",
              "      <td id=\"T_8f4fd_row21_col5\" class=\"data row21 col5\" >0</td>\n",
              "      <td id=\"T_8f4fd_row21_col6\" class=\"data row21 col6\" >0</td>\n",
              "      <td id=\"T_8f4fd_row21_col7\" class=\"data row21 col7\" >0</td>\n",
              "      <td id=\"T_8f4fd_row21_col8\" class=\"data row21 col8\" >0</td>\n",
              "      <td id=\"T_8f4fd_row21_col9\" class=\"data row21 col9\" >0</td>\n",
              "      <td id=\"T_8f4fd_row21_col10\" class=\"data row21 col10\" >0</td>\n",
              "      <td id=\"T_8f4fd_row21_col11\" class=\"data row21 col11\" >0</td>\n",
              "      <td id=\"T_8f4fd_row21_col12\" class=\"data row21 col12\" >42</td>\n",
              "      <td id=\"T_8f4fd_row21_col13\" class=\"data row21 col13\" >150</td>\n",
              "      <td id=\"T_8f4fd_row21_col14\" class=\"data row21 col14\" >252</td>\n",
              "      <td id=\"T_8f4fd_row21_col15\" class=\"data row21 col15\" >253</td>\n",
              "      <td id=\"T_8f4fd_row21_col16\" class=\"data row21 col16\" >253</td>\n",
              "      <td id=\"T_8f4fd_row21_col17\" class=\"data row21 col17\" >233</td>\n",
              "      <td id=\"T_8f4fd_row21_col18\" class=\"data row21 col18\" >53</td>\n",
              "      <td id=\"T_8f4fd_row21_col19\" class=\"data row21 col19\" >0</td>\n",
              "      <td id=\"T_8f4fd_row21_col20\" class=\"data row21 col20\" >0</td>\n",
              "      <td id=\"T_8f4fd_row21_col21\" class=\"data row21 col21\" >0</td>\n",
              "      <td id=\"T_8f4fd_row21_col22\" class=\"data row21 col22\" >0</td>\n",
              "      <td id=\"T_8f4fd_row21_col23\" class=\"data row21 col23\" >0</td>\n",
              "      <td id=\"T_8f4fd_row21_col24\" class=\"data row21 col24\" >0</td>\n",
              "      <td id=\"T_8f4fd_row21_col25\" class=\"data row21 col25\" >0</td>\n",
              "      <td id=\"T_8f4fd_row21_col26\" class=\"data row21 col26\" >0</td>\n",
              "      <td id=\"T_8f4fd_row21_col27\" class=\"data row21 col27\" >0</td>\n",
              "    </tr>\n",
              "    <tr>\n",
              "      <th id=\"T_8f4fd_level0_row22\" class=\"row_heading level0 row22\" >22</th>\n",
              "      <td id=\"T_8f4fd_row22_col0\" class=\"data row22 col0\" >0</td>\n",
              "      <td id=\"T_8f4fd_row22_col1\" class=\"data row22 col1\" >0</td>\n",
              "      <td id=\"T_8f4fd_row22_col2\" class=\"data row22 col2\" >0</td>\n",
              "      <td id=\"T_8f4fd_row22_col3\" class=\"data row22 col3\" >0</td>\n",
              "      <td id=\"T_8f4fd_row22_col4\" class=\"data row22 col4\" >0</td>\n",
              "      <td id=\"T_8f4fd_row22_col5\" class=\"data row22 col5\" >0</td>\n",
              "      <td id=\"T_8f4fd_row22_col6\" class=\"data row22 col6\" >42</td>\n",
              "      <td id=\"T_8f4fd_row22_col7\" class=\"data row22 col7\" >115</td>\n",
              "      <td id=\"T_8f4fd_row22_col8\" class=\"data row22 col8\" >42</td>\n",
              "      <td id=\"T_8f4fd_row22_col9\" class=\"data row22 col9\" >60</td>\n",
              "      <td id=\"T_8f4fd_row22_col10\" class=\"data row22 col10\" >115</td>\n",
              "      <td id=\"T_8f4fd_row22_col11\" class=\"data row22 col11\" >159</td>\n",
              "      <td id=\"T_8f4fd_row22_col12\" class=\"data row22 col12\" >240</td>\n",
              "      <td id=\"T_8f4fd_row22_col13\" class=\"data row22 col13\" >253</td>\n",
              "      <td id=\"T_8f4fd_row22_col14\" class=\"data row22 col14\" >253</td>\n",
              "      <td id=\"T_8f4fd_row22_col15\" class=\"data row22 col15\" >250</td>\n",
              "      <td id=\"T_8f4fd_row22_col16\" class=\"data row22 col16\" >175</td>\n",
              "      <td id=\"T_8f4fd_row22_col17\" class=\"data row22 col17\" >25</td>\n",
              "      <td id=\"T_8f4fd_row22_col18\" class=\"data row22 col18\" >0</td>\n",
              "      <td id=\"T_8f4fd_row22_col19\" class=\"data row22 col19\" >0</td>\n",
              "      <td id=\"T_8f4fd_row22_col20\" class=\"data row22 col20\" >0</td>\n",
              "      <td id=\"T_8f4fd_row22_col21\" class=\"data row22 col21\" >0</td>\n",
              "      <td id=\"T_8f4fd_row22_col22\" class=\"data row22 col22\" >0</td>\n",
              "      <td id=\"T_8f4fd_row22_col23\" class=\"data row22 col23\" >0</td>\n",
              "      <td id=\"T_8f4fd_row22_col24\" class=\"data row22 col24\" >0</td>\n",
              "      <td id=\"T_8f4fd_row22_col25\" class=\"data row22 col25\" >0</td>\n",
              "      <td id=\"T_8f4fd_row22_col26\" class=\"data row22 col26\" >0</td>\n",
              "      <td id=\"T_8f4fd_row22_col27\" class=\"data row22 col27\" >0</td>\n",
              "    </tr>\n",
              "    <tr>\n",
              "      <th id=\"T_8f4fd_level0_row23\" class=\"row_heading level0 row23\" >23</th>\n",
              "      <td id=\"T_8f4fd_row23_col0\" class=\"data row23 col0\" >0</td>\n",
              "      <td id=\"T_8f4fd_row23_col1\" class=\"data row23 col1\" >0</td>\n",
              "      <td id=\"T_8f4fd_row23_col2\" class=\"data row23 col2\" >0</td>\n",
              "      <td id=\"T_8f4fd_row23_col3\" class=\"data row23 col3\" >0</td>\n",
              "      <td id=\"T_8f4fd_row23_col4\" class=\"data row23 col4\" >0</td>\n",
              "      <td id=\"T_8f4fd_row23_col5\" class=\"data row23 col5\" >0</td>\n",
              "      <td id=\"T_8f4fd_row23_col6\" class=\"data row23 col6\" >187</td>\n",
              "      <td id=\"T_8f4fd_row23_col7\" class=\"data row23 col7\" >253</td>\n",
              "      <td id=\"T_8f4fd_row23_col8\" class=\"data row23 col8\" >253</td>\n",
              "      <td id=\"T_8f4fd_row23_col9\" class=\"data row23 col9\" >253</td>\n",
              "      <td id=\"T_8f4fd_row23_col10\" class=\"data row23 col10\" >253</td>\n",
              "      <td id=\"T_8f4fd_row23_col11\" class=\"data row23 col11\" >253</td>\n",
              "      <td id=\"T_8f4fd_row23_col12\" class=\"data row23 col12\" >253</td>\n",
              "      <td id=\"T_8f4fd_row23_col13\" class=\"data row23 col13\" >253</td>\n",
              "      <td id=\"T_8f4fd_row23_col14\" class=\"data row23 col14\" >197</td>\n",
              "      <td id=\"T_8f4fd_row23_col15\" class=\"data row23 col15\" >86</td>\n",
              "      <td id=\"T_8f4fd_row23_col16\" class=\"data row23 col16\" >0</td>\n",
              "      <td id=\"T_8f4fd_row23_col17\" class=\"data row23 col17\" >0</td>\n",
              "      <td id=\"T_8f4fd_row23_col18\" class=\"data row23 col18\" >0</td>\n",
              "      <td id=\"T_8f4fd_row23_col19\" class=\"data row23 col19\" >0</td>\n",
              "      <td id=\"T_8f4fd_row23_col20\" class=\"data row23 col20\" >0</td>\n",
              "      <td id=\"T_8f4fd_row23_col21\" class=\"data row23 col21\" >0</td>\n",
              "      <td id=\"T_8f4fd_row23_col22\" class=\"data row23 col22\" >0</td>\n",
              "      <td id=\"T_8f4fd_row23_col23\" class=\"data row23 col23\" >0</td>\n",
              "      <td id=\"T_8f4fd_row23_col24\" class=\"data row23 col24\" >0</td>\n",
              "      <td id=\"T_8f4fd_row23_col25\" class=\"data row23 col25\" >0</td>\n",
              "      <td id=\"T_8f4fd_row23_col26\" class=\"data row23 col26\" >0</td>\n",
              "      <td id=\"T_8f4fd_row23_col27\" class=\"data row23 col27\" >0</td>\n",
              "    </tr>\n",
              "    <tr>\n",
              "      <th id=\"T_8f4fd_level0_row24\" class=\"row_heading level0 row24\" >24</th>\n",
              "      <td id=\"T_8f4fd_row24_col0\" class=\"data row24 col0\" >0</td>\n",
              "      <td id=\"T_8f4fd_row24_col1\" class=\"data row24 col1\" >0</td>\n",
              "      <td id=\"T_8f4fd_row24_col2\" class=\"data row24 col2\" >0</td>\n",
              "      <td id=\"T_8f4fd_row24_col3\" class=\"data row24 col3\" >0</td>\n",
              "      <td id=\"T_8f4fd_row24_col4\" class=\"data row24 col4\" >0</td>\n",
              "      <td id=\"T_8f4fd_row24_col5\" class=\"data row24 col5\" >0</td>\n",
              "      <td id=\"T_8f4fd_row24_col6\" class=\"data row24 col6\" >103</td>\n",
              "      <td id=\"T_8f4fd_row24_col7\" class=\"data row24 col7\" >253</td>\n",
              "      <td id=\"T_8f4fd_row24_col8\" class=\"data row24 col8\" >253</td>\n",
              "      <td id=\"T_8f4fd_row24_col9\" class=\"data row24 col9\" >253</td>\n",
              "      <td id=\"T_8f4fd_row24_col10\" class=\"data row24 col10\" >253</td>\n",
              "      <td id=\"T_8f4fd_row24_col11\" class=\"data row24 col11\" >253</td>\n",
              "      <td id=\"T_8f4fd_row24_col12\" class=\"data row24 col12\" >232</td>\n",
              "      <td id=\"T_8f4fd_row24_col13\" class=\"data row24 col13\" >67</td>\n",
              "      <td id=\"T_8f4fd_row24_col14\" class=\"data row24 col14\" >1</td>\n",
              "      <td id=\"T_8f4fd_row24_col15\" class=\"data row24 col15\" >0</td>\n",
              "      <td id=\"T_8f4fd_row24_col16\" class=\"data row24 col16\" >0</td>\n",
              "      <td id=\"T_8f4fd_row24_col17\" class=\"data row24 col17\" >0</td>\n",
              "      <td id=\"T_8f4fd_row24_col18\" class=\"data row24 col18\" >0</td>\n",
              "      <td id=\"T_8f4fd_row24_col19\" class=\"data row24 col19\" >0</td>\n",
              "      <td id=\"T_8f4fd_row24_col20\" class=\"data row24 col20\" >0</td>\n",
              "      <td id=\"T_8f4fd_row24_col21\" class=\"data row24 col21\" >0</td>\n",
              "      <td id=\"T_8f4fd_row24_col22\" class=\"data row24 col22\" >0</td>\n",
              "      <td id=\"T_8f4fd_row24_col23\" class=\"data row24 col23\" >0</td>\n",
              "      <td id=\"T_8f4fd_row24_col24\" class=\"data row24 col24\" >0</td>\n",
              "      <td id=\"T_8f4fd_row24_col25\" class=\"data row24 col25\" >0</td>\n",
              "      <td id=\"T_8f4fd_row24_col26\" class=\"data row24 col26\" >0</td>\n",
              "      <td id=\"T_8f4fd_row24_col27\" class=\"data row24 col27\" >0</td>\n",
              "    </tr>\n",
              "    <tr>\n",
              "      <th id=\"T_8f4fd_level0_row25\" class=\"row_heading level0 row25\" >25</th>\n",
              "      <td id=\"T_8f4fd_row25_col0\" class=\"data row25 col0\" >0</td>\n",
              "      <td id=\"T_8f4fd_row25_col1\" class=\"data row25 col1\" >0</td>\n",
              "      <td id=\"T_8f4fd_row25_col2\" class=\"data row25 col2\" >0</td>\n",
              "      <td id=\"T_8f4fd_row25_col3\" class=\"data row25 col3\" >0</td>\n",
              "      <td id=\"T_8f4fd_row25_col4\" class=\"data row25 col4\" >0</td>\n",
              "      <td id=\"T_8f4fd_row25_col5\" class=\"data row25 col5\" >0</td>\n",
              "      <td id=\"T_8f4fd_row25_col6\" class=\"data row25 col6\" >0</td>\n",
              "      <td id=\"T_8f4fd_row25_col7\" class=\"data row25 col7\" >0</td>\n",
              "      <td id=\"T_8f4fd_row25_col8\" class=\"data row25 col8\" >0</td>\n",
              "      <td id=\"T_8f4fd_row25_col9\" class=\"data row25 col9\" >0</td>\n",
              "      <td id=\"T_8f4fd_row25_col10\" class=\"data row25 col10\" >0</td>\n",
              "      <td id=\"T_8f4fd_row25_col11\" class=\"data row25 col11\" >0</td>\n",
              "      <td id=\"T_8f4fd_row25_col12\" class=\"data row25 col12\" >0</td>\n",
              "      <td id=\"T_8f4fd_row25_col13\" class=\"data row25 col13\" >0</td>\n",
              "      <td id=\"T_8f4fd_row25_col14\" class=\"data row25 col14\" >0</td>\n",
              "      <td id=\"T_8f4fd_row25_col15\" class=\"data row25 col15\" >0</td>\n",
              "      <td id=\"T_8f4fd_row25_col16\" class=\"data row25 col16\" >0</td>\n",
              "      <td id=\"T_8f4fd_row25_col17\" class=\"data row25 col17\" >0</td>\n",
              "      <td id=\"T_8f4fd_row25_col18\" class=\"data row25 col18\" >0</td>\n",
              "      <td id=\"T_8f4fd_row25_col19\" class=\"data row25 col19\" >0</td>\n",
              "      <td id=\"T_8f4fd_row25_col20\" class=\"data row25 col20\" >0</td>\n",
              "      <td id=\"T_8f4fd_row25_col21\" class=\"data row25 col21\" >0</td>\n",
              "      <td id=\"T_8f4fd_row25_col22\" class=\"data row25 col22\" >0</td>\n",
              "      <td id=\"T_8f4fd_row25_col23\" class=\"data row25 col23\" >0</td>\n",
              "      <td id=\"T_8f4fd_row25_col24\" class=\"data row25 col24\" >0</td>\n",
              "      <td id=\"T_8f4fd_row25_col25\" class=\"data row25 col25\" >0</td>\n",
              "      <td id=\"T_8f4fd_row25_col26\" class=\"data row25 col26\" >0</td>\n",
              "      <td id=\"T_8f4fd_row25_col27\" class=\"data row25 col27\" >0</td>\n",
              "    </tr>\n",
              "    <tr>\n",
              "      <th id=\"T_8f4fd_level0_row26\" class=\"row_heading level0 row26\" >26</th>\n",
              "      <td id=\"T_8f4fd_row26_col0\" class=\"data row26 col0\" >0</td>\n",
              "      <td id=\"T_8f4fd_row26_col1\" class=\"data row26 col1\" >0</td>\n",
              "      <td id=\"T_8f4fd_row26_col2\" class=\"data row26 col2\" >0</td>\n",
              "      <td id=\"T_8f4fd_row26_col3\" class=\"data row26 col3\" >0</td>\n",
              "      <td id=\"T_8f4fd_row26_col4\" class=\"data row26 col4\" >0</td>\n",
              "      <td id=\"T_8f4fd_row26_col5\" class=\"data row26 col5\" >0</td>\n",
              "      <td id=\"T_8f4fd_row26_col6\" class=\"data row26 col6\" >0</td>\n",
              "      <td id=\"T_8f4fd_row26_col7\" class=\"data row26 col7\" >0</td>\n",
              "      <td id=\"T_8f4fd_row26_col8\" class=\"data row26 col8\" >0</td>\n",
              "      <td id=\"T_8f4fd_row26_col9\" class=\"data row26 col9\" >0</td>\n",
              "      <td id=\"T_8f4fd_row26_col10\" class=\"data row26 col10\" >0</td>\n",
              "      <td id=\"T_8f4fd_row26_col11\" class=\"data row26 col11\" >0</td>\n",
              "      <td id=\"T_8f4fd_row26_col12\" class=\"data row26 col12\" >0</td>\n",
              "      <td id=\"T_8f4fd_row26_col13\" class=\"data row26 col13\" >0</td>\n",
              "      <td id=\"T_8f4fd_row26_col14\" class=\"data row26 col14\" >0</td>\n",
              "      <td id=\"T_8f4fd_row26_col15\" class=\"data row26 col15\" >0</td>\n",
              "      <td id=\"T_8f4fd_row26_col16\" class=\"data row26 col16\" >0</td>\n",
              "      <td id=\"T_8f4fd_row26_col17\" class=\"data row26 col17\" >0</td>\n",
              "      <td id=\"T_8f4fd_row26_col18\" class=\"data row26 col18\" >0</td>\n",
              "      <td id=\"T_8f4fd_row26_col19\" class=\"data row26 col19\" >0</td>\n",
              "      <td id=\"T_8f4fd_row26_col20\" class=\"data row26 col20\" >0</td>\n",
              "      <td id=\"T_8f4fd_row26_col21\" class=\"data row26 col21\" >0</td>\n",
              "      <td id=\"T_8f4fd_row26_col22\" class=\"data row26 col22\" >0</td>\n",
              "      <td id=\"T_8f4fd_row26_col23\" class=\"data row26 col23\" >0</td>\n",
              "      <td id=\"T_8f4fd_row26_col24\" class=\"data row26 col24\" >0</td>\n",
              "      <td id=\"T_8f4fd_row26_col25\" class=\"data row26 col25\" >0</td>\n",
              "      <td id=\"T_8f4fd_row26_col26\" class=\"data row26 col26\" >0</td>\n",
              "      <td id=\"T_8f4fd_row26_col27\" class=\"data row26 col27\" >0</td>\n",
              "    </tr>\n",
              "    <tr>\n",
              "      <th id=\"T_8f4fd_level0_row27\" class=\"row_heading level0 row27\" >27</th>\n",
              "      <td id=\"T_8f4fd_row27_col0\" class=\"data row27 col0\" >0</td>\n",
              "      <td id=\"T_8f4fd_row27_col1\" class=\"data row27 col1\" >0</td>\n",
              "      <td id=\"T_8f4fd_row27_col2\" class=\"data row27 col2\" >0</td>\n",
              "      <td id=\"T_8f4fd_row27_col3\" class=\"data row27 col3\" >0</td>\n",
              "      <td id=\"T_8f4fd_row27_col4\" class=\"data row27 col4\" >0</td>\n",
              "      <td id=\"T_8f4fd_row27_col5\" class=\"data row27 col5\" >0</td>\n",
              "      <td id=\"T_8f4fd_row27_col6\" class=\"data row27 col6\" >0</td>\n",
              "      <td id=\"T_8f4fd_row27_col7\" class=\"data row27 col7\" >0</td>\n",
              "      <td id=\"T_8f4fd_row27_col8\" class=\"data row27 col8\" >0</td>\n",
              "      <td id=\"T_8f4fd_row27_col9\" class=\"data row27 col9\" >0</td>\n",
              "      <td id=\"T_8f4fd_row27_col10\" class=\"data row27 col10\" >0</td>\n",
              "      <td id=\"T_8f4fd_row27_col11\" class=\"data row27 col11\" >0</td>\n",
              "      <td id=\"T_8f4fd_row27_col12\" class=\"data row27 col12\" >0</td>\n",
              "      <td id=\"T_8f4fd_row27_col13\" class=\"data row27 col13\" >0</td>\n",
              "      <td id=\"T_8f4fd_row27_col14\" class=\"data row27 col14\" >0</td>\n",
              "      <td id=\"T_8f4fd_row27_col15\" class=\"data row27 col15\" >0</td>\n",
              "      <td id=\"T_8f4fd_row27_col16\" class=\"data row27 col16\" >0</td>\n",
              "      <td id=\"T_8f4fd_row27_col17\" class=\"data row27 col17\" >0</td>\n",
              "      <td id=\"T_8f4fd_row27_col18\" class=\"data row27 col18\" >0</td>\n",
              "      <td id=\"T_8f4fd_row27_col19\" class=\"data row27 col19\" >0</td>\n",
              "      <td id=\"T_8f4fd_row27_col20\" class=\"data row27 col20\" >0</td>\n",
              "      <td id=\"T_8f4fd_row27_col21\" class=\"data row27 col21\" >0</td>\n",
              "      <td id=\"T_8f4fd_row27_col22\" class=\"data row27 col22\" >0</td>\n",
              "      <td id=\"T_8f4fd_row27_col23\" class=\"data row27 col23\" >0</td>\n",
              "      <td id=\"T_8f4fd_row27_col24\" class=\"data row27 col24\" >0</td>\n",
              "      <td id=\"T_8f4fd_row27_col25\" class=\"data row27 col25\" >0</td>\n",
              "      <td id=\"T_8f4fd_row27_col26\" class=\"data row27 col26\" >0</td>\n",
              "      <td id=\"T_8f4fd_row27_col27\" class=\"data row27 col27\" >0</td>\n",
              "    </tr>\n",
              "  </tbody>\n",
              "</table>\n"
            ]
          },
          "metadata": {},
          "execution_count": 16
        }
      ]
    },
    {
      "cell_type": "markdown",
      "metadata": {
        "id": "Opv8nEiYKH9R"
      },
      "source": [
        "## First Try: Pixel Similarity"
      ]
    },
    {
      "cell_type": "code",
      "execution_count": 17,
      "metadata": {
        "id": "fisUD_ClKH9R",
        "outputId": "2b9443d5-4a7b-4c8d-a34d-86eb3bbbe35a",
        "colab": {
          "base_uri": "https://localhost:8080/"
        }
      },
      "outputs": [
        {
          "output_type": "execute_result",
          "data": {
            "text/plain": [
              "(6131, 6265)"
            ]
          },
          "metadata": {},
          "execution_count": 17
        }
      ],
      "source": [
        "seven_tensors = [tensor(Image.open(o)) for o in sevens]\n",
        "three_tensors = [tensor(Image.open(o)) for o in threes]\n",
        "len(three_tensors),len(seven_tensors)"
      ]
    },
    {
      "cell_type": "code",
      "execution_count": 18,
      "metadata": {
        "id": "dZATlWHsKH9S",
        "outputId": "368ba14c-22c7-49ef-f6ed-e6e0342675d5",
        "colab": {
          "base_uri": "https://localhost:8080/",
          "height": 114
        }
      },
      "outputs": [
        {
          "output_type": "display_data",
          "data": {
            "text/plain": [
              "<Figure size 100x100 with 1 Axes>"
            ],
            "image/png": "[encoded data removed]"
          },
          "metadata": {}
        }
      ],
      "source": [
        "show_image(three_tensors[1]);"
      ]
    },
    {
      "cell_type": "code",
      "execution_count": 19,
      "metadata": {
        "id": "ygkmp2K2KH9S",
        "outputId": "a914fd7c-94a0-45be-a9fa-7da8110fdf9d",
        "colab": {
          "base_uri": "https://localhost:8080/"
        }
      },
      "outputs": [
        {
          "output_type": "execute_result",
          "data": {
            "text/plain": [
              "torch.Size([6131, 28, 28])"
            ]
          },
          "metadata": {},
          "execution_count": 19
        }
      ],
      "source": [
        "stacked_sevens = torch.stack(seven_tensors).float()/255\n",
        "stacked_threes = torch.stack(three_tensors).float()/255\n",
        "stacked_threes.shape"
      ]
    },
    {
      "cell_type": "code",
      "execution_count": 20,
      "metadata": {
        "id": "H-thGtKaKH9T",
        "outputId": "9e6dcf15-8b53-4b87-e257-11a33768afe2",
        "colab": {
          "base_uri": "https://localhost:8080/"
        }
      },
      "outputs": [
        {
          "output_type": "execute_result",
          "data": {
            "text/plain": [
              "3"
            ]
          },
          "metadata": {},
          "execution_count": 20
        }
      ],
      "source": [
        "len(stacked_threes.shape)"
      ]
    },
    {
      "cell_type": "code",
      "execution_count": 21,
      "metadata": {
        "id": "Vi3oJ8ERKH9T",
        "outputId": "758720e2-ef82-4182-8ac6-d3e725094246",
        "colab": {
          "base_uri": "https://localhost:8080/"
        }
      },
      "outputs": [
        {
          "output_type": "execute_result",
          "data": {
            "text/plain": [
              "3"
            ]
          },
          "metadata": {},
          "execution_count": 21
        }
      ],
      "source": [
        "stacked_threes.ndim"
      ]
    },
    {
      "cell_type": "code",
      "execution_count": 22,
      "metadata": {
        "id": "JcyZbontKH9T",
        "outputId": "46610c00-28b1-4dc2-bcf1-4373494aef7a",
        "colab": {
          "base_uri": "https://localhost:8080/",
          "height": 114
        }
      },
      "outputs": [
        {
          "output_type": "display_data",
          "data": {
            "text/plain": [
              "<Figure size 100x100 with 1 Axes>"
            ],
            "image/png": "[encoded data removed]"
          },
          "metadata": {}
        }
      ],
      "source": [
        "mean3 = stacked_threes.mean(0)\n",
        "show_image(mean3);"
      ]
    },
    {
      "cell_type": "code",
      "execution_count": 23,
      "metadata": {
        "id": "c9I7gA4SKH9U",
        "outputId": "42614eda-abfc-48d4-be0c-bf704cf7e14f",
        "colab": {
          "base_uri": "https://localhost:8080/",
          "height": 114
        }
      },
      "outputs": [
        {
          "output_type": "display_data",
          "data": {
            "text/plain": [
              "<Figure size 100x100 with 1 Axes>"
            ],
            "image/png": "[encoded data removed]"
          },
          "metadata": {}
        }
      ],
      "source": [
        "mean7 = stacked_sevens.mean(0)\n",
        "show_image(mean7);"
      ]
    },
    {
      "cell_type": "code",
      "execution_count": 24,
      "metadata": {
        "id": "87SpaOW8KH9U",
        "outputId": "102651c0-3fce-4cec-93b6-48078f048940",
        "colab": {
          "base_uri": "https://localhost:8080/",
          "height": 114
        }
      },
      "outputs": [
        {
          "output_type": "display_data",
          "data": {
            "text/plain": [
              "<Figure size 100x100 with 1 Axes>"
            ],
            "image/png": "[encoded data removed]"
          },
          "metadata": {}
        }
      ],
      "source": [
        "a_3 = stacked_threes[1]\n",
        "show_image(a_3);"
      ]
    },
    {
      "cell_type": "code",
      "execution_count": 25,
      "metadata": {
        "id": "MBh-qRCsKH9U",
        "outputId": "67ab5062-1d53-41e9-9a49-36ce3a191cff",
        "colab": {
          "base_uri": "https://localhost:8080/"
        }
      },
      "outputs": [
        {
          "output_type": "execute_result",
          "data": {
            "text/plain": [
              "(tensor(0.1114), tensor(0.2021))"
            ]
          },
          "metadata": {},
          "execution_count": 25
        }
      ],
      "source": [
        "dist_3_abs = (a_3 - mean3).abs().mean()\n",
        "dist_3_sqr = ((a_3 - mean3)**2).mean().sqrt()\n",
        "dist_3_abs,dist_3_sqr"
      ]
    },
    {
      "cell_type": "code",
      "execution_count": 26,
      "metadata": {
        "id": "kimPE0sdKH9U",
        "outputId": "ca3c9945-d77a-4a34-a489-07faa0388ba9",
        "colab": {
          "base_uri": "https://localhost:8080/"
        }
      },
      "outputs": [
        {
          "output_type": "execute_result",
          "data": {
            "text/plain": [
              "(tensor(0.1586), tensor(0.3021))"
            ]
          },
          "metadata": {},
          "execution_count": 26
        }
      ],
      "source": [
        "dist_7_abs = (a_3 - mean7).abs().mean()\n",
        "dist_7_sqr = ((a_3 - mean7)**2).mean().sqrt()\n",
        "dist_7_abs,dist_7_sqr"
      ]
    },
    {
      "cell_type": "code",
      "execution_count": 27,
      "metadata": {
        "id": "Z3Gsekx2KH9V",
        "outputId": "01d363d7-fb77-4238-aa88-08c2002ff81f",
        "colab": {
          "base_uri": "https://localhost:8080/"
        }
      },
      "outputs": [
        {
          "output_type": "execute_result",
          "data": {
            "text/plain": [
              "(tensor(0.1586), tensor(0.3021))"
            ]
          },
          "metadata": {},
          "execution_count": 27
        }
      ],
      "source": [
        "F.l1_loss(a_3.float(),mean7), F.mse_loss(a_3,mean7).sqrt()"
      ]
    },
    {
      "cell_type": "markdown",
      "metadata": {
        "id": "7JmYAw1FKH9V"
      },
      "source": [
        "### NumPy Arrays and PyTorch Tensors"
      ]
    },
    {
      "cell_type": "code",
      "execution_count": 28,
      "metadata": {
        "id": "JMz5kHiUKH9V"
      },
      "outputs": [],
      "source": [
        "data = [[1,2,3],[4,5,6]]\n",
        "arr = array (data)\n",
        "tns = tensor(data)"
      ]
    },
    {
      "cell_type": "code",
      "execution_count": 29,
      "metadata": {
        "id": "Fn93zOAPKH9V",
        "outputId": "56977ef5-e868-46a9-bf09-08d6fd0eae8c",
        "colab": {
          "base_uri": "https://localhost:8080/"
        }
      },
      "outputs": [
        {
          "output_type": "execute_result",
          "data": {
            "text/plain": [
              "array([[1, 2, 3],\n",
              "       [4, 5, 6]])"
            ]
          },
          "metadata": {},
          "execution_count": 29
        }
      ],
      "source": [
        "arr  # numpy"
      ]
    },
    {
      "cell_type": "code",
      "execution_count": 30,
      "metadata": {
        "id": "OhVhlqEhKH9W",
        "outputId": "96f4c3f4-5f1b-4447-83cb-c1e6716d565c",
        "colab": {
          "base_uri": "https://localhost:8080/"
        }
      },
      "outputs": [
        {
          "output_type": "execute_result",
          "data": {
            "text/plain": [
              "tensor([[1, 2, 3],\n",
              "        [4, 5, 6]])"
            ]
          },
          "metadata": {},
          "execution_count": 30
        }
      ],
      "source": [
        "tns  # pytorch"
      ]
    },
    {
      "cell_type": "code",
      "execution_count": 31,
      "metadata": {
        "id": "fNuiUUVRKH9W",
        "outputId": "a9900e94-1f1e-437f-c6ff-d769b51731ea",
        "colab": {
          "base_uri": "https://localhost:8080/"
        }
      },
      "outputs": [
        {
          "output_type": "execute_result",
          "data": {
            "text/plain": [
              "tensor([4, 5, 6])"
            ]
          },
          "metadata": {},
          "execution_count": 31
        }
      ],
      "source": [
        "tns[1]"
      ]
    },
    {
      "cell_type": "code",
      "execution_count": 32,
      "metadata": {
        "id": "buFr--08KH9X",
        "outputId": "49e0b9de-ce25-4f40-d8fc-b4063fd2ed98",
        "colab": {
          "base_uri": "https://localhost:8080/"
        }
      },
      "outputs": [
        {
          "output_type": "execute_result",
          "data": {
            "text/plain": [
              "tensor([2, 5])"
            ]
          },
          "metadata": {},
          "execution_count": 32
        }
      ],
      "source": [
        "tns[:,1]"
      ]
    },
    {
      "cell_type": "code",
      "execution_count": 33,
      "metadata": {
        "id": "TwWytoslKH9Y",
        "outputId": "e8795720-2761-43c1-d566-b27b45e0304a",
        "colab": {
          "base_uri": "https://localhost:8080/"
        }
      },
      "outputs": [
        {
          "output_type": "execute_result",
          "data": {
            "text/plain": [
              "tensor([5, 6])"
            ]
          },
          "metadata": {},
          "execution_count": 33
        }
      ],
      "source": [
        "tns[1,1:3]"
      ]
    },
    {
      "cell_type": "code",
      "execution_count": 34,
      "metadata": {
        "id": "N6BvP6m9KH9Y",
        "outputId": "3f700453-74f3-4278-a4ae-1ac467cc00ca",
        "colab": {
          "base_uri": "https://localhost:8080/"
        }
      },
      "outputs": [
        {
          "output_type": "execute_result",
          "data": {
            "text/plain": [
              "tensor([[2, 3, 4],\n",
              "        [5, 6, 7]])"
            ]
          },
          "metadata": {},
          "execution_count": 34
        }
      ],
      "source": [
        "tns+1"
      ]
    },
    {
      "cell_type": "code",
      "execution_count": 35,
      "metadata": {
        "id": "Drstbn-yKH9Y",
        "outputId": "b3774c45-bcb9-46c7-ad62-4d8248bca487",
        "colab": {
          "base_uri": "https://localhost:8080/",
          "height": 35
        }
      },
      "outputs": [
        {
          "output_type": "execute_result",
          "data": {
            "text/plain": [
              "'torch.LongTensor'"
            ],
            "application/vnd.google.colaboratory.intrinsic+json": {
              "type": "string"
            }
          },
          "metadata": {},
          "execution_count": 35
        }
      ],
      "source": [
        "tns.type()"
      ]
    },
    {
      "cell_type": "code",
      "execution_count": 36,
      "metadata": {
        "id": "HLQxqvcCKH9Y",
        "outputId": "27210a6e-be34-482a-84d6-26033ac9b0b6",
        "colab": {
          "base_uri": "https://localhost:8080/"
        }
      },
      "outputs": [
        {
          "output_type": "execute_result",
          "data": {
            "text/plain": [
              "tensor([[1.5000, 3.0000, 4.5000],\n",
              "        [6.0000, 7.5000, 9.0000]])"
            ]
          },
          "metadata": {},
          "execution_count": 36
        }
      ],
      "source": [
        "tns*1.5"
      ]
    },
    {
      "cell_type": "markdown",
      "metadata": {
        "id": "5Iy6LTLcKH9Y"
      },
      "source": [
        "## Computing Metrics Using Broadcasting"
      ]
    },
    {
      "cell_type": "code",
      "execution_count": null,
      "metadata": {
        "id": "wdSGCuWSKH9Y"
      },
      "outputs": [],
      "source": [
        "valid_3_tens = torch.stack([tensor(Image.open(o))\n",
        "                            for o in (path/'valid'/'3').ls()])\n",
        "valid_3_tens = valid_3_tens.float()/255\n",
        "valid_7_tens = torch.stack([tensor(Image.open(o))\n",
        "                            for o in (path/'valid'/'7').ls()])\n",
        "valid_7_tens = valid_7_tens.float()/255\n",
        "valid_3_tens.shape,valid_7_tens.shape"
      ]
    },
    {
      "cell_type": "code",
      "execution_count": null,
      "metadata": {
        "id": "15GnQFu5KH9Z"
      },
      "outputs": [],
      "source": [
        "def mnist_distance(a,b): return (a-b).abs().mean((-1,-2))\n",
        "mnist_distance(a_3, mean3)"
      ]
    },
    {
      "cell_type": "code",
      "execution_count": null,
      "metadata": {
        "id": "gvzTth5HKH9Z"
      },
      "outputs": [],
      "source": [
        "valid_3_dist = mnist_distance(valid_3_tens, mean3)\n",
        "valid_3_dist, valid_3_dist.shape"
      ]
    },
    {
      "cell_type": "code",
      "execution_count": null,
      "metadata": {
        "id": "kpBX-uX2KH9a"
      },
      "outputs": [],
      "source": [
        "tensor([1,2,3]) + tensor(1)"
      ]
    },
    {
      "cell_type": "code",
      "execution_count": null,
      "metadata": {
        "id": "jTt4OEJLKH9a"
      },
      "outputs": [],
      "source": [
        "(valid_3_tens-mean3).shape"
      ]
    },
    {
      "cell_type": "code",
      "execution_count": null,
      "metadata": {
        "id": "tUSJ1KTLKH9a"
      },
      "outputs": [],
      "source": [
        "def is_3(x): return mnist_distance(x,mean3) < mnist_distance(x,mean7)"
      ]
    },
    {
      "cell_type": "code",
      "execution_count": null,
      "metadata": {
        "id": "TRTuYht3KH9a"
      },
      "outputs": [],
      "source": [
        "is_3(a_3), is_3(a_3).float()"
      ]
    },
    {
      "cell_type": "code",
      "execution_count": null,
      "metadata": {
        "id": "bMKDKON_KH9b"
      },
      "outputs": [],
      "source": [
        "is_3(valid_3_tens)"
      ]
    },
    {
      "cell_type": "code",
      "execution_count": null,
      "metadata": {
        "id": "9myw24vlKH9b"
      },
      "outputs": [],
      "source": [
        "accuracy_3s =      is_3(valid_3_tens).float() .mean()\n",
        "accuracy_7s = (1 - is_3(valid_7_tens).float()).mean()\n",
        "\n",
        "accuracy_3s,accuracy_7s,(accuracy_3s+accuracy_7s)/2"
      ]
    },
    {
      "cell_type": "markdown",
      "metadata": {
        "id": "EOfcE9U6KH9b"
      },
      "source": [
        "## Stochastic Gradient Descent (SGD)"
      ]
    },
    {
      "cell_type": "code",
      "execution_count": null,
      "metadata": {
        "id": "cMwT0sFpKH9b"
      },
      "outputs": [],
      "source": [
        "gv('''\n",
        "init->predict->loss->gradient->step->stop\n",
        "step->predict[label=repeat]\n",
        "''')"
      ]
    },
    {
      "cell_type": "code",
      "execution_count": null,
      "metadata": {
        "id": "hyGQmJ8CKH9c"
      },
      "outputs": [],
      "source": [
        "def f(x): return x**2"
      ]
    },
    {
      "cell_type": "code",
      "execution_count": null,
      "metadata": {
        "id": "1V2wwTOTKH9c"
      },
      "outputs": [],
      "source": [
        "plot_function(f, 'x', 'x**2')"
      ]
    },
    {
      "cell_type": "code",
      "execution_count": null,
      "metadata": {
        "id": "PUOo3w4pKH9c"
      },
      "outputs": [],
      "source": [
        "plot_function(f, 'x', 'x**2')\n",
        "plt.scatter(-1.5, f(-1.5), color='red');"
      ]
    },
    {
      "cell_type": "markdown",
      "metadata": {
        "id": "t6r3KrcuKH9c"
      },
      "source": [
        "### Calculating Gradients"
      ]
    },
    {
      "cell_type": "code",
      "execution_count": null,
      "metadata": {
        "id": "u7yqVTKBKH9c"
      },
      "outputs": [],
      "source": [
        "xt = tensor(3.).requires_grad_()"
      ]
    },
    {
      "cell_type": "code",
      "execution_count": null,
      "metadata": {
        "id": "-GCusmftKH9c"
      },
      "outputs": [],
      "source": [
        "yt = f(xt)\n",
        "yt"
      ]
    },
    {
      "cell_type": "code",
      "execution_count": null,
      "metadata": {
        "id": "oYwycpVYKH9d"
      },
      "outputs": [],
      "source": [
        "yt.backward()"
      ]
    },
    {
      "cell_type": "code",
      "execution_count": null,
      "metadata": {
        "id": "k-xgmF_rKH9d"
      },
      "outputs": [],
      "source": [
        "xt.grad"
      ]
    },
    {
      "cell_type": "code",
      "execution_count": null,
      "metadata": {
        "id": "tJhEcK7SKH9d"
      },
      "outputs": [],
      "source": [
        "xt = tensor([3.,4.,10.]).requires_grad_()\n",
        "xt"
      ]
    },
    {
      "cell_type": "code",
      "execution_count": null,
      "metadata": {
        "id": "RnGRNX7EKH9d"
      },
      "outputs": [],
      "source": [
        "def f(x): return (x**2).sum()\n",
        "\n",
        "yt = f(xt)\n",
        "yt"
      ]
    },
    {
      "cell_type": "code",
      "execution_count": null,
      "metadata": {
        "id": "WsHkz1IQKH9d"
      },
      "outputs": [],
      "source": [
        "yt.backward()\n",
        "xt.grad"
      ]
    },
    {
      "cell_type": "markdown",
      "metadata": {
        "id": "WGvIaycEKH9d"
      },
      "source": [
        "### Stepping With a Learning Rate"
      ]
    },
    {
      "cell_type": "markdown",
      "metadata": {
        "id": "tyDwa6WuKH9e"
      },
      "source": [
        "### An End-to-End SGD Example"
      ]
    },
    {
      "cell_type": "code",
      "execution_count": null,
      "metadata": {
        "id": "4R3RmadGKH9e"
      },
      "outputs": [],
      "source": [
        "time = torch.arange(0,20).float(); time"
      ]
    },
    {
      "cell_type": "code",
      "execution_count": null,
      "metadata": {
        "id": "JURfM7azKH9e"
      },
      "outputs": [],
      "source": [
        "speed = torch.randn(20)*3 + 0.75*(time-9.5)**2 + 1\n",
        "plt.scatter(time,speed);"
      ]
    },
    {
      "cell_type": "code",
      "execution_count": null,
      "metadata": {
        "id": "bEKkHumRKH9e"
      },
      "outputs": [],
      "source": [
        "def f(t, params):\n",
        "    a,b,c = params\n",
        "    return a*(t**2) + (b*t) + c"
      ]
    },
    {
      "cell_type": "code",
      "execution_count": null,
      "metadata": {
        "id": "csdEuUfAKH9e"
      },
      "outputs": [],
      "source": [
        "def mse(preds, targets): return ((preds-targets)**2).mean()"
      ]
    },
    {
      "cell_type": "markdown",
      "metadata": {
        "id": "zNrbNg2fKH9f"
      },
      "source": [
        "#### Step 1: Initialize the parameters"
      ]
    },
    {
      "cell_type": "code",
      "execution_count": null,
      "metadata": {
        "id": "nabPKqTvKH9f"
      },
      "outputs": [],
      "source": [
        "params = torch.randn(3).requires_grad_()"
      ]
    },
    {
      "cell_type": "code",
      "execution_count": null,
      "metadata": {
        "id": "-HZ490J4KH9f"
      },
      "outputs": [],
      "source": [
        "#hide\n",
        "orig_params = params.clone()"
      ]
    },
    {
      "cell_type": "markdown",
      "metadata": {
        "id": "w7-AnidiKH9f"
      },
      "source": [
        "#### Step 2: Calculate the predictions"
      ]
    },
    {
      "cell_type": "code",
      "execution_count": null,
      "metadata": {
        "id": "fGugiptsKH9f"
      },
      "outputs": [],
      "source": [
        "preds = f(time, params)"
      ]
    },
    {
      "cell_type": "code",
      "execution_count": null,
      "metadata": {
        "id": "50BL8wZ7KH9f"
      },
      "outputs": [],
      "source": [
        "def show_preds(preds, ax=None):\n",
        "    if ax is None: ax=plt.subplots()[1]\n",
        "    ax.scatter(time, speed)\n",
        "    ax.scatter(time, to_np(preds), color='red')\n",
        "    ax.set_ylim(-300,100)"
      ]
    },
    {
      "cell_type": "code",
      "execution_count": null,
      "metadata": {
        "id": "vKZj9MyLKH9g"
      },
      "outputs": [],
      "source": [
        "show_preds(preds)"
      ]
    },
    {
      "cell_type": "markdown",
      "metadata": {
        "id": "xhuykDOzKH9g"
      },
      "source": [
        "#### Step 3: Calculate the loss"
      ]
    },
    {
      "cell_type": "code",
      "execution_count": null,
      "metadata": {
        "id": "r_CDeIp6KH9g"
      },
      "outputs": [],
      "source": [
        "loss = mse(preds, speed)\n",
        "loss"
      ]
    },
    {
      "cell_type": "markdown",
      "metadata": {
        "id": "ZcKdhfnvKH9g"
      },
      "source": [
        "#### Step 4: Calculate the gradients"
      ]
    },
    {
      "cell_type": "code",
      "execution_count": null,
      "metadata": {
        "id": "Cj72ZMukKH9g"
      },
      "outputs": [],
      "source": [
        "loss.backward()\n",
        "params.grad"
      ]
    },
    {
      "cell_type": "code",
      "execution_count": null,
      "metadata": {
        "id": "36a0sJPCKH9h"
      },
      "outputs": [],
      "source": [
        "params.grad * 1e-5"
      ]
    },
    {
      "cell_type": "code",
      "execution_count": null,
      "metadata": {
        "id": "Ik6c9SQEKH9h"
      },
      "outputs": [],
      "source": [
        "params"
      ]
    },
    {
      "cell_type": "markdown",
      "metadata": {
        "id": "q5K1e3J1KH9i"
      },
      "source": [
        "#### Step 5: Step the weights."
      ]
    },
    {
      "cell_type": "code",
      "execution_count": null,
      "metadata": {
        "id": "X4n8-1KwKH9i"
      },
      "outputs": [],
      "source": [
        "lr = 1e-5\n",
        "params.data -= lr * params.grad.data\n",
        "params.grad = None"
      ]
    },
    {
      "cell_type": "code",
      "execution_count": null,
      "metadata": {
        "id": "MJSrQ3qsKH9i"
      },
      "outputs": [],
      "source": [
        "preds = f(time,params)\n",
        "mse(preds, speed)"
      ]
    },
    {
      "cell_type": "code",
      "execution_count": null,
      "metadata": {
        "id": "511aNQ6tKH9i"
      },
      "outputs": [],
      "source": [
        "show_preds(preds)"
      ]
    },
    {
      "cell_type": "code",
      "execution_count": null,
      "metadata": {
        "id": "b3Fjepl4KH9j"
      },
      "outputs": [],
      "source": [
        "def apply_step(params, prn=True):\n",
        "    preds = f(time, params)\n",
        "    loss = mse(preds, speed)\n",
        "    loss.backward()\n",
        "    params.data -= lr * params.grad.data\n",
        "    params.grad = None\n",
        "    if prn: print(loss.item())\n",
        "    return preds"
      ]
    },
    {
      "cell_type": "markdown",
      "metadata": {
        "id": "7ErbKE2mKH9j"
      },
      "source": [
        "#### Step 6: Repeat the process"
      ]
    },
    {
      "cell_type": "code",
      "execution_count": null,
      "metadata": {
        "id": "Q39GT8lEKH9j"
      },
      "outputs": [],
      "source": [
        "for i in range(10): apply_step(params)"
      ]
    },
    {
      "cell_type": "code",
      "execution_count": null,
      "metadata": {
        "id": "SiFRDgzhKH9j"
      },
      "outputs": [],
      "source": [
        "#hide\n",
        "params = orig_params.detach().requires_grad_()"
      ]
    },
    {
      "cell_type": "code",
      "execution_count": null,
      "metadata": {
        "id": "YzUEjt9cKH9j"
      },
      "outputs": [],
      "source": [
        "_,axs = plt.subplots(1,4,figsize=(12,3))\n",
        "for ax in axs: show_preds(apply_step(params, False), ax)\n",
        "plt.tight_layout()"
      ]
    },
    {
      "cell_type": "markdown",
      "metadata": {
        "id": "bREtdedDKH9j"
      },
      "source": [
        "#### Step 7: stop"
      ]
    },
    {
      "cell_type": "markdown",
      "metadata": {
        "id": "cJMJRebxKH9k"
      },
      "source": [
        "### Summarizing Gradient Descent"
      ]
    },
    {
      "cell_type": "code",
      "execution_count": null,
      "metadata": {
        "id": "PEY5YRDyKH9k"
      },
      "outputs": [],
      "source": [
        "gv('''\n",
        "init->predict->loss->gradient->step->stop\n",
        "step->predict[label=repeat]\n",
        "''')"
      ]
    },
    {
      "cell_type": "markdown",
      "metadata": {
        "id": "B8EX1X2GKH9k"
      },
      "source": [
        "## The MNIST Loss Function"
      ]
    },
    {
      "cell_type": "code",
      "execution_count": null,
      "metadata": {
        "id": "HSilcFW1KH9k"
      },
      "outputs": [],
      "source": [
        "train_x = torch.cat([stacked_threes, stacked_sevens]).view(-1, 28*28)"
      ]
    },
    {
      "cell_type": "code",
      "execution_count": null,
      "metadata": {
        "id": "t7_Omy70KH9k"
      },
      "outputs": [],
      "source": [
        "train_y = tensor([1]*len(threes) + [0]*len(sevens)).unsqueeze(1)\n",
        "train_x.shape,train_y.shape"
      ]
    },
    {
      "cell_type": "code",
      "execution_count": null,
      "metadata": {
        "id": "rtdt2TQSKH9k"
      },
      "outputs": [],
      "source": [
        "dset = list(zip(train_x,train_y))\n",
        "x,y = dset[0]\n",
        "x.shape,y"
      ]
    },
    {
      "cell_type": "code",
      "execution_count": null,
      "metadata": {
        "id": "5WCPqZkFKH9l"
      },
      "outputs": [],
      "source": [
        "valid_x = torch.cat([valid_3_tens, valid_7_tens]).view(-1, 28*28)\n",
        "valid_y = tensor([1]*len(valid_3_tens) + [0]*len(valid_7_tens)).unsqueeze(1)\n",
        "valid_dset = list(zip(valid_x,valid_y))"
      ]
    },
    {
      "cell_type": "code",
      "execution_count": null,
      "metadata": {
        "id": "-hkbNN1cKH9l"
      },
      "outputs": [],
      "source": [
        "def init_params(size, std=1.0): return (torch.randn(size)*std).requires_grad_()"
      ]
    },
    {
      "cell_type": "code",
      "execution_count": null,
      "metadata": {
        "id": "LMUcRUNUKH9l"
      },
      "outputs": [],
      "source": [
        "weights = init_params((28*28,1))"
      ]
    },
    {
      "cell_type": "code",
      "execution_count": null,
      "metadata": {
        "id": "wblZsFKGKH9l"
      },
      "outputs": [],
      "source": [
        "bias = init_params(1)"
      ]
    },
    {
      "cell_type": "code",
      "execution_count": null,
      "metadata": {
        "id": "tADsZX1uKH9l"
      },
      "outputs": [],
      "source": [
        "(train_x[0]*weights.T).sum() + bias"
      ]
    },
    {
      "cell_type": "code",
      "execution_count": null,
      "metadata": {
        "id": "pR1gh4qyKH9m"
      },
      "outputs": [],
      "source": [
        "def linear1(xb): return xb@weights + bias\n",
        "preds = linear1(train_x)\n",
        "preds"
      ]
    },
    {
      "cell_type": "code",
      "execution_count": null,
      "metadata": {
        "id": "w_AScBCMKH9m"
      },
      "outputs": [],
      "source": [
        "corrects = (preds>0.0).float() == train_y\n",
        "corrects"
      ]
    },
    {
      "cell_type": "code",
      "execution_count": null,
      "metadata": {
        "id": "JL0Yd07NKH9m"
      },
      "outputs": [],
      "source": [
        "corrects.float().mean().item()"
      ]
    },
    {
      "cell_type": "code",
      "execution_count": null,
      "metadata": {
        "id": "qEAMZQMaKH9m"
      },
      "outputs": [],
      "source": [
        "with torch.no_grad(): weights[0] *= 1.0001"
      ]
    },
    {
      "cell_type": "code",
      "execution_count": null,
      "metadata": {
        "id": "OCqX2i17KH9m"
      },
      "outputs": [],
      "source": [
        "preds = linear1(train_x)\n",
        "((preds>0.0).float() == train_y).float().mean().item()"
      ]
    },
    {
      "cell_type": "code",
      "execution_count": null,
      "metadata": {
        "id": "ged4MveBKH9m"
      },
      "outputs": [],
      "source": [
        "trgts  = tensor([1,0,1])\n",
        "prds   = tensor([0.9, 0.4, 0.2])"
      ]
    },
    {
      "cell_type": "code",
      "execution_count": null,
      "metadata": {
        "id": "iyVk2J-EKH9n"
      },
      "outputs": [],
      "source": [
        "def mnist_loss(predictions, targets):\n",
        "    return torch.where(targets==1, 1-predictions, predictions).mean()"
      ]
    },
    {
      "cell_type": "code",
      "execution_count": null,
      "metadata": {
        "id": "zU1to9YpKH9n"
      },
      "outputs": [],
      "source": [
        "torch.where(trgts==1, 1-prds, prds)"
      ]
    },
    {
      "cell_type": "code",
      "execution_count": null,
      "metadata": {
        "id": "TXP3MIFoKH9n"
      },
      "outputs": [],
      "source": [
        "mnist_loss(prds,trgts)"
      ]
    },
    {
      "cell_type": "code",
      "execution_count": null,
      "metadata": {
        "id": "BZUJuggmKH9n"
      },
      "outputs": [],
      "source": [
        "mnist_loss(tensor([0.9, 0.4, 0.8]),trgts)"
      ]
    },
    {
      "cell_type": "markdown",
      "metadata": {
        "id": "geoYKHzbKH9n"
      },
      "source": [
        "### Sigmoid"
      ]
    },
    {
      "cell_type": "code",
      "execution_count": null,
      "metadata": {
        "id": "ZSzPvKD5KH9n"
      },
      "outputs": [],
      "source": [
        "def sigmoid(x): return 1/(1+torch.exp(-x))"
      ]
    },
    {
      "cell_type": "code",
      "execution_count": null,
      "metadata": {
        "id": "nyF5tTPfKH9o"
      },
      "outputs": [],
      "source": [
        "plot_function(torch.sigmoid, title='Sigmoid', min=-4, max=4)"
      ]
    },
    {
      "cell_type": "code",
      "execution_count": null,
      "metadata": {
        "id": "avHU88N4KH9o"
      },
      "outputs": [],
      "source": [
        "def mnist_loss(predictions, targets):\n",
        "    predictions = predictions.sigmoid()\n",
        "    return torch.where(targets==1, 1-predictions, predictions).mean()"
      ]
    },
    {
      "cell_type": "markdown",
      "metadata": {
        "id": "8lKo8AtUKH9o"
      },
      "source": [
        "### SGD and Mini-Batches"
      ]
    },
    {
      "cell_type": "code",
      "execution_count": null,
      "metadata": {
        "id": "fxQJK_7vKH9o"
      },
      "outputs": [],
      "source": [
        "coll = range(15)\n",
        "dl = DataLoader(coll, batch_size=5, shuffle=True)\n",
        "list(dl)"
      ]
    },
    {
      "cell_type": "code",
      "execution_count": null,
      "metadata": {
        "id": "9CeDNqVeKH9o"
      },
      "outputs": [],
      "source": [
        "ds = L(enumerate(string.ascii_lowercase))\n",
        "ds"
      ]
    },
    {
      "cell_type": "code",
      "execution_count": null,
      "metadata": {
        "id": "n7JV5oU_KH9o"
      },
      "outputs": [],
      "source": [
        "dl = DataLoader(ds, batch_size=6, shuffle=True)\n",
        "list(dl)"
      ]
    },
    {
      "cell_type": "markdown",
      "metadata": {
        "id": "hIoWYA3jKH9o"
      },
      "source": [
        "## Putting It All Together"
      ]
    },
    {
      "cell_type": "code",
      "execution_count": null,
      "metadata": {
        "id": "fWHoUM1OKH9p"
      },
      "outputs": [],
      "source": [
        "weights = init_params((28*28,1))\n",
        "bias = init_params(1)"
      ]
    },
    {
      "cell_type": "code",
      "execution_count": null,
      "metadata": {
        "id": "MxrPhMrcKH9p"
      },
      "outputs": [],
      "source": [
        "dl = DataLoader(dset, batch_size=256)\n",
        "xb,yb = first(dl)\n",
        "xb.shape,yb.shape"
      ]
    },
    {
      "cell_type": "code",
      "execution_count": null,
      "metadata": {
        "id": "S8sQrdX2KH9p"
      },
      "outputs": [],
      "source": [
        "valid_dl = DataLoader(valid_dset, batch_size=256)"
      ]
    },
    {
      "cell_type": "code",
      "execution_count": null,
      "metadata": {
        "id": "o2pZeGgFKH9p"
      },
      "outputs": [],
      "source": [
        "batch = train_x[:4]\n",
        "batch.shape"
      ]
    },
    {
      "cell_type": "code",
      "execution_count": null,
      "metadata": {
        "id": "-qg7dnBRKH9q"
      },
      "outputs": [],
      "source": [
        "preds = linear1(batch)\n",
        "preds"
      ]
    },
    {
      "cell_type": "code",
      "execution_count": null,
      "metadata": {
        "id": "tVkbQhDkKH9q"
      },
      "outputs": [],
      "source": [
        "loss = mnist_loss(preds, train_y[:4])\n",
        "loss"
      ]
    },
    {
      "cell_type": "code",
      "execution_count": null,
      "metadata": {
        "id": "DlElClZzKH9q"
      },
      "outputs": [],
      "source": [
        "loss.backward()\n",
        "weights.grad.shape,weights.grad.mean(),bias.grad"
      ]
    },
    {
      "cell_type": "code",
      "execution_count": null,
      "metadata": {
        "id": "gZaNA-uZKH9r"
      },
      "outputs": [],
      "source": [
        "def calc_grad(xb, yb, model):\n",
        "    preds = model(xb)\n",
        "    loss = mnist_loss(preds, yb)\n",
        "    loss.backward()"
      ]
    },
    {
      "cell_type": "code",
      "execution_count": null,
      "metadata": {
        "id": "47Pzti-SKH9r"
      },
      "outputs": [],
      "source": [
        "calc_grad(batch, train_y[:4], linear1)\n",
        "weights.grad.mean(),bias.grad"
      ]
    },
    {
      "cell_type": "code",
      "execution_count": null,
      "metadata": {
        "id": "WbWyhmhFKH9r"
      },
      "outputs": [],
      "source": [
        "calc_grad(batch, train_y[:4], linear1)\n",
        "weights.grad.mean(),bias.grad"
      ]
    },
    {
      "cell_type": "code",
      "execution_count": null,
      "metadata": {
        "id": "1oy-o4a5KH9r"
      },
      "outputs": [],
      "source": [
        "weights.grad.zero_()\n",
        "bias.grad.zero_();"
      ]
    },
    {
      "cell_type": "code",
      "execution_count": null,
      "metadata": {
        "id": "xH8KpgEkKH9r"
      },
      "outputs": [],
      "source": [
        "def train_epoch(model, lr, params):\n",
        "    for xb,yb in dl:\n",
        "        calc_grad(xb, yb, model)\n",
        "        for p in params:\n",
        "            p.data -= p.grad*lr\n",
        "            p.grad.zero_()"
      ]
    },
    {
      "cell_type": "code",
      "execution_count": null,
      "metadata": {
        "id": "xaw2XetEKH9s"
      },
      "outputs": [],
      "source": [
        "(preds>0.0).float() == train_y[:4]"
      ]
    },
    {
      "cell_type": "code",
      "execution_count": null,
      "metadata": {
        "id": "Z2gZjeSpKH9s"
      },
      "outputs": [],
      "source": [
        "def batch_accuracy(xb, yb):\n",
        "    preds = xb.sigmoid()\n",
        "    correct = (preds>0.5) == yb\n",
        "    return correct.float().mean()"
      ]
    },
    {
      "cell_type": "code",
      "execution_count": null,
      "metadata": {
        "id": "_BsZSFfoKH9s"
      },
      "outputs": [],
      "source": [
        "batch_accuracy(linear1(batch), train_y[:4])"
      ]
    },
    {
      "cell_type": "code",
      "execution_count": null,
      "metadata": {
        "id": "hFLao9znKH9s"
      },
      "outputs": [],
      "source": [
        "def validate_epoch(model):\n",
        "    accs = [batch_accuracy(model(xb), yb) for xb,yb in valid_dl]\n",
        "    return round(torch.stack(accs).mean().item(), 4)"
      ]
    },
    {
      "cell_type": "code",
      "execution_count": null,
      "metadata": {
        "id": "MSstPIbWKH9s"
      },
      "outputs": [],
      "source": [
        "validate_epoch(linear1)"
      ]
    },
    {
      "cell_type": "code",
      "execution_count": null,
      "metadata": {
        "id": "WZC_m9ngKH9s"
      },
      "outputs": [],
      "source": [
        "lr = 1.\n",
        "params = weights,bias\n",
        "train_epoch(linear1, lr, params)\n",
        "validate_epoch(linear1)"
      ]
    },
    {
      "cell_type": "code",
      "execution_count": null,
      "metadata": {
        "id": "XBO2K88KKH9t"
      },
      "outputs": [],
      "source": [
        "for i in range(20):\n",
        "    train_epoch(linear1, lr, params)\n",
        "    print(validate_epoch(linear1), end=' ')"
      ]
    },
    {
      "cell_type": "markdown",
      "metadata": {
        "id": "GBF6cjtnKH9t"
      },
      "source": [
        "### Creating an Optimizer"
      ]
    },
    {
      "cell_type": "code",
      "execution_count": null,
      "metadata": {
        "id": "R76YJ59eKH9t"
      },
      "outputs": [],
      "source": [
        "linear_model = nn.Linear(28*28,1)"
      ]
    },
    {
      "cell_type": "code",
      "execution_count": null,
      "metadata": {
        "id": "ttRZFKrHKH9t"
      },
      "outputs": [],
      "source": [
        "w,b = linear_model.parameters()\n",
        "w.shape,b.shape"
      ]
    },
    {
      "cell_type": "code",
      "execution_count": null,
      "metadata": {
        "id": "3pkUQ5TrKH9y"
      },
      "outputs": [],
      "source": [
        "class BasicOptim:\n",
        "    def __init__(self,params,lr): self.params,self.lr = list(params),lr\n",
        "\n",
        "    def step(self, *args, **kwargs):\n",
        "        for p in self.params: p.data -= p.grad.data * self.lr\n",
        "\n",
        "    def zero_grad(self, *args, **kwargs):\n",
        "        for p in self.params: p.grad = None"
      ]
    },
    {
      "cell_type": "code",
      "execution_count": null,
      "metadata": {
        "id": "92kqRnqEKH9y"
      },
      "outputs": [],
      "source": [
        "opt = BasicOptim(linear_model.parameters(), lr)"
      ]
    },
    {
      "cell_type": "code",
      "execution_count": null,
      "metadata": {
        "id": "L7Pyfd6LKH9z"
      },
      "outputs": [],
      "source": [
        "def train_epoch(model):\n",
        "    for xb,yb in dl:\n",
        "        calc_grad(xb, yb, model)\n",
        "        opt.step()\n",
        "        opt.zero_grad()"
      ]
    },
    {
      "cell_type": "code",
      "execution_count": null,
      "metadata": {
        "id": "SLq88v2eKH9z"
      },
      "outputs": [],
      "source": [
        "validate_epoch(linear_model)"
      ]
    },
    {
      "cell_type": "code",
      "execution_count": null,
      "metadata": {
        "id": "CkV3ygBTKH9z"
      },
      "outputs": [],
      "source": [
        "def train_model(model, epochs):\n",
        "    for i in range(epochs):\n",
        "        train_epoch(model)\n",
        "        print(validate_epoch(model), end=' ')"
      ]
    },
    {
      "cell_type": "code",
      "execution_count": null,
      "metadata": {
        "id": "GPCHPuYAKH9z"
      },
      "outputs": [],
      "source": [
        "train_model(linear_model, 20)"
      ]
    },
    {
      "cell_type": "code",
      "execution_count": null,
      "metadata": {
        "id": "HEXQ8x7WKH9z"
      },
      "outputs": [],
      "source": [
        "linear_model = nn.Linear(28*28,1)\n",
        "opt = SGD(linear_model.parameters(), lr)\n",
        "train_model(linear_model, 20)"
      ]
    },
    {
      "cell_type": "code",
      "execution_count": null,
      "metadata": {
        "id": "c0gbvdFhKH90"
      },
      "outputs": [],
      "source": [
        "dls = DataLoaders(dl, valid_dl)"
      ]
    },
    {
      "cell_type": "code",
      "execution_count": null,
      "metadata": {
        "id": "0ILM9xBoKH90"
      },
      "outputs": [],
      "source": [
        "learn = Learner(dls, nn.Linear(28*28,1), opt_func=SGD,\n",
        "                loss_func=mnist_loss, metrics=batch_accuracy)"
      ]
    },
    {
      "cell_type": "code",
      "execution_count": null,
      "metadata": {
        "id": "ySYegvRhKH90"
      },
      "outputs": [],
      "source": [
        "learn.fit(10, lr=lr)"
      ]
    },
    {
      "cell_type": "markdown",
      "metadata": {
        "id": "K7T8jNzNKH90"
      },
      "source": [
        "## Adding a Nonlinearity"
      ]
    },
    {
      "cell_type": "code",
      "execution_count": null,
      "metadata": {
        "id": "_XIyMfmRKH90"
      },
      "outputs": [],
      "source": [
        "def simple_net(xb):\n",
        "    res = xb@w1 + b1\n",
        "    res = res.max(tensor(0.0))\n",
        "    res = res@w2 + b2\n",
        "    return res"
      ]
    },
    {
      "cell_type": "code",
      "execution_count": null,
      "metadata": {
        "id": "pirzUsk6KH91"
      },
      "outputs": [],
      "source": [
        "w1 = init_params((28*28,30))\n",
        "b1 = init_params(30)\n",
        "w2 = init_params((30,1))\n",
        "b2 = init_params(1)"
      ]
    },
    {
      "cell_type": "code",
      "execution_count": null,
      "metadata": {
        "id": "HLCKI6lpKH91"
      },
      "outputs": [],
      "source": [
        "plot_function(F.relu)"
      ]
    },
    {
      "cell_type": "code",
      "execution_count": null,
      "metadata": {
        "id": "TyKOsSQsKH91"
      },
      "outputs": [],
      "source": [
        "simple_net = nn.Sequential(\n",
        "    nn.Linear(28*28,30),\n",
        "    nn.ReLU(),\n",
        "    nn.Linear(30,1)\n",
        ")"
      ]
    },
    {
      "cell_type": "code",
      "execution_count": null,
      "metadata": {
        "id": "6bxT_0SlKH91"
      },
      "outputs": [],
      "source": [
        "learn = Learner(dls, simple_net, opt_func=SGD,\n",
        "                loss_func=mnist_loss, metrics=batch_accuracy)"
      ]
    },
    {
      "cell_type": "code",
      "execution_count": null,
      "metadata": {
        "id": "5UvMr8OdKH92"
      },
      "outputs": [],
      "source": [
        "learn.fit(40, 0.1)"
      ]
    },
    {
      "cell_type": "code",
      "execution_count": null,
      "metadata": {
        "id": "vs_kQ2QlKH92"
      },
      "outputs": [],
      "source": [
        "plt.plot(L(learn.recorder.values).itemgot(2));"
      ]
    },
    {
      "cell_type": "code",
      "execution_count": null,
      "metadata": {
        "id": "0SfPWyaZKH92"
      },
      "outputs": [],
      "source": [
        "learn.recorder.values[-1][2]"
      ]
    },
    {
      "cell_type": "markdown",
      "metadata": {
        "id": "DBP4nU2FKH92"
      },
      "source": [
        "### Going Deeper"
      ]
    },
    {
      "cell_type": "code",
      "execution_count": null,
      "metadata": {
        "id": "fccV2f9cKH92"
      },
      "outputs": [],
      "source": [
        "dls = ImageDataLoaders.from_folder(path)\n",
        "learn = vision_learner(dls, resnet18, pretrained=False,\n",
        "                    loss_func=F.cross_entropy, metrics=accuracy)\n",
        "learn.fit_one_cycle(1, 0.1)"
      ]
    },
    {
      "cell_type": "markdown",
      "metadata": {
        "id": "e0qbbOTdKH92"
      },
      "source": [
        "## Jargon Recap"
      ]
    },
    {
      "cell_type": "markdown",
      "metadata": {
        "id": "nK41_JSNKH92"
      },
      "source": [
        "## Questionnaire"
      ]
    },
    {
      "cell_type": "markdown",
      "metadata": {
        "id": "lwNbYj7vKH93"
      },
      "source": [
        "1. How is a grayscale image represented on a computer? How about a color image?\n",
        "1. How are the files and folders in the `MNIST_SAMPLE` dataset structured? Why?\n",
        "1. Explain how the \"pixel similarity\" approach to classifying digits works.\n",
        "1. What is a list comprehension? Create one now that selects odd numbers from a list and doubles them.\n",
        "1. What is a \"rank-3 tensor\"?\n",
        "1. What is the difference between tensor rank and shape? How do you get the rank from the shape?\n",
        "1. What are RMSE and L1 norm?\n",
        "1. How can you apply a calculation on thousands of numbers at once, many thousands of times faster than a Python loop?\n",
        "1. Create a 3×3 tensor or array containing the numbers from 1 to 9. Double it. Select the bottom-right four numbers.\n",
        "1. What is broadcasting?\n",
        "1. Are metrics generally calculated using the training set, or the validation set? Why?\n",
        "1. What is SGD?\n",
        "1. Why does SGD use mini-batches?\n",
        "1. What are the seven steps in SGD for machine learning?\n",
        "1. How do we initialize the weights in a model?\n",
        "1. What is \"loss\"?\n",
        "1. Why can't we always use a high learning rate?\n",
        "1. What is a \"gradient\"?\n",
        "1. Do you need to know how to calculate gradients yourself?\n",
        "1. Why can't we use accuracy as a loss function?\n",
        "1. Draw the sigmoid function. What is special about its shape?\n",
        "1. What is the difference between a loss function and a metric?\n",
        "1. What is the function to calculate new weights using a learning rate?\n",
        "1. What does the `DataLoader` class do?\n",
        "1. Write pseudocode showing the basic steps taken in each epoch for SGD.\n",
        "1. Create a function that, if passed two arguments `[1,2,3,4]` and `'abcd'`, returns `[(1, 'a'), (2, 'b'), (3, 'c'), (4, 'd')]`. What is special about that output data structure?\n",
        "1. What does `view` do in PyTorch?\n",
        "1. What are the \"bias\" parameters in a neural network? Why do we need them?\n",
        "1. What does the `@` operator do in Python?\n",
        "1. What does the `backward` method do?\n",
        "1. Why do we have to zero the gradients?\n",
        "1. What information do we have to pass to `Learner`?\n",
        "1. Show Python or pseudocode for the basic steps of a training loop.\n",
        "1. What is \"ReLU\"? Draw a plot of it for values from `-2` to `+2`.\n",
        "1. What is an \"activation function\"?\n",
        "1. What's the difference between `F.relu` and `nn.ReLU`?\n",
        "1. The universal approximation theorem shows that any function can be approximated as closely as needed using just one nonlinearity. So why do we normally use more?"
      ]
    },
    {
      "cell_type": "markdown",
      "metadata": {
        "id": "yt_RHOkTKH93"
      },
      "source": [
        "### Further Research"
      ]
    },
    {
      "cell_type": "markdown",
      "metadata": {
        "id": "6B8jZeQFKH93"
      },
      "source": [
        "1. Create your own implementation of `Learner` from scratch, based on the training loop shown in this chapter.\n",
        "1. Complete all the steps in this chapter using the full MNIST datasets (that is, for all digits, not just 3s and 7s). This is a significant project and will take you quite a bit of time to complete! You'll need to do some of your own research to figure out how to overcome some obstacles you'll meet on the way."
      ]
    },
    {
      "cell_type": "code",
      "execution_count": null,
      "metadata": {
        "id": "3_TMUpTVKH94"
      },
      "outputs": [],
      "source": []
    }
  ],
  "metadata": {
    "jupytext": {
      "split_at_heading": true
    },
    "kernelspec": {
      "display_name": "Python 3",
      "name": "python3"
    },
    "colab": {
      "provenance": [],
      "gpuType": "T4"
    },
    "accelerator": "GPU"
  },
  "nbformat": 4,
  "nbformat_minor": 0
}